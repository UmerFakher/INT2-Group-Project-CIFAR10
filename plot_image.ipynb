{
 "metadata": {
  "language_info": {
   "codemirror_mode": {
    "name": "ipython",
    "version": 3
   },
   "file_extension": ".py",
   "mimetype": "text/x-python",
   "name": "python",
   "nbconvert_exporter": "python",
   "pygments_lexer": "ipython3",
   "version": "3.7.3"
  },
  "orig_nbformat": 2,
  "kernelspec": {
   "name": "python373jvsc74a57bd07a47bf6e4dce792c65a7d49caf54e729a54726c5dc0326382809f81559c32857",
   "display_name": "Python 3.7.3 64-bit ('base': conda)"
  }
 },
 "nbformat": 4,
 "nbformat_minor": 2,
 "cells": [
  {
   "cell_type": "code",
   "execution_count": 84,
   "metadata": {},
   "outputs": [],
   "source": [
    "import File_Manager_Tar_Gz as fm"
   ]
  },
  {
   "cell_type": "code",
   "execution_count": 85,
   "metadata": {},
   "outputs": [
    {
     "output_type": "stream",
     "name": "stdout",
     "text": [
      "File download as cifar-10-python.tar.gz\n",
      "True\n",
      "File extracted as folder cifar-10-batches-py/\n",
      "True\n"
     ]
    }
   ],
   "source": [
    "file_name = \"cifar-10-python.tar.gz\"\n",
    "website_link = \"https://www.cs.toronto.edu/~kriz/cifar-10-python.tar.gz\"\n",
    "\n",
    "print(fm.download_file_tar_gz(dataset_link=website_link, dataset_file_name=file_name))\n",
    "print(fm.open_file_tar_gz(file_name))"
   ]
  },
  {
   "cell_type": "code",
   "execution_count": 86,
   "metadata": {},
   "outputs": [],
   "source": [
    "batch_file = \"cifar-10-batches-py/data_batch_1\"\n",
    "dico = fm.unpickle(batch_file)\n"
   ]
  },
  {
   "cell_type": "code",
   "execution_count": 87,
   "metadata": {},
   "outputs": [
    {
     "output_type": "execute_result",
     "data": {
      "text/plain": [
       "dict_keys([b'batch_label', b'labels', b'data', b'filenames'])"
      ]
     },
     "metadata": {},
     "execution_count": 87
    }
   ],
   "source": [
    "dico.keys()"
   ]
  },
  {
   "cell_type": "code",
   "execution_count": 88,
   "metadata": {},
   "outputs": [],
   "source": [
    "xb1 = dico[b'data'] # X Training data batch 1\n",
    "yb1 = dico[b'labels'] # Y Labels batch 1"
   ]
  },
  {
   "cell_type": "code",
   "execution_count": 89,
   "metadata": {},
   "outputs": [
    {
     "output_type": "execute_result",
     "data": {
      "text/plain": [
       "array([[ 59,  43,  50, ..., 140,  84,  72],\n",
       "       [154, 126, 105, ..., 139, 142, 144],\n",
       "       [255, 253, 253, ...,  83,  83,  84],\n",
       "       [ 28,  37,  38, ...,  28,  37,  46],\n",
       "       [170, 168, 177, ...,  82,  78,  80]], dtype=uint8)"
      ]
     },
     "metadata": {},
     "execution_count": 89
    }
   ],
   "source": [
    "xb1[0:5]"
   ]
  },
  {
   "cell_type": "code",
   "execution_count": 90,
   "metadata": {},
   "outputs": [
    {
     "output_type": "execute_result",
     "data": {
      "text/plain": [
       "(10000, 3072)"
      ]
     },
     "metadata": {},
     "execution_count": 90
    }
   ],
   "source": [
    "xb1.shape   #10000 labels as it is batch 1 of 5 ie 10000 out of 50000 images"
   ]
  },
  {
   "cell_type": "code",
   "execution_count": 91,
   "metadata": {},
   "outputs": [
    {
     "output_type": "execute_result",
     "data": {
      "text/plain": [
       "(3072,)"
      ]
     },
     "metadata": {},
     "execution_count": 91
    }
   ],
   "source": [
    "xb1[0].shape # 32 x 32 pixels image # 3 colour depth \n",
    "# 32*32*3 = 3072"
   ]
  },
  {
   "cell_type": "code",
   "execution_count": 92,
   "metadata": {},
   "outputs": [
    {
     "output_type": "execute_result",
     "data": {
      "text/plain": [
       "[6, 9, 9, 4, 1]"
      ]
     },
     "metadata": {},
     "execution_count": 92
    }
   ],
   "source": [
    "yb1[0:5] # labels"
   ]
  },
  {
   "cell_type": "code",
   "execution_count": 93,
   "metadata": {},
   "outputs": [
    {
     "output_type": "execute_result",
     "data": {
      "text/plain": [
       "10000"
      ]
     },
     "metadata": {},
     "execution_count": 93
    }
   ],
   "source": [
    "len(yb1) # list   10000 labels for the 10000 images in batch 1"
   ]
  },
  {
   "cell_type": "code",
   "execution_count": 94,
   "metadata": {},
   "outputs": [
    {
     "output_type": "stream",
     "name": "stdout",
     "text": [
      "Training set min: 0, max: 255\nLabels min: 0, max: 9\n"
     ]
    }
   ],
   "source": [
    "print(\"Training set min: {}, max: {}\".format(xb1.min(), xb1.max())) # xb1 is numpy array 0 to 255 rgb\n",
    "print(\"Labels min: {}, max: {}\".format(min(yb1), max(yb1))) # yb1 is a list 0 to 9"
   ]
  },
  {
   "cell_type": "code",
   "execution_count": 95,
   "metadata": {},
   "outputs": [],
   "source": [
    "# Therefore normalise this data between 0 and 1 to make it easier for plotting\n",
    "xb1_normalised = xb1 / xb1.max()"
   ]
  },
  {
   "cell_type": "code",
   "execution_count": 96,
   "metadata": {},
   "outputs": [],
   "source": [
    "# imports for plotting\n",
    "import matplotlib.pyplot as plt, matplotlib.image as mpimg"
   ]
  },
  {
   "cell_type": "code",
   "execution_count": 97,
   "metadata": {},
   "outputs": [],
   "source": [
    "# From cifar-10 https://www.cs.toronto.edu/~kriz/cifar.html our 10 classes\n",
    "label_classes = [\"airplane\",\t\t\t\t\t\t\t\t\t\t\n",
    "\"automobile\",\t\t\t\t\t\t\t\t\t\t\n",
    "\"bird\",\t\t\t\t\t\t\t\t\t\t\n",
    "\"cat\",\t\t\t\t\t\t\t\t\t\n",
    "\"deer\",\t\t\t\t\t\t\t\t\t\t\n",
    "\"dog\",\t\t\t\t\t\t\t\t\t\t\n",
    "\"frog\",\t\t\t\t\t\t\t\t\t\t\n",
    "\"horse\",\t\t\t\t\t\t\t\t\t\t\n",
    "\"ship\",\t\t\t\t\t\t\t\t\t\t\n",
    "\"truck\"]"
   ]
  },
  {
   "cell_type": "code",
   "execution_count": 119,
   "metadata": {},
   "outputs": [
    {
     "output_type": "stream",
     "name": "stdout",
     "text": [
      "6 frog\n"
     ]
    },
    {
     "output_type": "execute_result",
     "data": {
      "text/plain": [
       "<matplotlib.image.AxesImage at 0x2bfc33613c8>"
      ]
     },
     "metadata": {},
     "execution_count": 119
    },
    {
     "output_type": "display_data",
     "data": {
      "text/plain": "<Figure size 432x288 with 1 Axes>",
      "image/svg+xml": "<?xml version=\"1.0\" encoding=\"utf-8\" standalone=\"no\"?>\r\n<!DOCTYPE svg PUBLIC \"-//W3C//DTD SVG 1.1//EN\"\r\n  \"http://www.w3.org/Graphics/SVG/1.1/DTD/svg11.dtd\">\r\n<!-- Created with matplotlib (https://matplotlib.org/) -->\r\n<svg height=\"248.919844pt\" version=\"1.1\" viewBox=\"0 0 251.565 248.919844\" width=\"251.565pt\" xmlns=\"http://www.w3.org/2000/svg\" xmlns:xlink=\"http://www.w3.org/1999/xlink\">\r\n <metadata>\r\n  <rdf:RDF xmlns:cc=\"http://creativecommons.org/ns#\" xmlns:dc=\"http://purl.org/dc/elements/1.1/\" xmlns:rdf=\"http://www.w3.org/1999/02/22-rdf-syntax-ns#\">\r\n   <cc:Work>\r\n    <dc:type rdf:resource=\"http://purl.org/dc/dcmitype/StillImage\"/>\r\n    <dc:date>2021-04-24T18:23:15.185577</dc:date>\r\n    <dc:format>image/svg+xml</dc:format>\r\n    <dc:creator>\r\n     <cc:Agent>\r\n      <dc:title>Matplotlib v3.3.1, https://matplotlib.org/</dc:title>\r\n     </cc:Agent>\r\n    </dc:creator>\r\n   </cc:Work>\r\n  </rdf:RDF>\r\n </metadata>\r\n <defs>\r\n  <style type=\"text/css\">*{stroke-linecap:butt;stroke-linejoin:round;}</style>\r\n </defs>\r\n <g id=\"figure_1\">\r\n  <g id=\"patch_1\">\r\n   <path d=\"M 0 248.919844 \r\nL 251.565 248.919844 \r\nL 251.565 0 \r\nL 0 0 \r\nz\r\n\" style=\"fill:none;\"/>\r\n  </g>\r\n  <g id=\"axes_1\">\r\n   <g id=\"patch_2\">\r\n    <path d=\"M 26.925 225.041719 \r\nL 244.365 225.041719 \r\nL 244.365 7.601719 \r\nL 26.925 7.601719 \r\nz\r\n\" style=\"fill:#ffffff;\"/>\r\n   </g>\r\n   <g clip-path=\"url(#p55872d7c35)\">\r\n    <image height=\"218\" id=\"image871e660e56\" transform=\"scale(1 -1)translate(0 -218)\" width=\"218\" x=\"26.925\" xlink:href=\"data:image/png;base64,\r\niVBORw0KGgoAAAANSUhEUgAAANoAAADaCAYAAADAHVzbAAAUQElEQVR4nO2dy3Mb2XnFv34CaDwIEqQoinpLo7E1mhmP47hSdmrKVUm5XNlklW3+ivwh+TeyS7zKJpmkYicTT0aZRxxpKOpNUgQBAk0QQL+7s8j2nrua+rw5v2V/dYFGdx901bnfPdf5h7/9m0YAycUZKkm3nxmPd1pTOGYwcmBtuNOGNXFLWFqta+PxeNaBY+KpB2vJyoe1qgxhTRoXlurSfI5pksIxYYi/y/Px+V+m5u8SEUmW5u9rNzkc03fxOc7XC1h7VeDr2HLMj1w3aMEx6wSf49H0Eta63S6s/dmnH8PaR4/uG49/9s+f4/M4WcIafjoIId8bFBohClBohChAoRGiAIVGiAIUGiEK+F6B7fgg/y9Ya7lmKzP0CzimXGPLff4Oa365wvZ+HIPPO8f2+PwclsSrsR3sCbafywKfo4BZjbqGMyviWP4DPT/A5+HjcQ34uqLG535RYes8SdawFpT4HLM0MR73OhEcEy/MY0REXhziG3p6soK160NYkkHb/Nt+9/ljOMZyinyjEaIBhUaIAhQaIQpQaIQoQKERogCFRogC/vVbuJgNcOd21TZbwlmJtbvCzc1WC3+5wLYvqi2XFRxTpLjWCfEqgiDAlrXnWax6YLmnKe5IbyzWf2WZSui2cNe8D86jrvDvClo7sJY6M1jzZpaO+p75ng22RnBM/wr+XQsXPx9p9hbWwi5eBXF6cWo8/uT1MRxTeX1Y4xuNEAUoNEIUoNAIUYBCI0QBCo0QBfxeDzcBZ1NsEy4vzRpdJNgdis+xi7mY43FS4WbkbnvXeHwjwtkZKy+Gtcs1blCtGnwevWgD1rLGfC45PkUpMuyMOqg7WEScGn9or2d2VH0fX/s8wc/HIsZNxWEHu7f94cB43AuwC9gLcJP4e7exW3l1C4/75McPYO1yBZqRa/xumi5xAzPfaIQoQKERogCFRogCFBohClBohChAoRGigF+muEE1XeCm19nCbMXOVzhzYzrGtnSR47jwXs8Scy3m2PIau9JSV/jz8jW+HkEHX4+qwla355qbdkOLnV3m2N7HV1HEsTRFe23z9ERR4t+V5ObodxGRbh838/Z6+DlwXPP/u+PgZ0AqfEMjwbXhNj6PzR6e1tje2jIe//Nf/ACO+eLbMazxjUaIAhQaIQpQaIQoQKERogCFRogCFBohCviLObZG8wzbt/Mzs8k8nmDzOa9wpDbqLBexd5eHodki90L8H1JkOCOjtnSdp8UFrLUjS7d6b9N4fHyGMzeyANv7dWOZChnge9aAOY/FAv8uP8DXcXtk/l0iIqGHx2Vo2YLlPq8ynEGSpXhqpVjh83h1+ArWHv3EvOPnp58+xOeR4WefbzRCFKDQCFGAQiNEAQqNEAUoNEIUoNAIUcB/8xZ3bh89xWE6SWW2dtsdHIvccrFlbXF2pWsJvok65potontraO7MFhGZzXAgUZwOYe3W+/dg7ejIHC+9cfU6HLPXwlMQ55MJrMUzvINrkZvvp4sXEUi2ws/HcrmAtXZniGt9czhPWeKppqqFV1xUlu79BM8KyOHbE1jbum5+vveu7cMxo52XsMY3GiEKUGiEKEChEaIAhUaIAhQaIQpQaIQo4I8nloz6FGeae21z6Em3i8NQvAB7+F6A7XjfYtU3wNrtdLGFH3bwKgIJY1j6yY9/BmtXbmB7v3/NbLkXa9w1v5xg6/ns9AjWkgTnv29s9MBxs90uIlJZQnEOnr+CtcdPD2DNbZmfkcEuXgFx5xE+x9YVWJJ0hqeozub4+v/3wbfG4x+H+Bne2sOrGfhGI0QBCo0QBSg0QhSg0AhRgEIjRAEKjRAF/LzE9n7YwjZ445i7ut0K259RhDv71xW2YfMigTUfBLO0fNySPk7x5/W3dmAtCnFH/eTtIR7XMWfe//sXv4Vj1jHe4jcIcThPt4fvWRSZz6OxbNXbWP6L9/avwVrq4m2I49i8v0Fi2Zp2YrHp9/fwdzV7+DPnQQxrq9Rs/Y9i/Hzcf2gO9BHhG40QFSg0QhSg0AhRgEIjRAEKjRAF/LrBOzqmGXbn2h1zY+g6we7QKjfvziki0t/Bbs75FOd4tEOz43R1YxeOqQU7klGEm6KzBY7writ8Hb97Zs4McUt8fUMHu8GOxSXs9XAkOMoGySu8y2lhcaVtUe0PruP7WV8zu6aLHN/n3MfXKo1xrbDs0tqz7PgZgN1HV5fYDe7cex/W+EYjRAEKjRAFKDRCFKDQCFGAQiNEAQqNEAV817Xs0FniCG8pzRqtLGMKseRZhLhBdXv/Dqxt7Zpr/b0bcExuyeqYneFY59PDN7B2885NWLtyxWx1x+MxHFPX2HLv+Lhx2PFxw/EKNGA3lumO3LK7qCO4ybrXwRkfJZjW6HW24ZjKklt+fPIC1qSLczz6LWzvt2tzbT3F12N6hq1/vtEIUYBCI0QBCo0QBSg0QhSg0AhRgEIjRAHfpjXXD2GtBt3NjiWro+Xg77q8mMPaX/71X8Ha3v1PjMdfvDR3zIuIzE+ew1p8/BTWliu8w2VZ42mNVWqO1T612MGjIV5FUIFrLyKyu4Nj3POx+ZqcLywZKiOct337vQ9h7cadH8HacmnehrPt46mmb778DawdPMHTRp0OjhmvW7iWgimUyRo/A7XHHT8J+YNCoRGiAIVGiAIUGiEKUGiEKEChEaKA7zrYwodpLiLS+GaNBi7uiG5sITAZDvX56ssvYW3r1iPj8Yc/Mtv+IiLjAbZ1p8/wd3mbeBfRG/cfwtrJpdn6L7zHcMwSrI4QEUlXOMTGbVt2pByZu+MvEjwVEvXNu4SKiNywrFh48OEHsCaV2TqfvX0Ch/xvhoOdRj623J3cvGJBRCS9wMFDS7Bqoeng6+u7+PngG40QBSg0QhSg0AhRgEIjRAEKjRAFKDRCFPBblu7mdYbt+Ap0q3ciPF3gWaYLyiW293/9d7+GtXbnuvH4z3/1F3DM6OY9WKtAKIuIyLC7AWs7t3HueuSbbd9McMhOluCO9MUihrXpMQ4QilfmHPq9PRx+tH9rH9YGPdxtf/QGT5Nc3TV3/Q+Glt1K2/i7Ni2We20Ji4rwoy8bnvkdFI3woC4+fb7RCNGAQiNEAQqNEAUoNEIUoNAIUcAvLI2+m328e2TY7RuPt30cE325wLsvPj/HzZ8bGzg/4/njfzQev7WP/0MefPorWAv6+LvWR69hbXLwFayFO2aX84MH78ExniXKOsmxAzc+eQtr8/GR8XhV4Gsf9rHL9s3BIax18KMjo21zXHua46j2so3PI7I4o3mD81ACB1/HsGV+jm2R9+MTcxaKCN9ohKhAoRGiAIVGiAIUGiEKUGiEKEChEaKA71oivDstrEOnNlvCHp4tkKrGGQ2HpzgSfBtkXYiI+M/NdvbXv/kMjunv4t1Fb93D2R//9h+/hbWdwbew1r5qjv4e3voIjtkd4R1LeyOcTbGxg69VkZinGaoMW+CHhzgiffoC2/s/+5Ofwtpo13we4xo3ljsd3LHb5HgqxHNxRHqVZ7CWgGtyMYnhmOwST23xjUaIAhQaIQpQaIQoQKERogCFRogCFBohCvgg+VhERLwA25WNmAeWgv19p2P5PIvkZzHuLvcT8/TE488P4JjR3uew9uDDn8Na5uPMkBdHE1h7tGvONTk9w2P2P8I5GO0hzmWJGmxZr2fme5NkOGL83j6eStje+FNYG+7glQki5pUfgz7eXdSywECmr3C+iuN2YK0ucCe+05ifq6AawjFeiFcY8I1GiAIUGiEKUGiEKEChEaIAhUaIAhQaIQr4Fc4nEb+Dd3uskR9fYcvUs9ipm9j5l06E5yCGXbPVPZ/jXSC/+Ax39kchXs3w8U/vw9rTr/GUQRWaLeb9uziavMhi/HknJ7CWZ3jKwGvMqyeSqXl1gYhInRewtr2Frf949RLWspex+Tzid/g88O0UL8e2uhPiaZIAxH6LiLigVKSWqSbb58EKIeR7g0IjRAEKjRAFKDRCFKDQCFGAQiNEAb8/xOEl5RJb3UuwQ6dT4aCX0mL9Rz3cGT+7wN5uWpjPwyuxLX12MoW142/+FdZ+8Usc3FOvcEf9spwZj9+3dOGPn38Na50SW/iV4ICb1cpcc/FtkbzCgUrvzvDuoqsMz9dcvDPfz8vzUzhmPsZTEGELd+inlgAe1/LDO555WsATfD1cy2oXvtEIUYBCI0QBCo0QBSg0QhSg0AhRwI9jnBfRJHgHw6YxdyP7Hu5S3tjCzuKtCjtw+Uu806YfmL9v5zqOxk7H2LU7PsbfFZ9gd6tYxLDW7psd0KOvfwfHnE3GsDYc4l1J3Ro7X6FrvsbvJsdwTHsD35eVJUr8+A1+rl4fmJui8xyPaUXmnBERkca3NQ7jhnQP5N6IiGQZcNXhCJHC0oDNNxohClBohChAoRGiAIVGiAIUGiEKUGiEKOB7IPpYRMQBjZX/jzleerXElm96iRs82wHOfbhzfQfWFmvzFMSOZVfPtYft8ePxE1j7p395hj8zxcbvPsjxOAO7lYqIzC/wDqidIb4el+cxrN24umc8Hq9wpPbdH+BG6p1NfI2dAv+2w9+bdwqNF3g66fZoAGsVyEIRESlq3DjsuvieVSBMp7HsWutgKfGNRogGFBohClBohChAoRGiAIVGiAIUGiEK+J027vZ2PNytjoxRx7KFaJ3m+EQsfdFRG3dub26ZrfpWG1v4iY8t2tdTvPpgkeHubNDsLSIiB2fm/I/37+3DMW6GbenyEudnLBZ4WuC7C7ONX1qmOyYzPKVx772bsPbyDZ4mGYO49hAvFJAix1MQZWXJBfHxh9pqEpintnJLFo3v4GeYbzRCFKDQCFGAQiNEAQqNEAUoNEIUoNAIUcCXGtuVTYFrjmueFshSPGZt6RJ3LXHhjiWG2QE2bFPgqYRuhFcKRNubsPbiHQ71aeoWrLVz8y6R509wKM5Vz7w6QkTkk038XYMcr7jIQnM40jzD3zU9fg5r/3Pwe1hb53gVx2ptvtfX9vA0g+Pg3WctSdxSO/i5KixWPZrkqWFFpLGsIuAbjRAFKDRCFKDQCFGAQiNEAQqNEAUoNEIU8OdTbFknM2w/+53IeLwsLV3nObaRfQfbprb8dBd85nKFc9yHmzjo5Yd3d2EtnpltehGR6Rz/tmVpruVrW9Y8vo5/9Me4a37g4Y70/zw3r8Z48uoMjhnHeLdVm3Xe4MshbmW+n6ElQ78JLJ32lmensDxzdY1rKcjRDz38bgptzymsEEK+Nyg0QhSg0AhRgEIjRAEKjRAFKDRCFPDPZjjoxc9x4ky3bbZbexG2YQPLvqS5Jd0mCnC3Otri13Fwh36Z4u+yuLdy9/oI1upqCmuTS3Mne1ViO3vh4iD3sxKHFYU7uMv92csXxuOvZqdwTFnjVRBbG/g8fnj1NqytJuYwnd0BbsMftvDDs0hxOM/FBZ6SSSxhSyXI3t+7hvcbeDXBewfwjUaIAhQaIQpQaIQoQKERogCFRogC/gw4YiIigxA7X34BGjItWRGhJYI5sEg+jnHMdQOixMOOOR9DRKTbxo7k4gK7h70OdsXu3cbf156Y3a1lhq+vi+Mn5O+//ArWfMuFfHpuducyy66vgSXmuqxxrW/ZlbRJzM3IfoCbg8XD7mGa4ubsPMWNz+vEkonjm5+RZ69xE/54gd1svtEIUYBCI0QBCo0QBSg0QhSg0AhRgEIjRAH/ZIJjui8DbH9e20a2uqVz2LKrZ+Ngzbci3Ly6zsxNr+eXuMGzsEQ3o6hzEZELS36G28JTF7f2zTHjVYVt9XWCG2WzCjf6lg7epXVrZJ6CCCxzCQNLk3jh4Kbor74z73IqInJz+77xuBPh5vELixWfWCLNG0ucfGaJvJ9Mzff61dsLOKby8PXgG40QBSg0QhSg0AhRgEIjRAEKjRAFKDRCFPAnMe44XgrumN7qmSPB6xDb48sV7uzHPdYijcVGLirzf0Xj4qkEz3KOvoMtZsfD18pp8H9WPzRb7lVh+dWeZedUy/+jbYXB9qZ5R01P8O8a9PFKh7A/hLVkZcmA8czTE3mOO+PTFE9pOJb88V4XT0+UlmmexjNPvbQtKz/SAt8XvtEIUYBCI0QBCo0QBSg0QhSg0AhRgEIjRAF/bul8XhaWqGVg1fuWCOlOC1vPro81X9XYBk/W5vN3LRtElmAHThERCbF967VwZ7xv6YC/cmVoPH65wCsnwhD/gCjF1j8KKxIRiVpmy7rI8bWvG/x5lSXGPfBx0M46N3fGZzl+3kLL6ohuiKd/PEvGe7drnqISEbkCHrmyxvf5eMxIcEL+oFBohChAoRGiAIVGiAIUGiEKUGiEKOCnDbZG55fYBj84Nufh393FGfT7HRyyM9rCNceS/94CXeIp2htARJLckvFumdKoBE9PlCUeN7s0r4KwzzKYO+1FRCwN+lKU2PpfpuYpmcBij9egi11EJK/wtEs7xKsgEhAu5Hr4h1WWvQjEEooT9fDzWKzw6pQM7HbrWt5NG138m/lGI0QBCo0QBSg0QhSg0AhRgEIjRAE/KbEDF2MjTV6fI1cGEzjYOooiPLLdwrUQNK8GAXaA1pb8iXWCc00Ki/Xle9gZvZiZm03LEn+e52JHrNWy/TbcqFyChu/taATHVBVuHC4yywOS4ebsCsS4VxW2YaMIu7COZcfSxOIsei5+rgLf7ICWlhjx/gA7nHyjEaIAhUaIAhQaIQpQaIQoQKERogCFRogC/gcPP4DFOJ7BWgtkZGyGeLogGuGMhqaD7dvusAdrIWhE9S35HrYm1Nk8hrXcMhWyObRYu5XZEs4s9niaYlu93cHW+YYlXH2dLI3HB8MBHCMN/rwc2PQiIp6lAbsNGpX7PXyfu138fAQBvh6J5Rxtu8yKa35GbL+5tOSr8I1GiAIUGiEKUGiEKEChEaIAhUaIAhQaIQr8HxbXASlGChYqAAAAAElFTkSuQmCC\" y=\"-7.041719\"/>\r\n   </g>\r\n   <g id=\"matplotlib.axis_1\">\r\n    <g id=\"xtick_1\">\r\n     <g id=\"line2d_1\">\r\n      <defs>\r\n       <path d=\"M 0 0 \r\nL 0 3.5 \r\n\" id=\"m7c8a0185fc\" style=\"stroke:#000000;stroke-width:0.8;\"/>\r\n      </defs>\r\n      <g>\r\n       <use style=\"stroke:#000000;stroke-width:0.8;\" x=\"30.3225\" xlink:href=\"#m7c8a0185fc\" y=\"225.041719\"/>\r\n      </g>\r\n     </g>\r\n     <g id=\"text_1\">\r\n      <!-- 0 -->\r\n      <g transform=\"translate(27.14125 239.640156)scale(0.1 -0.1)\">\r\n       <defs>\r\n        <path d=\"M 31.78125 66.40625 \r\nQ 24.171875 66.40625 20.328125 58.90625 \r\nQ 16.5 51.421875 16.5 36.375 \r\nQ 16.5 21.390625 20.328125 13.890625 \r\nQ 24.171875 6.390625 31.78125 6.390625 \r\nQ 39.453125 6.390625 43.28125 13.890625 \r\nQ 47.125 21.390625 47.125 36.375 \r\nQ 47.125 51.421875 43.28125 58.90625 \r\nQ 39.453125 66.40625 31.78125 66.40625 \r\nz\r\nM 31.78125 74.21875 \r\nQ 44.046875 74.21875 50.515625 64.515625 \r\nQ 56.984375 54.828125 56.984375 36.375 \r\nQ 56.984375 17.96875 50.515625 8.265625 \r\nQ 44.046875 -1.421875 31.78125 -1.421875 \r\nQ 19.53125 -1.421875 13.0625 8.265625 \r\nQ 6.59375 17.96875 6.59375 36.375 \r\nQ 6.59375 54.828125 13.0625 64.515625 \r\nQ 19.53125 74.21875 31.78125 74.21875 \r\nz\r\n\" id=\"DejaVuSans-48\"/>\r\n       </defs>\r\n       <use xlink:href=\"#DejaVuSans-48\"/>\r\n      </g>\r\n     </g>\r\n    </g>\r\n    <g id=\"xtick_2\">\r\n     <g id=\"line2d_2\">\r\n      <g>\r\n       <use style=\"stroke:#000000;stroke-width:0.8;\" x=\"64.2975\" xlink:href=\"#m7c8a0185fc\" y=\"225.041719\"/>\r\n      </g>\r\n     </g>\r\n     <g id=\"text_2\">\r\n      <!-- 5 -->\r\n      <g transform=\"translate(61.11625 239.640156)scale(0.1 -0.1)\">\r\n       <defs>\r\n        <path d=\"M 10.796875 72.90625 \r\nL 49.515625 72.90625 \r\nL 49.515625 64.59375 \r\nL 19.828125 64.59375 \r\nL 19.828125 46.734375 \r\nQ 21.96875 47.46875 24.109375 47.828125 \r\nQ 26.265625 48.1875 28.421875 48.1875 \r\nQ 40.625 48.1875 47.75 41.5 \r\nQ 54.890625 34.8125 54.890625 23.390625 \r\nQ 54.890625 11.625 47.5625 5.09375 \r\nQ 40.234375 -1.421875 26.90625 -1.421875 \r\nQ 22.3125 -1.421875 17.546875 -0.640625 \r\nQ 12.796875 0.140625 7.71875 1.703125 \r\nL 7.71875 11.625 \r\nQ 12.109375 9.234375 16.796875 8.0625 \r\nQ 21.484375 6.890625 26.703125 6.890625 \r\nQ 35.15625 6.890625 40.078125 11.328125 \r\nQ 45.015625 15.765625 45.015625 23.390625 \r\nQ 45.015625 31 40.078125 35.4375 \r\nQ 35.15625 39.890625 26.703125 39.890625 \r\nQ 22.75 39.890625 18.8125 39.015625 \r\nQ 14.890625 38.140625 10.796875 36.28125 \r\nz\r\n\" id=\"DejaVuSans-53\"/>\r\n       </defs>\r\n       <use xlink:href=\"#DejaVuSans-53\"/>\r\n      </g>\r\n     </g>\r\n    </g>\r\n    <g id=\"xtick_3\">\r\n     <g id=\"line2d_3\">\r\n      <g>\r\n       <use style=\"stroke:#000000;stroke-width:0.8;\" x=\"98.2725\" xlink:href=\"#m7c8a0185fc\" y=\"225.041719\"/>\r\n      </g>\r\n     </g>\r\n     <g id=\"text_3\">\r\n      <!-- 10 -->\r\n      <g transform=\"translate(91.91 239.640156)scale(0.1 -0.1)\">\r\n       <defs>\r\n        <path d=\"M 12.40625 8.296875 \r\nL 28.515625 8.296875 \r\nL 28.515625 63.921875 \r\nL 10.984375 60.40625 \r\nL 10.984375 69.390625 \r\nL 28.421875 72.90625 \r\nL 38.28125 72.90625 \r\nL 38.28125 8.296875 \r\nL 54.390625 8.296875 \r\nL 54.390625 0 \r\nL 12.40625 0 \r\nz\r\n\" id=\"DejaVuSans-49\"/>\r\n       </defs>\r\n       <use xlink:href=\"#DejaVuSans-49\"/>\r\n       <use x=\"63.623047\" xlink:href=\"#DejaVuSans-48\"/>\r\n      </g>\r\n     </g>\r\n    </g>\r\n    <g id=\"xtick_4\">\r\n     <g id=\"line2d_4\">\r\n      <g>\r\n       <use style=\"stroke:#000000;stroke-width:0.8;\" x=\"132.2475\" xlink:href=\"#m7c8a0185fc\" y=\"225.041719\"/>\r\n      </g>\r\n     </g>\r\n     <g id=\"text_4\">\r\n      <!-- 15 -->\r\n      <g transform=\"translate(125.885 239.640156)scale(0.1 -0.1)\">\r\n       <use xlink:href=\"#DejaVuSans-49\"/>\r\n       <use x=\"63.623047\" xlink:href=\"#DejaVuSans-53\"/>\r\n      </g>\r\n     </g>\r\n    </g>\r\n    <g id=\"xtick_5\">\r\n     <g id=\"line2d_5\">\r\n      <g>\r\n       <use style=\"stroke:#000000;stroke-width:0.8;\" x=\"166.2225\" xlink:href=\"#m7c8a0185fc\" y=\"225.041719\"/>\r\n      </g>\r\n     </g>\r\n     <g id=\"text_5\">\r\n      <!-- 20 -->\r\n      <g transform=\"translate(159.86 239.640156)scale(0.1 -0.1)\">\r\n       <defs>\r\n        <path d=\"M 19.1875 8.296875 \r\nL 53.609375 8.296875 \r\nL 53.609375 0 \r\nL 7.328125 0 \r\nL 7.328125 8.296875 \r\nQ 12.9375 14.109375 22.625 23.890625 \r\nQ 32.328125 33.6875 34.8125 36.53125 \r\nQ 39.546875 41.84375 41.421875 45.53125 \r\nQ 43.3125 49.21875 43.3125 52.78125 \r\nQ 43.3125 58.59375 39.234375 62.25 \r\nQ 35.15625 65.921875 28.609375 65.921875 \r\nQ 23.96875 65.921875 18.8125 64.3125 \r\nQ 13.671875 62.703125 7.8125 59.421875 \r\nL 7.8125 69.390625 \r\nQ 13.765625 71.78125 18.9375 73 \r\nQ 24.125 74.21875 28.421875 74.21875 \r\nQ 39.75 74.21875 46.484375 68.546875 \r\nQ 53.21875 62.890625 53.21875 53.421875 \r\nQ 53.21875 48.921875 51.53125 44.890625 \r\nQ 49.859375 40.875 45.40625 35.40625 \r\nQ 44.1875 33.984375 37.640625 27.21875 \r\nQ 31.109375 20.453125 19.1875 8.296875 \r\nz\r\n\" id=\"DejaVuSans-50\"/>\r\n       </defs>\r\n       <use xlink:href=\"#DejaVuSans-50\"/>\r\n       <use x=\"63.623047\" xlink:href=\"#DejaVuSans-48\"/>\r\n      </g>\r\n     </g>\r\n    </g>\r\n    <g id=\"xtick_6\">\r\n     <g id=\"line2d_6\">\r\n      <g>\r\n       <use style=\"stroke:#000000;stroke-width:0.8;\" x=\"200.1975\" xlink:href=\"#m7c8a0185fc\" y=\"225.041719\"/>\r\n      </g>\r\n     </g>\r\n     <g id=\"text_6\">\r\n      <!-- 25 -->\r\n      <g transform=\"translate(193.835 239.640156)scale(0.1 -0.1)\">\r\n       <use xlink:href=\"#DejaVuSans-50\"/>\r\n       <use x=\"63.623047\" xlink:href=\"#DejaVuSans-53\"/>\r\n      </g>\r\n     </g>\r\n    </g>\r\n    <g id=\"xtick_7\">\r\n     <g id=\"line2d_7\">\r\n      <g>\r\n       <use style=\"stroke:#000000;stroke-width:0.8;\" x=\"234.1725\" xlink:href=\"#m7c8a0185fc\" y=\"225.041719\"/>\r\n      </g>\r\n     </g>\r\n     <g id=\"text_7\">\r\n      <!-- 30 -->\r\n      <g transform=\"translate(227.81 239.640156)scale(0.1 -0.1)\">\r\n       <defs>\r\n        <path d=\"M 40.578125 39.3125 \r\nQ 47.65625 37.796875 51.625 33 \r\nQ 55.609375 28.21875 55.609375 21.1875 \r\nQ 55.609375 10.40625 48.1875 4.484375 \r\nQ 40.765625 -1.421875 27.09375 -1.421875 \r\nQ 22.515625 -1.421875 17.65625 -0.515625 \r\nQ 12.796875 0.390625 7.625 2.203125 \r\nL 7.625 11.71875 \r\nQ 11.71875 9.328125 16.59375 8.109375 \r\nQ 21.484375 6.890625 26.8125 6.890625 \r\nQ 36.078125 6.890625 40.9375 10.546875 \r\nQ 45.796875 14.203125 45.796875 21.1875 \r\nQ 45.796875 27.640625 41.28125 31.265625 \r\nQ 36.765625 34.90625 28.71875 34.90625 \r\nL 20.21875 34.90625 \r\nL 20.21875 43.015625 \r\nL 29.109375 43.015625 \r\nQ 36.375 43.015625 40.234375 45.921875 \r\nQ 44.09375 48.828125 44.09375 54.296875 \r\nQ 44.09375 59.90625 40.109375 62.90625 \r\nQ 36.140625 65.921875 28.71875 65.921875 \r\nQ 24.65625 65.921875 20.015625 65.03125 \r\nQ 15.375 64.15625 9.8125 62.3125 \r\nL 9.8125 71.09375 \r\nQ 15.4375 72.65625 20.34375 73.4375 \r\nQ 25.25 74.21875 29.59375 74.21875 \r\nQ 40.828125 74.21875 47.359375 69.109375 \r\nQ 53.90625 64.015625 53.90625 55.328125 \r\nQ 53.90625 49.265625 50.4375 45.09375 \r\nQ 46.96875 40.921875 40.578125 39.3125 \r\nz\r\n\" id=\"DejaVuSans-51\"/>\r\n       </defs>\r\n       <use xlink:href=\"#DejaVuSans-51\"/>\r\n       <use x=\"63.623047\" xlink:href=\"#DejaVuSans-48\"/>\r\n      </g>\r\n     </g>\r\n    </g>\r\n   </g>\r\n   <g id=\"matplotlib.axis_2\">\r\n    <g id=\"ytick_1\">\r\n     <g id=\"line2d_8\">\r\n      <defs>\r\n       <path d=\"M 0 0 \r\nL -3.5 0 \r\n\" id=\"m5dc452267e\" style=\"stroke:#000000;stroke-width:0.8;\"/>\r\n      </defs>\r\n      <g>\r\n       <use style=\"stroke:#000000;stroke-width:0.8;\" x=\"26.925\" xlink:href=\"#m5dc452267e\" y=\"10.999219\"/>\r\n      </g>\r\n     </g>\r\n     <g id=\"text_8\">\r\n      <!-- 0 -->\r\n      <g transform=\"translate(13.5625 14.798437)scale(0.1 -0.1)\">\r\n       <use xlink:href=\"#DejaVuSans-48\"/>\r\n      </g>\r\n     </g>\r\n    </g>\r\n    <g id=\"ytick_2\">\r\n     <g id=\"line2d_9\">\r\n      <g>\r\n       <use style=\"stroke:#000000;stroke-width:0.8;\" x=\"26.925\" xlink:href=\"#m5dc452267e\" y=\"44.974219\"/>\r\n      </g>\r\n     </g>\r\n     <g id=\"text_9\">\r\n      <!-- 5 -->\r\n      <g transform=\"translate(13.5625 48.773437)scale(0.1 -0.1)\">\r\n       <use xlink:href=\"#DejaVuSans-53\"/>\r\n      </g>\r\n     </g>\r\n    </g>\r\n    <g id=\"ytick_3\">\r\n     <g id=\"line2d_10\">\r\n      <g>\r\n       <use style=\"stroke:#000000;stroke-width:0.8;\" x=\"26.925\" xlink:href=\"#m5dc452267e\" y=\"78.949219\"/>\r\n      </g>\r\n     </g>\r\n     <g id=\"text_10\">\r\n      <!-- 10 -->\r\n      <g transform=\"translate(7.2 82.748437)scale(0.1 -0.1)\">\r\n       <use xlink:href=\"#DejaVuSans-49\"/>\r\n       <use x=\"63.623047\" xlink:href=\"#DejaVuSans-48\"/>\r\n      </g>\r\n     </g>\r\n    </g>\r\n    <g id=\"ytick_4\">\r\n     <g id=\"line2d_11\">\r\n      <g>\r\n       <use style=\"stroke:#000000;stroke-width:0.8;\" x=\"26.925\" xlink:href=\"#m5dc452267e\" y=\"112.924219\"/>\r\n      </g>\r\n     </g>\r\n     <g id=\"text_11\">\r\n      <!-- 15 -->\r\n      <g transform=\"translate(7.2 116.723437)scale(0.1 -0.1)\">\r\n       <use xlink:href=\"#DejaVuSans-49\"/>\r\n       <use x=\"63.623047\" xlink:href=\"#DejaVuSans-53\"/>\r\n      </g>\r\n     </g>\r\n    </g>\r\n    <g id=\"ytick_5\">\r\n     <g id=\"line2d_12\">\r\n      <g>\r\n       <use style=\"stroke:#000000;stroke-width:0.8;\" x=\"26.925\" xlink:href=\"#m5dc452267e\" y=\"146.899219\"/>\r\n      </g>\r\n     </g>\r\n     <g id=\"text_12\">\r\n      <!-- 20 -->\r\n      <g transform=\"translate(7.2 150.698437)scale(0.1 -0.1)\">\r\n       <use xlink:href=\"#DejaVuSans-50\"/>\r\n       <use x=\"63.623047\" xlink:href=\"#DejaVuSans-48\"/>\r\n      </g>\r\n     </g>\r\n    </g>\r\n    <g id=\"ytick_6\">\r\n     <g id=\"line2d_13\">\r\n      <g>\r\n       <use style=\"stroke:#000000;stroke-width:0.8;\" x=\"26.925\" xlink:href=\"#m5dc452267e\" y=\"180.874219\"/>\r\n      </g>\r\n     </g>\r\n     <g id=\"text_13\">\r\n      <!-- 25 -->\r\n      <g transform=\"translate(7.2 184.673437)scale(0.1 -0.1)\">\r\n       <use xlink:href=\"#DejaVuSans-50\"/>\r\n       <use x=\"63.623047\" xlink:href=\"#DejaVuSans-53\"/>\r\n      </g>\r\n     </g>\r\n    </g>\r\n    <g id=\"ytick_7\">\r\n     <g id=\"line2d_14\">\r\n      <g>\r\n       <use style=\"stroke:#000000;stroke-width:0.8;\" x=\"26.925\" xlink:href=\"#m5dc452267e\" y=\"214.849219\"/>\r\n      </g>\r\n     </g>\r\n     <g id=\"text_14\">\r\n      <!-- 30 -->\r\n      <g transform=\"translate(7.2 218.648437)scale(0.1 -0.1)\">\r\n       <use xlink:href=\"#DejaVuSans-51\"/>\r\n       <use x=\"63.623047\" xlink:href=\"#DejaVuSans-48\"/>\r\n      </g>\r\n     </g>\r\n    </g>\r\n   </g>\r\n   <g id=\"patch_3\">\r\n    <path d=\"M 26.925 225.041719 \r\nL 26.925 7.601719 \r\n\" style=\"fill:none;stroke:#000000;stroke-linecap:square;stroke-linejoin:miter;stroke-width:0.8;\"/>\r\n   </g>\r\n   <g id=\"patch_4\">\r\n    <path d=\"M 244.365 225.041719 \r\nL 244.365 7.601719 \r\n\" style=\"fill:none;stroke:#000000;stroke-linecap:square;stroke-linejoin:miter;stroke-width:0.8;\"/>\r\n   </g>\r\n   <g id=\"patch_5\">\r\n    <path d=\"M 26.925 225.041719 \r\nL 244.365 225.041719 \r\n\" style=\"fill:none;stroke:#000000;stroke-linecap:square;stroke-linejoin:miter;stroke-width:0.8;\"/>\r\n   </g>\r\n   <g id=\"patch_6\">\r\n    <path d=\"M 26.925 7.601719 \r\nL 244.365 7.601719 \r\n\" style=\"fill:none;stroke:#000000;stroke-linecap:square;stroke-linejoin:miter;stroke-width:0.8;\"/>\r\n   </g>\r\n  </g>\r\n </g>\r\n <defs>\r\n  <clipPath id=\"p55872d7c35\">\r\n   <rect height=\"217.44\" width=\"217.44\" x=\"26.925\" y=\"7.601719\"/>\r\n  </clipPath>\r\n </defs>\r\n</svg>\r\n",
      "image/png": "[encoded data removed]"
     },
     "metadata": {
      "needs_background": "light"
     }
    }
   ],
   "source": [
    "# image viewer\n",
    "index = 0 # change this value to see different images and their class label from the training data\n",
    "\n",
    "import numpy as np\n",
    "# im = np.reshape(xb1[index],(32,32,3)) # to put it in a format for matplotlib (32, 32, 3)  # 32 x 32 pixels image # 3 colour depth \n",
    "\n",
    "im = np.reshape(xb1[index],(3, 32,32)).transpose([1,2,0]) # to correct for row-major order\n",
    "\n",
    "imgplot = plt.imshow(im)\n",
    "\n",
    "print(yb1[index], label_classes[yb1[index]])\n",
    "imgplot"
   ]
  }
 ]
}