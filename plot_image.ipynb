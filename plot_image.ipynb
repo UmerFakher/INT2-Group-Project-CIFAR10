{
 "metadata": {
  "language_info": {
   "codemirror_mode": {
    "name": "ipython",
    "version": 3
   },
   "file_extension": ".py",
   "mimetype": "text/x-python",
   "name": "python",
   "nbconvert_exporter": "python",
   "pygments_lexer": "ipython3",
   "version": "3.7.3"
  },
  "orig_nbformat": 2,
  "kernelspec": {
   "name": "python373jvsc74a57bd07a47bf6e4dce792c65a7d49caf54e729a54726c5dc0326382809f81559c32857",
   "display_name": "Python 3.7.3 64-bit ('base': conda)"
  }
 },
 "nbformat": 4,
 "nbformat_minor": 2,
 "cells": [
  {
   "cell_type": "code",
   "execution_count": 44,
   "metadata": {},
   "outputs": [],
   "source": [
    "import File_Manager_Tar_Gz as fm"
   ]
  },
  {
   "cell_type": "code",
   "execution_count": 45,
   "metadata": {},
   "outputs": [
    {
     "output_type": "stream",
     "name": "stdout",
     "text": [
      "Error: File already downloaded as file cifar-10-python.tar.gz/\nFalse\nError: File already extracted as folder cifar-10-batches-py/\nFalse\n"
     ]
    }
   ],
   "source": [
    "file_name = \"cifar-10-python.tar.gz\"\n",
    "website_link = \"https://www.cs.toronto.edu/~kriz/cifar-10-python.tar.gz\"\n",
    "\n",
    "print(fm.download_file_tar_gz(dataset_link=website_link, dataset_file_name=file_name))\n",
    "print(fm.open_file_tar_gz(file_name))"
   ]
  },
  {
   "cell_type": "code",
   "execution_count": 46,
   "metadata": {},
   "outputs": [],
   "source": [
    "batch_file = \"cifar-10-batches-py/data_batch_1\"\n",
    "dico = fm.unpickle(batch_file)\n"
   ]
  },
  {
   "cell_type": "code",
   "execution_count": 47,
   "metadata": {},
   "outputs": [
    {
     "output_type": "execute_result",
     "data": {
      "text/plain": [
       "dict_keys([b'batch_label', b'labels', b'data', b'filenames'])"
      ]
     },
     "metadata": {},
     "execution_count": 47
    }
   ],
   "source": [
    "dico.keys()"
   ]
  },
  {
   "cell_type": "code",
   "execution_count": 48,
   "metadata": {},
   "outputs": [],
   "source": [
    "xb1 = dico[b'data'] # X Training data batch 1\n",
    "yb1 = dico[b'labels'] # Y Labels batch 1"
   ]
  },
  {
   "cell_type": "code",
   "execution_count": 49,
   "metadata": {},
   "outputs": [
    {
     "output_type": "execute_result",
     "data": {
      "text/plain": [
       "array([[ 59,  43,  50, ..., 140,  84,  72],\n",
       "       [154, 126, 105, ..., 139, 142, 144],\n",
       "       [255, 253, 253, ...,  83,  83,  84],\n",
       "       [ 28,  37,  38, ...,  28,  37,  46],\n",
       "       [170, 168, 177, ...,  82,  78,  80]], dtype=uint8)"
      ]
     },
     "metadata": {},
     "execution_count": 49
    }
   ],
   "source": [
    "xb1[0:5]"
   ]
  },
  {
   "cell_type": "code",
   "execution_count": 50,
   "metadata": {},
   "outputs": [
    {
     "output_type": "execute_result",
     "data": {
      "text/plain": [
       "(10000, 3072)"
      ]
     },
     "metadata": {},
     "execution_count": 50
    }
   ],
   "source": [
    "xb1.shape   #10000 labels as it is batch 1 of 5 ie 10000 out of 50000 images"
   ]
  },
  {
   "cell_type": "code",
   "execution_count": 51,
   "metadata": {},
   "outputs": [
    {
     "output_type": "execute_result",
     "data": {
      "text/plain": [
       "(3072,)"
      ]
     },
     "metadata": {},
     "execution_count": 51
    }
   ],
   "source": [
    "xb1[0].shape # 32 x 32 pixels image # 3 colour depth \n",
    "# 32*32*3 = 3072"
   ]
  },
  {
   "cell_type": "code",
   "execution_count": 52,
   "metadata": {},
   "outputs": [
    {
     "output_type": "execute_result",
     "data": {
      "text/plain": [
       "[6, 9, 9, 4, 1]"
      ]
     },
     "metadata": {},
     "execution_count": 52
    }
   ],
   "source": [
    "yb1[0:5] # labels"
   ]
  },
  {
   "cell_type": "code",
   "execution_count": 53,
   "metadata": {},
   "outputs": [
    {
     "output_type": "execute_result",
     "data": {
      "text/plain": [
       "10000"
      ]
     },
     "metadata": {},
     "execution_count": 53
    }
   ],
   "source": [
    "len(yb1) # list   10000 labels for the 10000 images in batch 1"
   ]
  },
  {
   "cell_type": "code",
   "execution_count": 54,
   "metadata": {},
   "outputs": [
    {
     "output_type": "stream",
     "name": "stdout",
     "text": [
      "Training set min: 0, max: 255\nLabels min: 0, max: 9\n"
     ]
    }
   ],
   "source": [
    "print(\"Training set min: {}, max: {}\".format(xb1.min(), xb1.max())) # xb1 is numpy array 0 to 255 rgb\n",
    "print(\"Labels min: {}, max: {}\".format(min(yb1), max(yb1))) # yb1 is a list 0 to 9"
   ]
  },
  {
   "cell_type": "code",
   "execution_count": 55,
   "metadata": {},
   "outputs": [],
   "source": [
    "# Therefore normalise this data between 0 and 1 to make it easier for plotting\n",
    "xb1_normalised = xb1 / xb1.max()"
   ]
  },
  {
   "cell_type": "code",
   "execution_count": 56,
   "metadata": {},
   "outputs": [],
   "source": [
    "# imports for plotting\n",
    "import matplotlib.pyplot as plt, matplotlib.image as mpimg"
   ]
  },
  {
   "cell_type": "code",
   "execution_count": 57,
   "metadata": {},
   "outputs": [],
   "source": [
    "# From cifar-10 https://www.cs.toronto.edu/~kriz/cifar.html our 10 classes\n",
    "label_classes = [\"airplane\",\t\t\t\t\t\t\t\t\t\t\n",
    "\"automobile\",\t\t\t\t\t\t\t\t\t\t\n",
    "\"bird\",\t\t\t\t\t\t\t\t\t\t\n",
    "\"cat\",\t\t\t\t\t\t\t\t\t\n",
    "\"deer\",\t\t\t\t\t\t\t\t\t\t\n",
    "\"dog\",\t\t\t\t\t\t\t\t\t\t\n",
    "\"frog\",\t\t\t\t\t\t\t\t\t\t\n",
    "\"horse\",\t\t\t\t\t\t\t\t\t\t\n",
    "\"ship\",\t\t\t\t\t\t\t\t\t\t\n",
    "\"truck\"]"
   ]
  },
  {
   "cell_type": "code",
   "execution_count": 66,
   "metadata": {},
   "outputs": [
    {
     "output_type": "stream",
     "name": "stdout",
     "text": [
      "6 frog\n"
     ]
    },
    {
     "output_type": "execute_result",
     "data": {
      "text/plain": [
       "<matplotlib.image.AxesImage at 0x2bfbf6a52e8>"
      ]
     },
     "metadata": {},
     "execution_count": 66
    },
    {
     "output_type": "display_data",
     "data": {
      "text/plain": "<Figure size 432x288 with 1 Axes>",
      "image/svg+xml": "<?xml version=\"1.0\" encoding=\"utf-8\" standalone=\"no\"?>\r\n<!DOCTYPE svg PUBLIC \"-//W3C//DTD SVG 1.1//EN\"\r\n  \"http://www.w3.org/Graphics/SVG/1.1/DTD/svg11.dtd\">\r\n<!-- Created with matplotlib (https://matplotlib.org/) -->\r\n<svg height=\"248.919844pt\" version=\"1.1\" viewBox=\"0 0 251.565 248.919844\" width=\"251.565pt\" xmlns=\"http://www.w3.org/2000/svg\" xmlns:xlink=\"http://www.w3.org/1999/xlink\">\r\n <metadata>\r\n  <rdf:RDF xmlns:cc=\"http://creativecommons.org/ns#\" xmlns:dc=\"http://purl.org/dc/elements/1.1/\" xmlns:rdf=\"http://www.w3.org/1999/02/22-rdf-syntax-ns#\">\r\n   <cc:Work>\r\n    <dc:type rdf:resource=\"http://purl.org/dc/dcmitype/StillImage\"/>\r\n    <dc:date>2021-04-24T17:56:15.948577</dc:date>\r\n    <dc:format>image/svg+xml</dc:format>\r\n    <dc:creator>\r\n     <cc:Agent>\r\n      <dc:title>Matplotlib v3.3.1, https://matplotlib.org/</dc:title>\r\n     </cc:Agent>\r\n    </dc:creator>\r\n   </cc:Work>\r\n  </rdf:RDF>\r\n </metadata>\r\n <defs>\r\n  <style type=\"text/css\">*{stroke-linecap:butt;stroke-linejoin:round;}</style>\r\n </defs>\r\n <g id=\"figure_1\">\r\n  <g id=\"patch_1\">\r\n   <path d=\"M 0 248.919844 \r\nL 251.565 248.919844 \r\nL 251.565 0 \r\nL 0 0 \r\nz\r\n\" style=\"fill:none;\"/>\r\n  </g>\r\n  <g id=\"axes_1\">\r\n   <g id=\"patch_2\">\r\n    <path d=\"M 26.925 225.041719 \r\nL 244.365 225.041719 \r\nL 244.365 7.601719 \r\nL 26.925 7.601719 \r\nz\r\n\" style=\"fill:#ffffff;\"/>\r\n   </g>\r\n   <g clip-path=\"url(#p06b32830d0)\">\r\n    <image height=\"218\" id=\"imaged6955a7358\" transform=\"scale(1 -1)translate(0 -218)\" width=\"218\" x=\"26.925\" xlink:href=\"data:image/png;base64,\r\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\" y=\"-7.041719\"/>\r\n   </g>\r\n   <g id=\"matplotlib.axis_1\">\r\n    <g id=\"xtick_1\">\r\n     <g id=\"line2d_1\">\r\n      <defs>\r\n       <path d=\"M 0 0 \r\nL 0 3.5 \r\n\" id=\"m7a41db38b2\" style=\"stroke:#000000;stroke-width:0.8;\"/>\r\n      </defs>\r\n      <g>\r\n       <use style=\"stroke:#000000;stroke-width:0.8;\" x=\"30.3225\" xlink:href=\"#m7a41db38b2\" y=\"225.041719\"/>\r\n      </g>\r\n     </g>\r\n     <g id=\"text_1\">\r\n      <!-- 0 -->\r\n      <g transform=\"translate(27.14125 239.640156)scale(0.1 -0.1)\">\r\n       <defs>\r\n        <path d=\"M 31.78125 66.40625 \r\nQ 24.171875 66.40625 20.328125 58.90625 \r\nQ 16.5 51.421875 16.5 36.375 \r\nQ 16.5 21.390625 20.328125 13.890625 \r\nQ 24.171875 6.390625 31.78125 6.390625 \r\nQ 39.453125 6.390625 43.28125 13.890625 \r\nQ 47.125 21.390625 47.125 36.375 \r\nQ 47.125 51.421875 43.28125 58.90625 \r\nQ 39.453125 66.40625 31.78125 66.40625 \r\nz\r\nM 31.78125 74.21875 \r\nQ 44.046875 74.21875 50.515625 64.515625 \r\nQ 56.984375 54.828125 56.984375 36.375 \r\nQ 56.984375 17.96875 50.515625 8.265625 \r\nQ 44.046875 -1.421875 31.78125 -1.421875 \r\nQ 19.53125 -1.421875 13.0625 8.265625 \r\nQ 6.59375 17.96875 6.59375 36.375 \r\nQ 6.59375 54.828125 13.0625 64.515625 \r\nQ 19.53125 74.21875 31.78125 74.21875 \r\nz\r\n\" id=\"DejaVuSans-48\"/>\r\n       </defs>\r\n       <use xlink:href=\"#DejaVuSans-48\"/>\r\n      </g>\r\n     </g>\r\n    </g>\r\n    <g id=\"xtick_2\">\r\n     <g id=\"line2d_2\">\r\n      <g>\r\n       <use style=\"stroke:#000000;stroke-width:0.8;\" x=\"64.2975\" xlink:href=\"#m7a41db38b2\" y=\"225.041719\"/>\r\n      </g>\r\n     </g>\r\n     <g id=\"text_2\">\r\n      <!-- 5 -->\r\n      <g transform=\"translate(61.11625 239.640156)scale(0.1 -0.1)\">\r\n       <defs>\r\n        <path d=\"M 10.796875 72.90625 \r\nL 49.515625 72.90625 \r\nL 49.515625 64.59375 \r\nL 19.828125 64.59375 \r\nL 19.828125 46.734375 \r\nQ 21.96875 47.46875 24.109375 47.828125 \r\nQ 26.265625 48.1875 28.421875 48.1875 \r\nQ 40.625 48.1875 47.75 41.5 \r\nQ 54.890625 34.8125 54.890625 23.390625 \r\nQ 54.890625 11.625 47.5625 5.09375 \r\nQ 40.234375 -1.421875 26.90625 -1.421875 \r\nQ 22.3125 -1.421875 17.546875 -0.640625 \r\nQ 12.796875 0.140625 7.71875 1.703125 \r\nL 7.71875 11.625 \r\nQ 12.109375 9.234375 16.796875 8.0625 \r\nQ 21.484375 6.890625 26.703125 6.890625 \r\nQ 35.15625 6.890625 40.078125 11.328125 \r\nQ 45.015625 15.765625 45.015625 23.390625 \r\nQ 45.015625 31 40.078125 35.4375 \r\nQ 35.15625 39.890625 26.703125 39.890625 \r\nQ 22.75 39.890625 18.8125 39.015625 \r\nQ 14.890625 38.140625 10.796875 36.28125 \r\nz\r\n\" id=\"DejaVuSans-53\"/>\r\n       </defs>\r\n       <use xlink:href=\"#DejaVuSans-53\"/>\r\n      </g>\r\n     </g>\r\n    </g>\r\n    <g id=\"xtick_3\">\r\n     <g id=\"line2d_3\">\r\n      <g>\r\n       <use style=\"stroke:#000000;stroke-width:0.8;\" x=\"98.2725\" xlink:href=\"#m7a41db38b2\" y=\"225.041719\"/>\r\n      </g>\r\n     </g>\r\n     <g id=\"text_3\">\r\n      <!-- 10 -->\r\n      <g transform=\"translate(91.91 239.640156)scale(0.1 -0.1)\">\r\n       <defs>\r\n        <path d=\"M 12.40625 8.296875 \r\nL 28.515625 8.296875 \r\nL 28.515625 63.921875 \r\nL 10.984375 60.40625 \r\nL 10.984375 69.390625 \r\nL 28.421875 72.90625 \r\nL 38.28125 72.90625 \r\nL 38.28125 8.296875 \r\nL 54.390625 8.296875 \r\nL 54.390625 0 \r\nL 12.40625 0 \r\nz\r\n\" id=\"DejaVuSans-49\"/>\r\n       </defs>\r\n       <use xlink:href=\"#DejaVuSans-49\"/>\r\n       <use x=\"63.623047\" xlink:href=\"#DejaVuSans-48\"/>\r\n      </g>\r\n     </g>\r\n    </g>\r\n    <g id=\"xtick_4\">\r\n     <g id=\"line2d_4\">\r\n      <g>\r\n       <use style=\"stroke:#000000;stroke-width:0.8;\" x=\"132.2475\" xlink:href=\"#m7a41db38b2\" y=\"225.041719\"/>\r\n      </g>\r\n     </g>\r\n     <g id=\"text_4\">\r\n      <!-- 15 -->\r\n      <g transform=\"translate(125.885 239.640156)scale(0.1 -0.1)\">\r\n       <use xlink:href=\"#DejaVuSans-49\"/>\r\n       <use x=\"63.623047\" xlink:href=\"#DejaVuSans-53\"/>\r\n      </g>\r\n     </g>\r\n    </g>\r\n    <g id=\"xtick_5\">\r\n     <g id=\"line2d_5\">\r\n      <g>\r\n       <use style=\"stroke:#000000;stroke-width:0.8;\" x=\"166.2225\" xlink:href=\"#m7a41db38b2\" y=\"225.041719\"/>\r\n      </g>\r\n     </g>\r\n     <g id=\"text_5\">\r\n      <!-- 20 -->\r\n      <g transform=\"translate(159.86 239.640156)scale(0.1 -0.1)\">\r\n       <defs>\r\n        <path d=\"M 19.1875 8.296875 \r\nL 53.609375 8.296875 \r\nL 53.609375 0 \r\nL 7.328125 0 \r\nL 7.328125 8.296875 \r\nQ 12.9375 14.109375 22.625 23.890625 \r\nQ 32.328125 33.6875 34.8125 36.53125 \r\nQ 39.546875 41.84375 41.421875 45.53125 \r\nQ 43.3125 49.21875 43.3125 52.78125 \r\nQ 43.3125 58.59375 39.234375 62.25 \r\nQ 35.15625 65.921875 28.609375 65.921875 \r\nQ 23.96875 65.921875 18.8125 64.3125 \r\nQ 13.671875 62.703125 7.8125 59.421875 \r\nL 7.8125 69.390625 \r\nQ 13.765625 71.78125 18.9375 73 \r\nQ 24.125 74.21875 28.421875 74.21875 \r\nQ 39.75 74.21875 46.484375 68.546875 \r\nQ 53.21875 62.890625 53.21875 53.421875 \r\nQ 53.21875 48.921875 51.53125 44.890625 \r\nQ 49.859375 40.875 45.40625 35.40625 \r\nQ 44.1875 33.984375 37.640625 27.21875 \r\nQ 31.109375 20.453125 19.1875 8.296875 \r\nz\r\n\" id=\"DejaVuSans-50\"/>\r\n       </defs>\r\n       <use xlink:href=\"#DejaVuSans-50\"/>\r\n       <use x=\"63.623047\" xlink:href=\"#DejaVuSans-48\"/>\r\n      </g>\r\n     </g>\r\n    </g>\r\n    <g id=\"xtick_6\">\r\n     <g id=\"line2d_6\">\r\n      <g>\r\n       <use style=\"stroke:#000000;stroke-width:0.8;\" x=\"200.1975\" xlink:href=\"#m7a41db38b2\" y=\"225.041719\"/>\r\n      </g>\r\n     </g>\r\n     <g id=\"text_6\">\r\n      <!-- 25 -->\r\n      <g transform=\"translate(193.835 239.640156)scale(0.1 -0.1)\">\r\n       <use xlink:href=\"#DejaVuSans-50\"/>\r\n       <use x=\"63.623047\" xlink:href=\"#DejaVuSans-53\"/>\r\n      </g>\r\n     </g>\r\n    </g>\r\n    <g id=\"xtick_7\">\r\n     <g id=\"line2d_7\">\r\n      <g>\r\n       <use style=\"stroke:#000000;stroke-width:0.8;\" x=\"234.1725\" xlink:href=\"#m7a41db38b2\" y=\"225.041719\"/>\r\n      </g>\r\n     </g>\r\n     <g id=\"text_7\">\r\n      <!-- 30 -->\r\n      <g transform=\"translate(227.81 239.640156)scale(0.1 -0.1)\">\r\n       <defs>\r\n        <path d=\"M 40.578125 39.3125 \r\nQ 47.65625 37.796875 51.625 33 \r\nQ 55.609375 28.21875 55.609375 21.1875 \r\nQ 55.609375 10.40625 48.1875 4.484375 \r\nQ 40.765625 -1.421875 27.09375 -1.421875 \r\nQ 22.515625 -1.421875 17.65625 -0.515625 \r\nQ 12.796875 0.390625 7.625 2.203125 \r\nL 7.625 11.71875 \r\nQ 11.71875 9.328125 16.59375 8.109375 \r\nQ 21.484375 6.890625 26.8125 6.890625 \r\nQ 36.078125 6.890625 40.9375 10.546875 \r\nQ 45.796875 14.203125 45.796875 21.1875 \r\nQ 45.796875 27.640625 41.28125 31.265625 \r\nQ 36.765625 34.90625 28.71875 34.90625 \r\nL 20.21875 34.90625 \r\nL 20.21875 43.015625 \r\nL 29.109375 43.015625 \r\nQ 36.375 43.015625 40.234375 45.921875 \r\nQ 44.09375 48.828125 44.09375 54.296875 \r\nQ 44.09375 59.90625 40.109375 62.90625 \r\nQ 36.140625 65.921875 28.71875 65.921875 \r\nQ 24.65625 65.921875 20.015625 65.03125 \r\nQ 15.375 64.15625 9.8125 62.3125 \r\nL 9.8125 71.09375 \r\nQ 15.4375 72.65625 20.34375 73.4375 \r\nQ 25.25 74.21875 29.59375 74.21875 \r\nQ 40.828125 74.21875 47.359375 69.109375 \r\nQ 53.90625 64.015625 53.90625 55.328125 \r\nQ 53.90625 49.265625 50.4375 45.09375 \r\nQ 46.96875 40.921875 40.578125 39.3125 \r\nz\r\n\" id=\"DejaVuSans-51\"/>\r\n       </defs>\r\n       <use xlink:href=\"#DejaVuSans-51\"/>\r\n       <use x=\"63.623047\" xlink:href=\"#DejaVuSans-48\"/>\r\n      </g>\r\n     </g>\r\n    </g>\r\n   </g>\r\n   <g id=\"matplotlib.axis_2\">\r\n    <g id=\"ytick_1\">\r\n     <g id=\"line2d_8\">\r\n      <defs>\r\n       <path d=\"M 0 0 \r\nL -3.5 0 \r\n\" id=\"mf0b4567d6e\" style=\"stroke:#000000;stroke-width:0.8;\"/>\r\n      </defs>\r\n      <g>\r\n       <use style=\"stroke:#000000;stroke-width:0.8;\" x=\"26.925\" xlink:href=\"#mf0b4567d6e\" y=\"10.999219\"/>\r\n      </g>\r\n     </g>\r\n     <g id=\"text_8\">\r\n      <!-- 0 -->\r\n      <g transform=\"translate(13.5625 14.798437)scale(0.1 -0.1)\">\r\n       <use xlink:href=\"#DejaVuSans-48\"/>\r\n      </g>\r\n     </g>\r\n    </g>\r\n    <g id=\"ytick_2\">\r\n     <g id=\"line2d_9\">\r\n      <g>\r\n       <use style=\"stroke:#000000;stroke-width:0.8;\" x=\"26.925\" xlink:href=\"#mf0b4567d6e\" y=\"44.974219\"/>\r\n      </g>\r\n     </g>\r\n     <g id=\"text_9\">\r\n      <!-- 5 -->\r\n      <g transform=\"translate(13.5625 48.773437)scale(0.1 -0.1)\">\r\n       <use xlink:href=\"#DejaVuSans-53\"/>\r\n      </g>\r\n     </g>\r\n    </g>\r\n    <g id=\"ytick_3\">\r\n     <g id=\"line2d_10\">\r\n      <g>\r\n       <use style=\"stroke:#000000;stroke-width:0.8;\" x=\"26.925\" xlink:href=\"#mf0b4567d6e\" y=\"78.949219\"/>\r\n      </g>\r\n     </g>\r\n     <g id=\"text_10\">\r\n      <!-- 10 -->\r\n      <g transform=\"translate(7.2 82.748437)scale(0.1 -0.1)\">\r\n       <use xlink:href=\"#DejaVuSans-49\"/>\r\n       <use x=\"63.623047\" xlink:href=\"#DejaVuSans-48\"/>\r\n      </g>\r\n     </g>\r\n    </g>\r\n    <g id=\"ytick_4\">\r\n     <g id=\"line2d_11\">\r\n      <g>\r\n       <use style=\"stroke:#000000;stroke-width:0.8;\" x=\"26.925\" xlink:href=\"#mf0b4567d6e\" y=\"112.924219\"/>\r\n      </g>\r\n     </g>\r\n     <g id=\"text_11\">\r\n      <!-- 15 -->\r\n      <g transform=\"translate(7.2 116.723437)scale(0.1 -0.1)\">\r\n       <use xlink:href=\"#DejaVuSans-49\"/>\r\n       <use x=\"63.623047\" xlink:href=\"#DejaVuSans-53\"/>\r\n      </g>\r\n     </g>\r\n    </g>\r\n    <g id=\"ytick_5\">\r\n     <g id=\"line2d_12\">\r\n      <g>\r\n       <use style=\"stroke:#000000;stroke-width:0.8;\" x=\"26.925\" xlink:href=\"#mf0b4567d6e\" y=\"146.899219\"/>\r\n      </g>\r\n     </g>\r\n     <g id=\"text_12\">\r\n      <!-- 20 -->\r\n      <g transform=\"translate(7.2 150.698437)scale(0.1 -0.1)\">\r\n       <use xlink:href=\"#DejaVuSans-50\"/>\r\n       <use x=\"63.623047\" xlink:href=\"#DejaVuSans-48\"/>\r\n      </g>\r\n     </g>\r\n    </g>\r\n    <g id=\"ytick_6\">\r\n     <g id=\"line2d_13\">\r\n      <g>\r\n       <use style=\"stroke:#000000;stroke-width:0.8;\" x=\"26.925\" xlink:href=\"#mf0b4567d6e\" y=\"180.874219\"/>\r\n      </g>\r\n     </g>\r\n     <g id=\"text_13\">\r\n      <!-- 25 -->\r\n      <g transform=\"translate(7.2 184.673437)scale(0.1 -0.1)\">\r\n       <use xlink:href=\"#DejaVuSans-50\"/>\r\n       <use x=\"63.623047\" xlink:href=\"#DejaVuSans-53\"/>\r\n      </g>\r\n     </g>\r\n    </g>\r\n    <g id=\"ytick_7\">\r\n     <g id=\"line2d_14\">\r\n      <g>\r\n       <use style=\"stroke:#000000;stroke-width:0.8;\" x=\"26.925\" xlink:href=\"#mf0b4567d6e\" y=\"214.849219\"/>\r\n      </g>\r\n     </g>\r\n     <g id=\"text_14\">\r\n      <!-- 30 -->\r\n      <g transform=\"translate(7.2 218.648437)scale(0.1 -0.1)\">\r\n       <use xlink:href=\"#DejaVuSans-51\"/>\r\n       <use x=\"63.623047\" xlink:href=\"#DejaVuSans-48\"/>\r\n      </g>\r\n     </g>\r\n    </g>\r\n   </g>\r\n   <g id=\"patch_3\">\r\n    <path d=\"M 26.925 225.041719 \r\nL 26.925 7.601719 \r\n\" style=\"fill:none;stroke:#000000;stroke-linecap:square;stroke-linejoin:miter;stroke-width:0.8;\"/>\r\n   </g>\r\n   <g id=\"patch_4\">\r\n    <path d=\"M 244.365 225.041719 \r\nL 244.365 7.601719 \r\n\" style=\"fill:none;stroke:#000000;stroke-linecap:square;stroke-linejoin:miter;stroke-width:0.8;\"/>\r\n   </g>\r\n   <g id=\"patch_5\">\r\n    <path d=\"M 26.925 225.041719 \r\nL 244.365 225.041719 \r\n\" style=\"fill:none;stroke:#000000;stroke-linecap:square;stroke-linejoin:miter;stroke-width:0.8;\"/>\r\n   </g>\r\n   <g id=\"patch_6\">\r\n    <path d=\"M 26.925 7.601719 \r\nL 244.365 7.601719 \r\n\" style=\"fill:none;stroke:#000000;stroke-linecap:square;stroke-linejoin:miter;stroke-width:0.8;\"/>\r\n   </g>\r\n  </g>\r\n </g>\r\n <defs>\r\n  <clipPath id=\"p06b32830d0\">\r\n   <rect height=\"217.44\" width=\"217.44\" x=\"26.925\" y=\"7.601719\"/>\r\n  </clipPath>\r\n </defs>\r\n</svg>\r\n",
      "image/png": "[encoded data removed]"
     },
     "metadata": {
      "needs_background": "light"
     }
    }
   ],
   "source": [
    "# image viewer\n",
    "index = 2 # change this value to see different images and their class label from the training data\n",
    "\n",
    "import numpy as np\n",
    "im = np.reshape(xb1_normalised[index],(32,32,3)) # to put it in a format for matplotlib (32, 32, 3)  # 32 x 32 pixels image # 3 colour depth \n",
    "\n",
    "imgplot = plt.imshow(im)\n",
    "\n",
    "print(yb1[index], label_classes[yb1[index]])\n",
    "imgplot"
   ]
  },
  {
   "cell_type": "code",
   "execution_count": null,
   "metadata": {},
   "outputs": [],
   "source": []
  }
 ]
}