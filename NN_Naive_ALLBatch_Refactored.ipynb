{
 "metadata": {
  "language_info": {
   "codemirror_mode": {
    "name": "ipython",
    "version": 3
   },
   "file_extension": ".py",
   "mimetype": "text/x-python",
   "name": "python",
   "nbconvert_exporter": "python",
   "pygments_lexer": "ipython3",
   "version": "3.7.3"
  },
  "orig_nbformat": 2,
  "kernelspec": {
   "name": "python373jvsc74a57bd07a47bf6e4dce792c65a7d49caf54e729a54726c5dc0326382809f81559c32857",
   "display_name": "Python 3.7.3 64-bit ('base': conda)"
  }
 },
 "nbformat": 4,
 "nbformat_minor": 2,
 "cells": [
  {
   "source": [
    "## **NN_Naive_ALLBatch_Refactored.ipynb**\n",
    "\n",
    "Our artificial neural network here would work great for classifying data into multiple (10) classes. \n",
    "\n",
    "Here we use Softmax. Given a specific example Softmax will output probabilities (probabilities of that example being each class) where all of them add up to 1. Note that here we are assuming that each example belongs to exactly one class and can't have multiple labels (e.g. Dog and Frog in this case wouldn't make sense but for classifying the genre of different Netflix movies you may have one movie that is Action, Sci-Fi, and comedy). We would also have to use a different function other than softmax and different approach.\n",
    "\n",
    "Although our images are fairly complicated. This might have been fine for numerical data and classifying that or simple images e.g. black and white letters or something.\n",
    "\n",
    "* Here this is going to require too much computation \n",
    "* It also is at risk of overfitting if there is too much variation and we can see that some of these cats for example, are in different positions and parts of the image and our network will struggle with this\n",
    "* As we are feeding in data flattened (each image is just an array of numeric values 1x 3072 vector) it literally treats all of the parts of the image the same and data which is close together (in 2D maybe they are together) the same as far apart data \n",
    "\n",
    "Our images in 2D would be 32 x 32 x 3 size. 32 by 32 for dimensions height and width and the 3 for the colour depth (rgb, red green blue values like 120, -63, 24). \n",
    "\n",
    "Flattened each image is 1 x 3072. \n",
    "\n",
    "In the dataset folder \"cifar-10-batches-py\":\n",
    "there are data batch 1 to 5 and a test batch\n",
    "\n",
    "* data batch 1 to 5 are used for training and in total therefore there are 50000 images used for training\n",
    "* test batch has 10000 image\n",
    "\n",
    "Each batch has 10000 images so e.g. data batch 1 for training has 10000 images\n",
    "\n",
    "As a flattened image is 1 x 3072 vector the whole data matrix for data batch 1 (used for training) is (10000, 3072)\n",
    "We train this network on all 5 batches. Each batch it sees 10 times (thats why its 10 epochs and it starts at like low accuracy and works its way up). Then we test the network on the 1 testing batch using this unseen data to see if it can actually \"see\" and classify images correctly.\n",
    "\n",
    "We get a low training accuracy and testing accuracy so we must change our approach.\n",
    "\n",
    "## NN Convolutional Neural Network\n",
    "\n",
    "This is better suited so we get higher accuracy on this complex image dataset than the flawed naive network."
   ],
   "cell_type": "markdown",
   "metadata": {}
  },
  {
   "cell_type": "code",
   "execution_count": 1,
   "metadata": {},
   "outputs": [],
   "source": [
    "import File_Manager_Tar_Gz as fm"
   ]
  },
  {
   "cell_type": "code",
   "execution_count": 2,
   "metadata": {},
   "outputs": [],
   "source": [
    "def download_and_extract_data():\n",
    "    file_name = \"cifar-10-python.tar.gz\"\n",
    "    website_link = \"https://www.cs.toronto.edu/~kriz/cifar-10-python.tar.gz\"\n",
    "\n",
    "    print(fm.download_file_tar_gz(dataset_link=website_link, dataset_file_name=file_name))\n",
    "    print(fm.open_file_tar_gz(file_name))"
   ]
  },
  {
   "cell_type": "code",
   "execution_count": 3,
   "metadata": {},
   "outputs": [
    {
     "output_type": "stream",
     "name": "stdout",
     "text": [
      "Error: File already downloaded as file cifar-10-python.tar.gz/\nFalse\nError: File already extracted as folder cifar-10-batches-py/\nFalse\n"
     ]
    }
   ],
   "source": [
    "download_and_extract_data()"
   ]
  },
  {
   "cell_type": "code",
   "execution_count": 4,
   "metadata": {},
   "outputs": [],
   "source": [
    "def load_data(file_names : list, folder_names : list):\n",
    "    data_dico = {}\n",
    "    for fil, fold in zip(file_names, folder_names):\n",
    "        batch_file_path = \"{}/{}\".format(fold, fil)\n",
    "        dico = fm.unpickle(batch_file_path)\n",
    "        data_dico[dico[b'batch_label']] = dico\n",
    "\n",
    "    return data_dico"
   ]
  },
  {
   "cell_type": "code",
   "execution_count": 5,
   "metadata": {},
   "outputs": [],
   "source": [
    "file_names = [\"data_batch_1\", \"data_batch_2\", \"data_batch_3\", \"data_batch_4\", \"data_batch_5\", \"test_batch\"]\n",
    "data = load_data(file_names, [\"cifar-10-batches-py\"]*len(file_names))"
   ]
  },
  {
   "cell_type": "code",
   "execution_count": 6,
   "metadata": {},
   "outputs": [],
   "source": [
    "# From cifar-10 https://www.cs.toronto.edu/~kriz/cifar.html our 10 classes\n",
    "label_classes = [\"airplane\", \"automobile\", \"bird\", \"cat\",\t\"deer\",\t\"dog\", \"frog\", \"horse\", \"ship\", \"truck\"]"
   ]
  },
  {
   "cell_type": "code",
   "execution_count": 7,
   "metadata": {},
   "outputs": [
    {
     "output_type": "execute_result",
     "data": {
      "text/plain": [
       "'\\n(10000, 3072)\\n10000 labels as it is batch 1 of 5 ie 10000 out of 50000 images\\n32 x 32 pixels image # 3 colour depth 32323 = 3072\\n\\n\\nprint(\"Training set min: {}, max: {}\".format(b1_dico[b\\'data\\'].min(), b1_dico[b\\'data\\'].max())) # Training set min: 0, max: 255\\nprint(\"Labels min: {}, max: {}\".format(min(b1_dico[b\\'labels\\']), max(b1_dico[b\\'labels\\']))) # Labels min: 0, max: 9\\n'"
      ]
     },
     "metadata": {},
     "execution_count": 7
    }
   ],
   "source": [
    "# data.keys() \r\n",
    "# >>> dict_keys([b'training batch 1 of 5', b'training batch 2 of 5', b'training batch 3 of 5', b'training batch 4 of 5', b'training batch 5 of 5', b'testing batch 1 of 1'])\r\n",
    "\r\n",
    "# data[b'training batch 1 of 5'] # >>>> png names.....\r\n",
    "\r\n",
    "# data[b'training batch 1 of 5'].keys() \r\n",
    "# >>> dict_keys([b'batch_label', b'labels', b'data', b'filenames'])\r\n",
    "\r\n",
    "# batch 1 training data and labels\r\n",
    "# print(data[b'training batch 1 of 5'][b'data'].shape)     # >>> (10000, 3072)     \r\n",
    "# print(len(data[b'training batch 1 of 5'][b'labels']))    # >>> 10000\r\n",
    "\r\n",
    "'''\r\n",
    "(10000, 3072)\r\n",
    "10000 labels as it is batch 1 of 5 ie 10000 out of 50000 images\r\n",
    "32 x 32 pixels image # 3 colour depth 32323 = 3072\r\n",
    "\r\n",
    "\r\n",
    "print(\"Training set min: {}, max: {}\".format(b1_dico[b'data'].min(), b1_dico[b'data'].max())) # Training set min: 0, max: 255\r\n",
    "print(\"Labels min: {}, max: {}\".format(min(b1_dico[b'labels']), max(b1_dico[b'labels']))) # Labels min: 0, max: 9\r\n",
    "'''"
   ]
  },
  {
   "cell_type": "code",
   "execution_count": 8,
   "metadata": {},
   "outputs": [],
   "source": [
    "def normalise_data(data_dico):\n",
    "    \"\"\" Normalise this data between 0 and 1 to make it easier for plotting.\n",
    "    \n",
    "    Changes data dictionary\n",
    "    \"\"\"\n",
    "\n",
    "    for key in data_dico.keys(): # training batch 1 to 5 and testing batch\n",
    "        data_dico[key][b'data'] = data_dico[key][b'data'] / data_dico[key][b'data'].max()\n",
    "    return data_dico"
   ]
  },
  {
   "cell_type": "code",
   "execution_count": 9,
   "metadata": {},
   "outputs": [],
   "source": [
    "data = normalise_data(data)"
   ]
  },
  {
   "cell_type": "code",
   "execution_count": 10,
   "metadata": {},
   "outputs": [],
   "source": [
    "import matplotlib.pyplot as plt\n",
    "import numpy as np"
   ]
  },
  {
   "cell_type": "code",
   "execution_count": 11,
   "metadata": {},
   "outputs": [
    {
     "output_type": "display_data",
     "data": {
      "text/plain": "<Figure size 432x288 with 1 Axes>",
      "image/svg+xml": "<?xml version=\"1.0\" encoding=\"utf-8\" standalone=\"no\"?>\r\n<!DOCTYPE svg PUBLIC \"-//W3C//DTD SVG 1.1//EN\"\r\n  \"http://www.w3.org/Graphics/SVG/1.1/DTD/svg11.dtd\">\r\n<!-- Created with matplotlib (https://matplotlib.org/) -->\r\n<svg height=\"273.514219pt\" version=\"1.1\" viewBox=\"0 0 251.565 273.514219\" width=\"251.565pt\" xmlns=\"http://www.w3.org/2000/svg\" xmlns:xlink=\"http://www.w3.org/1999/xlink\">\r\n <metadata>\r\n  <rdf:RDF xmlns:cc=\"http://creativecommons.org/ns#\" xmlns:dc=\"http://purl.org/dc/elements/1.1/\" xmlns:rdf=\"http://www.w3.org/1999/02/22-rdf-syntax-ns#\">\r\n   <cc:Work>\r\n    <dc:type rdf:resource=\"http://purl.org/dc/dcmitype/StillImage\"/>\r\n    <dc:date>2021-04-30T12:39:09.202155</dc:date>\r\n    <dc:format>image/svg+xml</dc:format>\r\n    <dc:creator>\r\n     <cc:Agent>\r\n      <dc:title>Matplotlib v3.3.1, https://matplotlib.org/</dc:title>\r\n     </cc:Agent>\r\n    </dc:creator>\r\n   </cc:Work>\r\n  </rdf:RDF>\r\n </metadata>\r\n <defs>\r\n  <style type=\"text/css\">*{stroke-linecap:butt;stroke-linejoin:round;}</style>\r\n </defs>\r\n <g id=\"figure_1\">\r\n  <g id=\"patch_1\">\r\n   <path d=\"M 0 273.514219 \r\nL 251.565 273.514219 \r\nL 251.565 0 \r\nL 0 0 \r\nz\r\n\" style=\"fill:none;\"/>\r\n  </g>\r\n  <g id=\"axes_1\">\r\n   <g id=\"patch_2\">\r\n    <path d=\"M 26.925 249.636094 \r\nL 244.365 249.636094 \r\nL 244.365 32.196094 \r\nL 26.925 32.196094 \r\nz\r\n\" style=\"fill:#ffffff;\"/>\r\n   </g>\r\n   <g clip-path=\"url(#p41767cadba)\">\r\n    <image height=\"218\" id=\"imageda3173a474\" transform=\"scale(1 -1)translate(0 -218)\" width=\"218\" x=\"26.925\" xlink:href=\"data:image/png;base64,\r\niVBORw0KGgoAAAANSUhEUgAAANoAAADaCAYAAADAHVzbAAAUQElEQVR4nO2dy3Mb2XnFv34CaDwIEqQoinpLo7E1mhmP47hSdmrKVUm5XNlklW3+ivwh+TeyS7zKJpmkYicTT0aZRxxpKOpNUgQBAk0QQL+7s8j2nrua+rw5v2V/dYFGdx901bnfPdf5h7/9m0YAycUZKkm3nxmPd1pTOGYwcmBtuNOGNXFLWFqta+PxeNaBY+KpB2vJyoe1qgxhTRoXlurSfI5pksIxYYi/y/Px+V+m5u8SEUmW5u9rNzkc03fxOc7XC1h7VeDr2HLMj1w3aMEx6wSf49H0Eta63S6s/dmnH8PaR4/uG49/9s+f4/M4WcIafjoIId8bFBohClBohChAoRGiAIVGiAIUGiEK+F6B7fgg/y9Ya7lmKzP0CzimXGPLff4Oa365wvZ+HIPPO8f2+PwclsSrsR3sCbafywKfo4BZjbqGMyviWP4DPT/A5+HjcQ34uqLG535RYes8SdawFpT4HLM0MR73OhEcEy/MY0REXhziG3p6soK160NYkkHb/Nt+9/ljOMZyinyjEaIBhUaIAhQaIQpQaIQoQKERogCFRogC/vVbuJgNcOd21TZbwlmJtbvCzc1WC3+5wLYvqi2XFRxTpLjWCfEqgiDAlrXnWax6YLmnKe5IbyzWf2WZSui2cNe8D86jrvDvClo7sJY6M1jzZpaO+p75ng22RnBM/wr+XQsXPx9p9hbWwi5eBXF6cWo8/uT1MRxTeX1Y4xuNEAUoNEIUoNAIUYBCI0QBCo0QBfxeDzcBZ1NsEy4vzRpdJNgdis+xi7mY43FS4WbkbnvXeHwjwtkZKy+Gtcs1blCtGnwevWgD1rLGfC45PkUpMuyMOqg7WEScGn9or2d2VH0fX/s8wc/HIsZNxWEHu7f94cB43AuwC9gLcJP4e7exW3l1C4/75McPYO1yBZqRa/xumi5xAzPfaIQoQKERogCFRogCFBohClBohChAoRGigF+muEE1XeCm19nCbMXOVzhzYzrGtnSR47jwXs8Scy3m2PIau9JSV/jz8jW+HkEHX4+qwla355qbdkOLnV3m2N7HV1HEsTRFe23z9ERR4t+V5ObodxGRbh838/Z6+DlwXPP/u+PgZ0AqfEMjwbXhNj6PzR6e1tje2jIe//Nf/ACO+eLbMazxjUaIAhQaIQpQaIQoQKERogCFRogCFBohCviLObZG8wzbt/Mzs8k8nmDzOa9wpDbqLBexd5eHodki90L8H1JkOCOjtnSdp8UFrLUjS7d6b9N4fHyGMzeyANv7dWOZChnge9aAOY/FAv8uP8DXcXtk/l0iIqGHx2Vo2YLlPq8ynEGSpXhqpVjh83h1+ArWHv3EvOPnp58+xOeR4WefbzRCFKDQCFGAQiNEAQqNEAUoNEIUoNAIUcB/8xZ3bh89xWE6SWW2dtsdHIvccrFlbXF2pWsJvok65potontraO7MFhGZzXAgUZwOYe3W+/dg7ejIHC+9cfU6HLPXwlMQ55MJrMUzvINrkZvvp4sXEUi2ws/HcrmAtXZniGt9czhPWeKppqqFV1xUlu79BM8KyOHbE1jbum5+vveu7cMxo52XsMY3GiEKUGiEKEChEaIAhUaIAhQaIQpQaIQo4I8nloz6FGeae21z6Em3i8NQvAB7+F6A7XjfYtU3wNrtdLGFH3bwKgIJY1j6yY9/BmtXbmB7v3/NbLkXa9w1v5xg6/ns9AjWkgTnv29s9MBxs90uIlJZQnEOnr+CtcdPD2DNbZmfkcEuXgFx5xE+x9YVWJJ0hqeozub4+v/3wbfG4x+H+Bne2sOrGfhGI0QBCo0QBSg0QhSg0AhRgEIjRAEKjRAF/LzE9n7YwjZ445i7ut0K259RhDv71xW2YfMigTUfBLO0fNySPk7x5/W3dmAtCnFH/eTtIR7XMWfe//sXv4Vj1jHe4jcIcThPt4fvWRSZz6OxbNXbWP6L9/avwVrq4m2I49i8v0Fi2Zp2YrHp9/fwdzV7+DPnQQxrq9Rs/Y9i/Hzcf2gO9BHhG40QFSg0QhSg0AhRgEIjRAEKjRAF/LrBOzqmGXbn2h1zY+g6we7QKjfvziki0t/Bbs75FOd4tEOz43R1YxeOqQU7klGEm6KzBY7writ8Hb97Zs4McUt8fUMHu8GOxSXs9XAkOMoGySu8y2lhcaVtUe0PruP7WV8zu6aLHN/n3MfXKo1xrbDs0tqz7PgZgN1HV5fYDe7cex/W+EYjRAEKjRAFKDRCFKDQCFGAQiNEAQqNEAV817Xs0FniCG8pzRqtLGMKseRZhLhBdXv/Dqxt7Zpr/b0bcExuyeqYneFY59PDN7B2885NWLtyxWx1x+MxHFPX2HLv+Lhx2PFxw/EKNGA3lumO3LK7qCO4ybrXwRkfJZjW6HW24ZjKklt+fPIC1qSLczz6LWzvt2tzbT3F12N6hq1/vtEIUYBCI0QBCo0QBSg0QhSg0AhRgEIjRAHfpjXXD2GtBt3NjiWro+Xg77q8mMPaX/71X8Ha3v1PjMdfvDR3zIuIzE+ew1p8/BTWliu8w2VZ42mNVWqO1T612MGjIV5FUIFrLyKyu4Nj3POx+ZqcLywZKiOct337vQ9h7cadH8HacmnehrPt46mmb778DawdPMHTRp0OjhmvW7iWgimUyRo/A7XHHT8J+YNCoRGiAIVGiAIUGiEKUGiEKEChEaKA7zrYwodpLiLS+GaNBi7uiG5sITAZDvX56ssvYW3r1iPj8Yc/Mtv+IiLjAbZ1p8/wd3mbeBfRG/cfwtrJpdn6L7zHcMwSrI4QEUlXOMTGbVt2pByZu+MvEjwVEvXNu4SKiNywrFh48OEHsCaV2TqfvX0Ch/xvhoOdRj623J3cvGJBRCS9wMFDS7Bqoeng6+u7+PngG40QBSg0QhSg0AhRgEIjRAEKjRAFKDRCFPBblu7mdYbt+Ap0q3ciPF3gWaYLyiW293/9d7+GtXbnuvH4z3/1F3DM6OY9WKtAKIuIyLC7AWs7t3HueuSbbd9McMhOluCO9MUihrXpMQ4QilfmHPq9PRx+tH9rH9YGPdxtf/QGT5Nc3TV3/Q+Glt1K2/i7Ni2We20Ji4rwoy8bnvkdFI3woC4+fb7RCNGAQiNEAQqNEAUoNEIUoNAIUcAvLI2+m328e2TY7RuPt30cE325wLsvPj/HzZ8bGzg/4/njfzQev7WP/0MefPorWAv6+LvWR69hbXLwFayFO2aX84MH78ExniXKOsmxAzc+eQtr8/GR8XhV4Gsf9rHL9s3BIax18KMjo21zXHua46j2so3PI7I4o3mD81ACB1/HsGV+jm2R9+MTcxaKCN9ohKhAoRGiAIVGiAIUGiEKUGiEKEChEaKA71oivDstrEOnNlvCHp4tkKrGGQ2HpzgSfBtkXYiI+M/NdvbXv/kMjunv4t1Fb93D2R//9h+/hbWdwbew1r5qjv4e3voIjtkd4R1LeyOcTbGxg69VkZinGaoMW+CHhzgiffoC2/s/+5Ofwtpo13we4xo3ljsd3LHb5HgqxHNxRHqVZ7CWgGtyMYnhmOwST23xjUaIAhQaIQpQaIQoQKERogCFRogCFBohCvgg+VhERLwA25WNmAeWgv19p2P5PIvkZzHuLvcT8/TE488P4JjR3uew9uDDn8Na5uPMkBdHE1h7tGvONTk9w2P2P8I5GO0hzmWJGmxZr2fme5NkOGL83j6eStje+FNYG+7glQki5pUfgz7eXdSywECmr3C+iuN2YK0ucCe+05ifq6AawjFeiFcY8I1GiAIUGiEKUGiEKEChEaIAhUaIAhQaIQr4Fc4nEb+Dd3uskR9fYcvUs9ipm9j5l06E5yCGXbPVPZ/jXSC/+Ax39kchXs3w8U/vw9rTr/GUQRWaLeb9uziavMhi/HknJ7CWZ3jKwGvMqyeSqXl1gYhInRewtr2Frf949RLWspex+Tzid/g88O0UL8e2uhPiaZIAxH6LiLigVKSWqSbb58EKIeR7g0IjRAEKjRAFKDRCFKDQCFGAQiNEAb8/xOEl5RJb3UuwQ6dT4aCX0mL9Rz3cGT+7wN5uWpjPwyuxLX12MoW142/+FdZ+8Usc3FOvcEf9spwZj9+3dOGPn38Na50SW/iV4ICb1cpcc/FtkbzCgUrvzvDuoqsMz9dcvDPfz8vzUzhmPsZTEGELd+inlgAe1/LDO555WsATfD1cy2oXvtEIUYBCI0QBCo0QBSg0QhSg0AhRwI9jnBfRJHgHw6YxdyP7Hu5S3tjCzuKtCjtw+Uu806YfmL9v5zqOxk7H2LU7PsbfFZ9gd6tYxLDW7psd0KOvfwfHnE3GsDYc4l1J3Ro7X6FrvsbvJsdwTHsD35eVJUr8+A1+rl4fmJui8xyPaUXmnBERkca3NQ7jhnQP5N6IiGQZcNXhCJHC0oDNNxohClBohChAoRGiAIVGiAIUGiEKUGiEKOB7IPpYRMQBjZX/jzleerXElm96iRs82wHOfbhzfQfWFmvzFMSOZVfPtYft8ePxE1j7p395hj8zxcbvPsjxOAO7lYqIzC/wDqidIb4el+cxrN24umc8Hq9wpPbdH+BG6p1NfI2dAv+2w9+bdwqNF3g66fZoAGsVyEIRESlq3DjsuvieVSBMp7HsWutgKfGNRogGFBohClBohChAoRGiAIVGiAIUGiEK+J027vZ2PNytjoxRx7KFaJ3m+EQsfdFRG3dub26ZrfpWG1v4iY8t2tdTvPpgkeHubNDsLSIiB2fm/I/37+3DMW6GbenyEudnLBZ4WuC7C7ONX1qmOyYzPKVx772bsPbyDZ4mGYO49hAvFJAix1MQZWXJBfHxh9pqEpintnJLFo3v4GeYbzRCFKDQCFGAQiNEAQqNEAUoNEIUoNAIUcCXGtuVTYFrjmueFshSPGZt6RJ3LXHhjiWG2QE2bFPgqYRuhFcKRNubsPbiHQ71aeoWrLVz8y6R509wKM5Vz7w6QkTkk038XYMcr7jIQnM40jzD3zU9fg5r/3Pwe1hb53gVx2ptvtfX9vA0g+Pg3WctSdxSO/i5KixWPZrkqWFFpLGsIuAbjRAFKDRCFKDQCFGAQiNEAQqNEAUoNEIU8OdTbFknM2w/+53IeLwsLV3nObaRfQfbprb8dBd85nKFc9yHmzjo5Yd3d2EtnpltehGR6Rz/tmVpruVrW9Y8vo5/9Me4a37g4Y70/zw3r8Z48uoMjhnHeLdVm3Xe4MshbmW+n6ElQ78JLJ32lmensDxzdY1rKcjRDz38bgptzymsEEK+Nyg0QhSg0AhRgEIjRAEKjRAFKDRCFPDPZjjoxc9x4ky3bbZbexG2YQPLvqS5Jd0mCnC3Otri13Fwh36Z4u+yuLdy9/oI1upqCmuTS3Mne1ViO3vh4iD3sxKHFYU7uMv92csXxuOvZqdwTFnjVRBbG/g8fnj1NqytJuYwnd0BbsMftvDDs0hxOM/FBZ6SSSxhSyXI3t+7hvcbeDXBewfwjUaIAhQaIQpQaIQoQKERogCFRogC/gw4YiIigxA7X34BGjItWRGhJYI5sEg+jnHMdQOixMOOOR9DRKTbxo7k4gK7h70OdsXu3cbf156Y3a1lhq+vi+Mn5O+//ArWfMuFfHpuducyy66vgSXmuqxxrW/ZlbRJzM3IfoCbg8XD7mGa4ubsPMWNz+vEkonjm5+RZ69xE/54gd1svtEIUYBCI0QBCo0QBSg0QhSg0AhRgEIjRAH/ZIJjui8DbH9e20a2uqVz2LKrZ+Ngzbci3Ly6zsxNr+eXuMGzsEQ3o6hzEZELS36G28JTF7f2zTHjVYVt9XWCG2WzCjf6lg7epXVrZJ6CCCxzCQNLk3jh4Kbor74z73IqInJz+77xuBPh5vELixWfWCLNG0ucfGaJvJ9Mzff61dsLOKby8PXgG40QBSg0QhSg0AhRgEIjRAEKjRAFKDRCFPAnMe44XgrumN7qmSPB6xDb48sV7uzHPdYijcVGLirzf0Xj4qkEz3KOvoMtZsfD18pp8H9WPzRb7lVh+dWeZedUy/+jbYXB9qZ5R01P8O8a9PFKh7A/hLVkZcmA8czTE3mOO+PTFE9pOJb88V4XT0+UlmmexjNPvbQtKz/SAt8XvtEIUYBCI0QBCo0QBSg0QhSg0AhRgEIjRAF/bul8XhaWqGVg1fuWCOlOC1vPro81X9XYBk/W5vN3LRtElmAHThERCbF967VwZ7xv6YC/cmVoPH65wCsnwhD/gCjF1j8KKxIRiVpmy7rI8bWvG/x5lSXGPfBx0M46N3fGZzl+3kLL6ohuiKd/PEvGe7drnqISEbkCHrmyxvf5eMxIcEL+oFBohChAoRGiAIVGiAIUGiEKUGiEKOCnDbZG55fYBj84Nufh393FGfT7HRyyM9rCNceS/94CXeIp2htARJLckvFumdKoBE9PlCUeN7s0r4KwzzKYO+1FRCwN+lKU2PpfpuYpmcBij9egi11EJK/wtEs7xKsgEhAu5Hr4h1WWvQjEEooT9fDzWKzw6pQM7HbrWt5NG138m/lGI0QBCo0QBSg0QhSg0AhRgEIjRAE/KbEDF2MjTV6fI1cGEzjYOooiPLLdwrUQNK8GAXaA1pb8iXWCc00Ki/Xle9gZvZiZm03LEn+e52JHrNWy/TbcqFyChu/taATHVBVuHC4yywOS4ebsCsS4VxW2YaMIu7COZcfSxOIsei5+rgLf7ICWlhjx/gA7nHyjEaIAhUaIAhQaIQpQaIQoQKERogCFRogC/gcPP4DFOJ7BWgtkZGyGeLogGuGMhqaD7dvusAdrIWhE9S35HrYm1Nk8hrXcMhWyObRYu5XZEs4s9niaYlu93cHW+YYlXH2dLI3HB8MBHCMN/rwc2PQiIp6lAbsNGpX7PXyfu138fAQBvh6J5Rxtu8yKa35GbL+5tOSr8I1GiAIUGiEKUGiEKEChEaIAhUaIAhQaIQr8HxbXASlGChYqAAAAAElFTkSuQmCC\" y=\"-31.636094\"/>\r\n   </g>\r\n   <g id=\"matplotlib.axis_1\">\r\n    <g id=\"xtick_1\">\r\n     <g id=\"line2d_1\">\r\n      <defs>\r\n       <path d=\"M 0 0 \r\nL 0 3.5 \r\n\" id=\"m829a9b2df0\" style=\"stroke:#000000;stroke-width:0.8;\"/>\r\n      </defs>\r\n      <g>\r\n       <use style=\"stroke:#000000;stroke-width:0.8;\" x=\"30.3225\" xlink:href=\"#m829a9b2df0\" y=\"249.636094\"/>\r\n      </g>\r\n     </g>\r\n     <g id=\"text_1\">\r\n      <!-- 0 -->\r\n      <g transform=\"translate(27.14125 264.234531)scale(0.1 -0.1)\">\r\n       <defs>\r\n        <path d=\"M 31.78125 66.40625 \r\nQ 24.171875 66.40625 20.328125 58.90625 \r\nQ 16.5 51.421875 16.5 36.375 \r\nQ 16.5 21.390625 20.328125 13.890625 \r\nQ 24.171875 6.390625 31.78125 6.390625 \r\nQ 39.453125 6.390625 43.28125 13.890625 \r\nQ 47.125 21.390625 47.125 36.375 \r\nQ 47.125 51.421875 43.28125 58.90625 \r\nQ 39.453125 66.40625 31.78125 66.40625 \r\nz\r\nM 31.78125 74.21875 \r\nQ 44.046875 74.21875 50.515625 64.515625 \r\nQ 56.984375 54.828125 56.984375 36.375 \r\nQ 56.984375 17.96875 50.515625 8.265625 \r\nQ 44.046875 -1.421875 31.78125 -1.421875 \r\nQ 19.53125 -1.421875 13.0625 8.265625 \r\nQ 6.59375 17.96875 6.59375 36.375 \r\nQ 6.59375 54.828125 13.0625 64.515625 \r\nQ 19.53125 74.21875 31.78125 74.21875 \r\nz\r\n\" id=\"DejaVuSans-48\"/>\r\n       </defs>\r\n       <use xlink:href=\"#DejaVuSans-48\"/>\r\n      </g>\r\n     </g>\r\n    </g>\r\n    <g id=\"xtick_2\">\r\n     <g id=\"line2d_2\">\r\n      <g>\r\n       <use style=\"stroke:#000000;stroke-width:0.8;\" x=\"64.2975\" xlink:href=\"#m829a9b2df0\" y=\"249.636094\"/>\r\n      </g>\r\n     </g>\r\n     <g id=\"text_2\">\r\n      <!-- 5 -->\r\n      <g transform=\"translate(61.11625 264.234531)scale(0.1 -0.1)\">\r\n       <defs>\r\n        <path d=\"M 10.796875 72.90625 \r\nL 49.515625 72.90625 \r\nL 49.515625 64.59375 \r\nL 19.828125 64.59375 \r\nL 19.828125 46.734375 \r\nQ 21.96875 47.46875 24.109375 47.828125 \r\nQ 26.265625 48.1875 28.421875 48.1875 \r\nQ 40.625 48.1875 47.75 41.5 \r\nQ 54.890625 34.8125 54.890625 23.390625 \r\nQ 54.890625 11.625 47.5625 5.09375 \r\nQ 40.234375 -1.421875 26.90625 -1.421875 \r\nQ 22.3125 -1.421875 17.546875 -0.640625 \r\nQ 12.796875 0.140625 7.71875 1.703125 \r\nL 7.71875 11.625 \r\nQ 12.109375 9.234375 16.796875 8.0625 \r\nQ 21.484375 6.890625 26.703125 6.890625 \r\nQ 35.15625 6.890625 40.078125 11.328125 \r\nQ 45.015625 15.765625 45.015625 23.390625 \r\nQ 45.015625 31 40.078125 35.4375 \r\nQ 35.15625 39.890625 26.703125 39.890625 \r\nQ 22.75 39.890625 18.8125 39.015625 \r\nQ 14.890625 38.140625 10.796875 36.28125 \r\nz\r\n\" id=\"DejaVuSans-53\"/>\r\n       </defs>\r\n       <use xlink:href=\"#DejaVuSans-53\"/>\r\n      </g>\r\n     </g>\r\n    </g>\r\n    <g id=\"xtick_3\">\r\n     <g id=\"line2d_3\">\r\n      <g>\r\n       <use style=\"stroke:#000000;stroke-width:0.8;\" x=\"98.2725\" xlink:href=\"#m829a9b2df0\" y=\"249.636094\"/>\r\n      </g>\r\n     </g>\r\n     <g id=\"text_3\">\r\n      <!-- 10 -->\r\n      <g transform=\"translate(91.91 264.234531)scale(0.1 -0.1)\">\r\n       <defs>\r\n        <path d=\"M 12.40625 8.296875 \r\nL 28.515625 8.296875 \r\nL 28.515625 63.921875 \r\nL 10.984375 60.40625 \r\nL 10.984375 69.390625 \r\nL 28.421875 72.90625 \r\nL 38.28125 72.90625 \r\nL 38.28125 8.296875 \r\nL 54.390625 8.296875 \r\nL 54.390625 0 \r\nL 12.40625 0 \r\nz\r\n\" id=\"DejaVuSans-49\"/>\r\n       </defs>\r\n       <use xlink:href=\"#DejaVuSans-49\"/>\r\n       <use x=\"63.623047\" xlink:href=\"#DejaVuSans-48\"/>\r\n      </g>\r\n     </g>\r\n    </g>\r\n    <g id=\"xtick_4\">\r\n     <g id=\"line2d_4\">\r\n      <g>\r\n       <use style=\"stroke:#000000;stroke-width:0.8;\" x=\"132.2475\" xlink:href=\"#m829a9b2df0\" y=\"249.636094\"/>\r\n      </g>\r\n     </g>\r\n     <g id=\"text_4\">\r\n      <!-- 15 -->\r\n      <g transform=\"translate(125.885 264.234531)scale(0.1 -0.1)\">\r\n       <use xlink:href=\"#DejaVuSans-49\"/>\r\n       <use x=\"63.623047\" xlink:href=\"#DejaVuSans-53\"/>\r\n      </g>\r\n     </g>\r\n    </g>\r\n    <g id=\"xtick_5\">\r\n     <g id=\"line2d_5\">\r\n      <g>\r\n       <use style=\"stroke:#000000;stroke-width:0.8;\" x=\"166.2225\" xlink:href=\"#m829a9b2df0\" y=\"249.636094\"/>\r\n      </g>\r\n     </g>\r\n     <g id=\"text_5\">\r\n      <!-- 20 -->\r\n      <g transform=\"translate(159.86 264.234531)scale(0.1 -0.1)\">\r\n       <defs>\r\n        <path d=\"M 19.1875 8.296875 \r\nL 53.609375 8.296875 \r\nL 53.609375 0 \r\nL 7.328125 0 \r\nL 7.328125 8.296875 \r\nQ 12.9375 14.109375 22.625 23.890625 \r\nQ 32.328125 33.6875 34.8125 36.53125 \r\nQ 39.546875 41.84375 41.421875 45.53125 \r\nQ 43.3125 49.21875 43.3125 52.78125 \r\nQ 43.3125 58.59375 39.234375 62.25 \r\nQ 35.15625 65.921875 28.609375 65.921875 \r\nQ 23.96875 65.921875 18.8125 64.3125 \r\nQ 13.671875 62.703125 7.8125 59.421875 \r\nL 7.8125 69.390625 \r\nQ 13.765625 71.78125 18.9375 73 \r\nQ 24.125 74.21875 28.421875 74.21875 \r\nQ 39.75 74.21875 46.484375 68.546875 \r\nQ 53.21875 62.890625 53.21875 53.421875 \r\nQ 53.21875 48.921875 51.53125 44.890625 \r\nQ 49.859375 40.875 45.40625 35.40625 \r\nQ 44.1875 33.984375 37.640625 27.21875 \r\nQ 31.109375 20.453125 19.1875 8.296875 \r\nz\r\n\" id=\"DejaVuSans-50\"/>\r\n       </defs>\r\n       <use xlink:href=\"#DejaVuSans-50\"/>\r\n       <use x=\"63.623047\" xlink:href=\"#DejaVuSans-48\"/>\r\n      </g>\r\n     </g>\r\n    </g>\r\n    <g id=\"xtick_6\">\r\n     <g id=\"line2d_6\">\r\n      <g>\r\n       <use style=\"stroke:#000000;stroke-width:0.8;\" x=\"200.1975\" xlink:href=\"#m829a9b2df0\" y=\"249.636094\"/>\r\n      </g>\r\n     </g>\r\n     <g id=\"text_6\">\r\n      <!-- 25 -->\r\n      <g transform=\"translate(193.835 264.234531)scale(0.1 -0.1)\">\r\n       <use xlink:href=\"#DejaVuSans-50\"/>\r\n       <use x=\"63.623047\" xlink:href=\"#DejaVuSans-53\"/>\r\n      </g>\r\n     </g>\r\n    </g>\r\n    <g id=\"xtick_7\">\r\n     <g id=\"line2d_7\">\r\n      <g>\r\n       <use style=\"stroke:#000000;stroke-width:0.8;\" x=\"234.1725\" xlink:href=\"#m829a9b2df0\" y=\"249.636094\"/>\r\n      </g>\r\n     </g>\r\n     <g id=\"text_7\">\r\n      <!-- 30 -->\r\n      <g transform=\"translate(227.81 264.234531)scale(0.1 -0.1)\">\r\n       <defs>\r\n        <path d=\"M 40.578125 39.3125 \r\nQ 47.65625 37.796875 51.625 33 \r\nQ 55.609375 28.21875 55.609375 21.1875 \r\nQ 55.609375 10.40625 48.1875 4.484375 \r\nQ 40.765625 -1.421875 27.09375 -1.421875 \r\nQ 22.515625 -1.421875 17.65625 -0.515625 \r\nQ 12.796875 0.390625 7.625 2.203125 \r\nL 7.625 11.71875 \r\nQ 11.71875 9.328125 16.59375 8.109375 \r\nQ 21.484375 6.890625 26.8125 6.890625 \r\nQ 36.078125 6.890625 40.9375 10.546875 \r\nQ 45.796875 14.203125 45.796875 21.1875 \r\nQ 45.796875 27.640625 41.28125 31.265625 \r\nQ 36.765625 34.90625 28.71875 34.90625 \r\nL 20.21875 34.90625 \r\nL 20.21875 43.015625 \r\nL 29.109375 43.015625 \r\nQ 36.375 43.015625 40.234375 45.921875 \r\nQ 44.09375 48.828125 44.09375 54.296875 \r\nQ 44.09375 59.90625 40.109375 62.90625 \r\nQ 36.140625 65.921875 28.71875 65.921875 \r\nQ 24.65625 65.921875 20.015625 65.03125 \r\nQ 15.375 64.15625 9.8125 62.3125 \r\nL 9.8125 71.09375 \r\nQ 15.4375 72.65625 20.34375 73.4375 \r\nQ 25.25 74.21875 29.59375 74.21875 \r\nQ 40.828125 74.21875 47.359375 69.109375 \r\nQ 53.90625 64.015625 53.90625 55.328125 \r\nQ 53.90625 49.265625 50.4375 45.09375 \r\nQ 46.96875 40.921875 40.578125 39.3125 \r\nz\r\n\" id=\"DejaVuSans-51\"/>\r\n       </defs>\r\n       <use xlink:href=\"#DejaVuSans-51\"/>\r\n       <use x=\"63.623047\" xlink:href=\"#DejaVuSans-48\"/>\r\n      </g>\r\n     </g>\r\n    </g>\r\n   </g>\r\n   <g id=\"matplotlib.axis_2\">\r\n    <g id=\"ytick_1\">\r\n     <g id=\"line2d_8\">\r\n      <defs>\r\n       <path d=\"M 0 0 \r\nL -3.5 0 \r\n\" id=\"m3e5f447969\" style=\"stroke:#000000;stroke-width:0.8;\"/>\r\n      </defs>\r\n      <g>\r\n       <use style=\"stroke:#000000;stroke-width:0.8;\" x=\"26.925\" xlink:href=\"#m3e5f447969\" y=\"35.593594\"/>\r\n      </g>\r\n     </g>\r\n     <g id=\"text_8\">\r\n      <!-- 0 -->\r\n      <g transform=\"translate(13.5625 39.392812)scale(0.1 -0.1)\">\r\n       <use xlink:href=\"#DejaVuSans-48\"/>\r\n      </g>\r\n     </g>\r\n    </g>\r\n    <g id=\"ytick_2\">\r\n     <g id=\"line2d_9\">\r\n      <g>\r\n       <use style=\"stroke:#000000;stroke-width:0.8;\" x=\"26.925\" xlink:href=\"#m3e5f447969\" y=\"69.568594\"/>\r\n      </g>\r\n     </g>\r\n     <g id=\"text_9\">\r\n      <!-- 5 -->\r\n      <g transform=\"translate(13.5625 73.367812)scale(0.1 -0.1)\">\r\n       <use xlink:href=\"#DejaVuSans-53\"/>\r\n      </g>\r\n     </g>\r\n    </g>\r\n    <g id=\"ytick_3\">\r\n     <g id=\"line2d_10\">\r\n      <g>\r\n       <use style=\"stroke:#000000;stroke-width:0.8;\" x=\"26.925\" xlink:href=\"#m3e5f447969\" y=\"103.543594\"/>\r\n      </g>\r\n     </g>\r\n     <g id=\"text_10\">\r\n      <!-- 10 -->\r\n      <g transform=\"translate(7.2 107.342812)scale(0.1 -0.1)\">\r\n       <use xlink:href=\"#DejaVuSans-49\"/>\r\n       <use x=\"63.623047\" xlink:href=\"#DejaVuSans-48\"/>\r\n      </g>\r\n     </g>\r\n    </g>\r\n    <g id=\"ytick_4\">\r\n     <g id=\"line2d_11\">\r\n      <g>\r\n       <use style=\"stroke:#000000;stroke-width:0.8;\" x=\"26.925\" xlink:href=\"#m3e5f447969\" y=\"137.518594\"/>\r\n      </g>\r\n     </g>\r\n     <g id=\"text_11\">\r\n      <!-- 15 -->\r\n      <g transform=\"translate(7.2 141.317812)scale(0.1 -0.1)\">\r\n       <use xlink:href=\"#DejaVuSans-49\"/>\r\n       <use x=\"63.623047\" xlink:href=\"#DejaVuSans-53\"/>\r\n      </g>\r\n     </g>\r\n    </g>\r\n    <g id=\"ytick_5\">\r\n     <g id=\"line2d_12\">\r\n      <g>\r\n       <use style=\"stroke:#000000;stroke-width:0.8;\" x=\"26.925\" xlink:href=\"#m3e5f447969\" y=\"171.493594\"/>\r\n      </g>\r\n     </g>\r\n     <g id=\"text_12\">\r\n      <!-- 20 -->\r\n      <g transform=\"translate(7.2 175.292812)scale(0.1 -0.1)\">\r\n       <use xlink:href=\"#DejaVuSans-50\"/>\r\n       <use x=\"63.623047\" xlink:href=\"#DejaVuSans-48\"/>\r\n      </g>\r\n     </g>\r\n    </g>\r\n    <g id=\"ytick_6\">\r\n     <g id=\"line2d_13\">\r\n      <g>\r\n       <use style=\"stroke:#000000;stroke-width:0.8;\" x=\"26.925\" xlink:href=\"#m3e5f447969\" y=\"205.468594\"/>\r\n      </g>\r\n     </g>\r\n     <g id=\"text_13\">\r\n      <!-- 25 -->\r\n      <g transform=\"translate(7.2 209.267812)scale(0.1 -0.1)\">\r\n       <use xlink:href=\"#DejaVuSans-50\"/>\r\n       <use x=\"63.623047\" xlink:href=\"#DejaVuSans-53\"/>\r\n      </g>\r\n     </g>\r\n    </g>\r\n    <g id=\"ytick_7\">\r\n     <g id=\"line2d_14\">\r\n      <g>\r\n       <use style=\"stroke:#000000;stroke-width:0.8;\" x=\"26.925\" xlink:href=\"#m3e5f447969\" y=\"239.443594\"/>\r\n      </g>\r\n     </g>\r\n     <g id=\"text_14\">\r\n      <!-- 30 -->\r\n      <g transform=\"translate(7.2 243.242812)scale(0.1 -0.1)\">\r\n       <use xlink:href=\"#DejaVuSans-51\"/>\r\n       <use x=\"63.623047\" xlink:href=\"#DejaVuSans-48\"/>\r\n      </g>\r\n     </g>\r\n    </g>\r\n   </g>\r\n   <g id=\"patch_3\">\r\n    <path d=\"M 26.925 249.636094 \r\nL 26.925 32.196094 \r\n\" style=\"fill:none;stroke:#000000;stroke-linecap:square;stroke-linejoin:miter;stroke-width:0.8;\"/>\r\n   </g>\r\n   <g id=\"patch_4\">\r\n    <path d=\"M 244.365 249.636094 \r\nL 244.365 32.196094 \r\n\" style=\"fill:none;stroke:#000000;stroke-linecap:square;stroke-linejoin:miter;stroke-width:0.8;\"/>\r\n   </g>\r\n   <g id=\"patch_5\">\r\n    <path d=\"M 26.925 249.636094 \r\nL 244.365 249.636094 \r\n\" style=\"fill:none;stroke:#000000;stroke-linecap:square;stroke-linejoin:miter;stroke-width:0.8;\"/>\r\n   </g>\r\n   <g id=\"patch_6\">\r\n    <path d=\"M 26.925 32.196094 \r\nL 244.365 32.196094 \r\n\" style=\"fill:none;stroke:#000000;stroke-linecap:square;stroke-linejoin:miter;stroke-width:0.8;\"/>\r\n   </g>\r\n   <g id=\"text_15\">\r\n    <!-- frog -->\r\n    <g transform=\"translate(110.803203 26.196094)scale(0.25 -0.25)\">\r\n     <defs>\r\n      <path d=\"M 37.109375 75.984375 \r\nL 37.109375 68.5 \r\nL 28.515625 68.5 \r\nQ 23.6875 68.5 21.796875 66.546875 \r\nQ 19.921875 64.59375 19.921875 59.515625 \r\nL 19.921875 54.6875 \r\nL 34.71875 54.6875 \r\nL 34.71875 47.703125 \r\nL 19.921875 47.703125 \r\nL 19.921875 0 \r\nL 10.890625 0 \r\nL 10.890625 47.703125 \r\nL 2.296875 47.703125 \r\nL 2.296875 54.6875 \r\nL 10.890625 54.6875 \r\nL 10.890625 58.5 \r\nQ 10.890625 67.625 15.140625 71.796875 \r\nQ 19.390625 75.984375 28.609375 75.984375 \r\nz\r\n\" id=\"DejaVuSans-102\"/>\r\n      <path d=\"M 41.109375 46.296875 \r\nQ 39.59375 47.171875 37.8125 47.578125 \r\nQ 36.03125 48 33.890625 48 \r\nQ 26.265625 48 22.1875 43.046875 \r\nQ 18.109375 38.09375 18.109375 28.8125 \r\nL 18.109375 0 \r\nL 9.078125 0 \r\nL 9.078125 54.6875 \r\nL 18.109375 54.6875 \r\nL 18.109375 46.1875 \r\nQ 20.953125 51.171875 25.484375 53.578125 \r\nQ 30.03125 56 36.53125 56 \r\nQ 37.453125 56 38.578125 55.875 \r\nQ 39.703125 55.765625 41.0625 55.515625 \r\nz\r\n\" id=\"DejaVuSans-114\"/>\r\n      <path d=\"M 30.609375 48.390625 \r\nQ 23.390625 48.390625 19.1875 42.75 \r\nQ 14.984375 37.109375 14.984375 27.296875 \r\nQ 14.984375 17.484375 19.15625 11.84375 \r\nQ 23.34375 6.203125 30.609375 6.203125 \r\nQ 37.796875 6.203125 41.984375 11.859375 \r\nQ 46.1875 17.53125 46.1875 27.296875 \r\nQ 46.1875 37.015625 41.984375 42.703125 \r\nQ 37.796875 48.390625 30.609375 48.390625 \r\nz\r\nM 30.609375 56 \r\nQ 42.328125 56 49.015625 48.375 \r\nQ 55.71875 40.765625 55.71875 27.296875 \r\nQ 55.71875 13.875 49.015625 6.21875 \r\nQ 42.328125 -1.421875 30.609375 -1.421875 \r\nQ 18.84375 -1.421875 12.171875 6.21875 \r\nQ 5.515625 13.875 5.515625 27.296875 \r\nQ 5.515625 40.765625 12.171875 48.375 \r\nQ 18.84375 56 30.609375 56 \r\nz\r\n\" id=\"DejaVuSans-111\"/>\r\n      <path d=\"M 45.40625 27.984375 \r\nQ 45.40625 37.75 41.375 43.109375 \r\nQ 37.359375 48.484375 30.078125 48.484375 \r\nQ 22.859375 48.484375 18.828125 43.109375 \r\nQ 14.796875 37.75 14.796875 27.984375 \r\nQ 14.796875 18.265625 18.828125 12.890625 \r\nQ 22.859375 7.515625 30.078125 7.515625 \r\nQ 37.359375 7.515625 41.375 12.890625 \r\nQ 45.40625 18.265625 45.40625 27.984375 \r\nz\r\nM 54.390625 6.78125 \r\nQ 54.390625 -7.171875 48.1875 -13.984375 \r\nQ 42 -20.796875 29.203125 -20.796875 \r\nQ 24.46875 -20.796875 20.265625 -20.09375 \r\nQ 16.0625 -19.390625 12.109375 -17.921875 \r\nL 12.109375 -9.1875 \r\nQ 16.0625 -11.328125 19.921875 -12.34375 \r\nQ 23.78125 -13.375 27.78125 -13.375 \r\nQ 36.625 -13.375 41.015625 -8.765625 \r\nQ 45.40625 -4.15625 45.40625 5.171875 \r\nL 45.40625 9.625 \r\nQ 42.625 4.78125 38.28125 2.390625 \r\nQ 33.9375 0 27.875 0 \r\nQ 17.828125 0 11.671875 7.65625 \r\nQ 5.515625 15.328125 5.515625 27.984375 \r\nQ 5.515625 40.671875 11.671875 48.328125 \r\nQ 17.828125 56 27.875 56 \r\nQ 33.9375 56 38.28125 53.609375 \r\nQ 42.625 51.21875 45.40625 46.390625 \r\nL 45.40625 54.6875 \r\nL 54.390625 54.6875 \r\nz\r\n\" id=\"DejaVuSans-103\"/>\r\n     </defs>\r\n     <use xlink:href=\"#DejaVuSans-102\"/>\r\n     <use x=\"35.205078\" xlink:href=\"#DejaVuSans-114\"/>\r\n     <use x=\"74.068359\" xlink:href=\"#DejaVuSans-111\"/>\r\n     <use x=\"135.25\" xlink:href=\"#DejaVuSans-103\"/>\r\n    </g>\r\n   </g>\r\n  </g>\r\n </g>\r\n <defs>\r\n  <clipPath id=\"p41767cadba\">\r\n   <rect height=\"217.44\" width=\"217.44\" x=\"26.925\" y=\"32.196094\"/>\r\n  </clipPath>\r\n </defs>\r\n</svg>\r\n",
      "image/png": "[encoded data removed]"
     },
     "metadata": {
      "needs_background": "light"
     }
    }
   ],
   "source": [
    "def image_viewer(data_dico, batch_name, index):\n",
    "    plt.imshow(np.reshape(data_dico[batch_name][b'data'][index],(3, 32,32)).transpose([1,2,0]))\n",
    "    plt.title(label_classes[data_dico[batch_name][b'labels'][index]], size=25)\n",
    "    plt.show()\n",
    "\n",
    "# First Training image in batch 1\n",
    "image_viewer(data, b'training batch 1 of 5', 0)"
   ]
  },
  {
   "cell_type": "code",
   "execution_count": 12,
   "metadata": {},
   "outputs": [
    {
     "output_type": "display_data",
     "data": {
      "text/plain": "<Figure size 432x288 with 1 Axes>",
      "image/svg+xml": "<?xml version=\"1.0\" encoding=\"utf-8\" standalone=\"no\"?>\r\n<!DOCTYPE svg PUBLIC \"-//W3C//DTD SVG 1.1//EN\"\r\n  \"http://www.w3.org/Graphics/SVG/1.1/DTD/svg11.dtd\">\r\n<!-- Created with matplotlib (https://matplotlib.org/) -->\r\n<svg height=\"273.514219pt\" version=\"1.1\" viewBox=\"0 0 251.565 273.514219\" width=\"251.565pt\" xmlns=\"http://www.w3.org/2000/svg\" xmlns:xlink=\"http://www.w3.org/1999/xlink\">\r\n <metadata>\r\n  <rdf:RDF xmlns:cc=\"http://creativecommons.org/ns#\" xmlns:dc=\"http://purl.org/dc/elements/1.1/\" xmlns:rdf=\"http://www.w3.org/1999/02/22-rdf-syntax-ns#\">\r\n   <cc:Work>\r\n    <dc:type rdf:resource=\"http://purl.org/dc/dcmitype/StillImage\"/>\r\n    <dc:date>2021-04-30T12:39:09.625467</dc:date>\r\n    <dc:format>image/svg+xml</dc:format>\r\n    <dc:creator>\r\n     <cc:Agent>\r\n      <dc:title>Matplotlib v3.3.1, https://matplotlib.org/</dc:title>\r\n     </cc:Agent>\r\n    </dc:creator>\r\n   </cc:Work>\r\n  </rdf:RDF>\r\n </metadata>\r\n <defs>\r\n  <style type=\"text/css\">*{stroke-linecap:butt;stroke-linejoin:round;}</style>\r\n </defs>\r\n <g id=\"figure_1\">\r\n  <g id=\"patch_1\">\r\n   <path d=\"M 0 273.514219 \r\nL 251.565 273.514219 \r\nL 251.565 0 \r\nL 0 0 \r\nz\r\n\" style=\"fill:none;\"/>\r\n  </g>\r\n  <g id=\"axes_1\">\r\n   <g id=\"patch_2\">\r\n    <path d=\"M 26.925 249.636094 \r\nL 244.365 249.636094 \r\nL 244.365 32.196094 \r\nL 26.925 32.196094 \r\nz\r\n\" style=\"fill:#ffffff;\"/>\r\n   </g>\r\n   <g clip-path=\"url(#p828bb65bb7)\">\r\n    <image height=\"218\" id=\"image82d3688a1c\" transform=\"scale(1 -1)translate(0 -218)\" width=\"218\" x=\"26.925\" xlink:href=\"data:image/png;base64,\r\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\" y=\"-31.636094\"/>\r\n   </g>\r\n   <g id=\"matplotlib.axis_1\">\r\n    <g id=\"xtick_1\">\r\n     <g id=\"line2d_1\">\r\n      <defs>\r\n       <path d=\"M 0 0 \r\nL 0 3.5 \r\n\" id=\"mddaae31ac0\" style=\"stroke:#000000;stroke-width:0.8;\"/>\r\n      </defs>\r\n      <g>\r\n       <use style=\"stroke:#000000;stroke-width:0.8;\" x=\"30.3225\" xlink:href=\"#mddaae31ac0\" y=\"249.636094\"/>\r\n      </g>\r\n     </g>\r\n     <g id=\"text_1\">\r\n      <!-- 0 -->\r\n      <g transform=\"translate(27.14125 264.234531)scale(0.1 -0.1)\">\r\n       <defs>\r\n        <path d=\"M 31.78125 66.40625 \r\nQ 24.171875 66.40625 20.328125 58.90625 \r\nQ 16.5 51.421875 16.5 36.375 \r\nQ 16.5 21.390625 20.328125 13.890625 \r\nQ 24.171875 6.390625 31.78125 6.390625 \r\nQ 39.453125 6.390625 43.28125 13.890625 \r\nQ 47.125 21.390625 47.125 36.375 \r\nQ 47.125 51.421875 43.28125 58.90625 \r\nQ 39.453125 66.40625 31.78125 66.40625 \r\nz\r\nM 31.78125 74.21875 \r\nQ 44.046875 74.21875 50.515625 64.515625 \r\nQ 56.984375 54.828125 56.984375 36.375 \r\nQ 56.984375 17.96875 50.515625 8.265625 \r\nQ 44.046875 -1.421875 31.78125 -1.421875 \r\nQ 19.53125 -1.421875 13.0625 8.265625 \r\nQ 6.59375 17.96875 6.59375 36.375 \r\nQ 6.59375 54.828125 13.0625 64.515625 \r\nQ 19.53125 74.21875 31.78125 74.21875 \r\nz\r\n\" id=\"DejaVuSans-48\"/>\r\n       </defs>\r\n       <use xlink:href=\"#DejaVuSans-48\"/>\r\n      </g>\r\n     </g>\r\n    </g>\r\n    <g id=\"xtick_2\">\r\n     <g id=\"line2d_2\">\r\n      <g>\r\n       <use style=\"stroke:#000000;stroke-width:0.8;\" x=\"64.2975\" xlink:href=\"#mddaae31ac0\" y=\"249.636094\"/>\r\n      </g>\r\n     </g>\r\n     <g id=\"text_2\">\r\n      <!-- 5 -->\r\n      <g transform=\"translate(61.11625 264.234531)scale(0.1 -0.1)\">\r\n       <defs>\r\n        <path d=\"M 10.796875 72.90625 \r\nL 49.515625 72.90625 \r\nL 49.515625 64.59375 \r\nL 19.828125 64.59375 \r\nL 19.828125 46.734375 \r\nQ 21.96875 47.46875 24.109375 47.828125 \r\nQ 26.265625 48.1875 28.421875 48.1875 \r\nQ 40.625 48.1875 47.75 41.5 \r\nQ 54.890625 34.8125 54.890625 23.390625 \r\nQ 54.890625 11.625 47.5625 5.09375 \r\nQ 40.234375 -1.421875 26.90625 -1.421875 \r\nQ 22.3125 -1.421875 17.546875 -0.640625 \r\nQ 12.796875 0.140625 7.71875 1.703125 \r\nL 7.71875 11.625 \r\nQ 12.109375 9.234375 16.796875 8.0625 \r\nQ 21.484375 6.890625 26.703125 6.890625 \r\nQ 35.15625 6.890625 40.078125 11.328125 \r\nQ 45.015625 15.765625 45.015625 23.390625 \r\nQ 45.015625 31 40.078125 35.4375 \r\nQ 35.15625 39.890625 26.703125 39.890625 \r\nQ 22.75 39.890625 18.8125 39.015625 \r\nQ 14.890625 38.140625 10.796875 36.28125 \r\nz\r\n\" id=\"DejaVuSans-53\"/>\r\n       </defs>\r\n       <use xlink:href=\"#DejaVuSans-53\"/>\r\n      </g>\r\n     </g>\r\n    </g>\r\n    <g id=\"xtick_3\">\r\n     <g id=\"line2d_3\">\r\n      <g>\r\n       <use style=\"stroke:#000000;stroke-width:0.8;\" x=\"98.2725\" xlink:href=\"#mddaae31ac0\" y=\"249.636094\"/>\r\n      </g>\r\n     </g>\r\n     <g id=\"text_3\">\r\n      <!-- 10 -->\r\n      <g transform=\"translate(91.91 264.234531)scale(0.1 -0.1)\">\r\n       <defs>\r\n        <path d=\"M 12.40625 8.296875 \r\nL 28.515625 8.296875 \r\nL 28.515625 63.921875 \r\nL 10.984375 60.40625 \r\nL 10.984375 69.390625 \r\nL 28.421875 72.90625 \r\nL 38.28125 72.90625 \r\nL 38.28125 8.296875 \r\nL 54.390625 8.296875 \r\nL 54.390625 0 \r\nL 12.40625 0 \r\nz\r\n\" id=\"DejaVuSans-49\"/>\r\n       </defs>\r\n       <use xlink:href=\"#DejaVuSans-49\"/>\r\n       <use x=\"63.623047\" xlink:href=\"#DejaVuSans-48\"/>\r\n      </g>\r\n     </g>\r\n    </g>\r\n    <g id=\"xtick_4\">\r\n     <g id=\"line2d_4\">\r\n      <g>\r\n       <use style=\"stroke:#000000;stroke-width:0.8;\" x=\"132.2475\" xlink:href=\"#mddaae31ac0\" y=\"249.636094\"/>\r\n      </g>\r\n     </g>\r\n     <g id=\"text_4\">\r\n      <!-- 15 -->\r\n      <g transform=\"translate(125.885 264.234531)scale(0.1 -0.1)\">\r\n       <use xlink:href=\"#DejaVuSans-49\"/>\r\n       <use x=\"63.623047\" xlink:href=\"#DejaVuSans-53\"/>\r\n      </g>\r\n     </g>\r\n    </g>\r\n    <g id=\"xtick_5\">\r\n     <g id=\"line2d_5\">\r\n      <g>\r\n       <use style=\"stroke:#000000;stroke-width:0.8;\" x=\"166.2225\" xlink:href=\"#mddaae31ac0\" y=\"249.636094\"/>\r\n      </g>\r\n     </g>\r\n     <g id=\"text_5\">\r\n      <!-- 20 -->\r\n      <g transform=\"translate(159.86 264.234531)scale(0.1 -0.1)\">\r\n       <defs>\r\n        <path d=\"M 19.1875 8.296875 \r\nL 53.609375 8.296875 \r\nL 53.609375 0 \r\nL 7.328125 0 \r\nL 7.328125 8.296875 \r\nQ 12.9375 14.109375 22.625 23.890625 \r\nQ 32.328125 33.6875 34.8125 36.53125 \r\nQ 39.546875 41.84375 41.421875 45.53125 \r\nQ 43.3125 49.21875 43.3125 52.78125 \r\nQ 43.3125 58.59375 39.234375 62.25 \r\nQ 35.15625 65.921875 28.609375 65.921875 \r\nQ 23.96875 65.921875 18.8125 64.3125 \r\nQ 13.671875 62.703125 7.8125 59.421875 \r\nL 7.8125 69.390625 \r\nQ 13.765625 71.78125 18.9375 73 \r\nQ 24.125 74.21875 28.421875 74.21875 \r\nQ 39.75 74.21875 46.484375 68.546875 \r\nQ 53.21875 62.890625 53.21875 53.421875 \r\nQ 53.21875 48.921875 51.53125 44.890625 \r\nQ 49.859375 40.875 45.40625 35.40625 \r\nQ 44.1875 33.984375 37.640625 27.21875 \r\nQ 31.109375 20.453125 19.1875 8.296875 \r\nz\r\n\" id=\"DejaVuSans-50\"/>\r\n       </defs>\r\n       <use xlink:href=\"#DejaVuSans-50\"/>\r\n       <use x=\"63.623047\" xlink:href=\"#DejaVuSans-48\"/>\r\n      </g>\r\n     </g>\r\n    </g>\r\n    <g id=\"xtick_6\">\r\n     <g id=\"line2d_6\">\r\n      <g>\r\n       <use style=\"stroke:#000000;stroke-width:0.8;\" x=\"200.1975\" xlink:href=\"#mddaae31ac0\" y=\"249.636094\"/>\r\n      </g>\r\n     </g>\r\n     <g id=\"text_6\">\r\n      <!-- 25 -->\r\n      <g transform=\"translate(193.835 264.234531)scale(0.1 -0.1)\">\r\n       <use xlink:href=\"#DejaVuSans-50\"/>\r\n       <use x=\"63.623047\" xlink:href=\"#DejaVuSans-53\"/>\r\n      </g>\r\n     </g>\r\n    </g>\r\n    <g id=\"xtick_7\">\r\n     <g id=\"line2d_7\">\r\n      <g>\r\n       <use style=\"stroke:#000000;stroke-width:0.8;\" x=\"234.1725\" xlink:href=\"#mddaae31ac0\" y=\"249.636094\"/>\r\n      </g>\r\n     </g>\r\n     <g id=\"text_7\">\r\n      <!-- 30 -->\r\n      <g transform=\"translate(227.81 264.234531)scale(0.1 -0.1)\">\r\n       <defs>\r\n        <path d=\"M 40.578125 39.3125 \r\nQ 47.65625 37.796875 51.625 33 \r\nQ 55.609375 28.21875 55.609375 21.1875 \r\nQ 55.609375 10.40625 48.1875 4.484375 \r\nQ 40.765625 -1.421875 27.09375 -1.421875 \r\nQ 22.515625 -1.421875 17.65625 -0.515625 \r\nQ 12.796875 0.390625 7.625 2.203125 \r\nL 7.625 11.71875 \r\nQ 11.71875 9.328125 16.59375 8.109375 \r\nQ 21.484375 6.890625 26.8125 6.890625 \r\nQ 36.078125 6.890625 40.9375 10.546875 \r\nQ 45.796875 14.203125 45.796875 21.1875 \r\nQ 45.796875 27.640625 41.28125 31.265625 \r\nQ 36.765625 34.90625 28.71875 34.90625 \r\nL 20.21875 34.90625 \r\nL 20.21875 43.015625 \r\nL 29.109375 43.015625 \r\nQ 36.375 43.015625 40.234375 45.921875 \r\nQ 44.09375 48.828125 44.09375 54.296875 \r\nQ 44.09375 59.90625 40.109375 62.90625 \r\nQ 36.140625 65.921875 28.71875 65.921875 \r\nQ 24.65625 65.921875 20.015625 65.03125 \r\nQ 15.375 64.15625 9.8125 62.3125 \r\nL 9.8125 71.09375 \r\nQ 15.4375 72.65625 20.34375 73.4375 \r\nQ 25.25 74.21875 29.59375 74.21875 \r\nQ 40.828125 74.21875 47.359375 69.109375 \r\nQ 53.90625 64.015625 53.90625 55.328125 \r\nQ 53.90625 49.265625 50.4375 45.09375 \r\nQ 46.96875 40.921875 40.578125 39.3125 \r\nz\r\n\" id=\"DejaVuSans-51\"/>\r\n       </defs>\r\n       <use xlink:href=\"#DejaVuSans-51\"/>\r\n       <use x=\"63.623047\" xlink:href=\"#DejaVuSans-48\"/>\r\n      </g>\r\n     </g>\r\n    </g>\r\n   </g>\r\n   <g id=\"matplotlib.axis_2\">\r\n    <g id=\"ytick_1\">\r\n     <g id=\"line2d_8\">\r\n      <defs>\r\n       <path d=\"M 0 0 \r\nL -3.5 0 \r\n\" id=\"m9d3ef8192e\" style=\"stroke:#000000;stroke-width:0.8;\"/>\r\n      </defs>\r\n      <g>\r\n       <use style=\"stroke:#000000;stroke-width:0.8;\" x=\"26.925\" xlink:href=\"#m9d3ef8192e\" y=\"35.593594\"/>\r\n      </g>\r\n     </g>\r\n     <g id=\"text_8\">\r\n      <!-- 0 -->\r\n      <g transform=\"translate(13.5625 39.392812)scale(0.1 -0.1)\">\r\n       <use xlink:href=\"#DejaVuSans-48\"/>\r\n      </g>\r\n     </g>\r\n    </g>\r\n    <g id=\"ytick_2\">\r\n     <g id=\"line2d_9\">\r\n      <g>\r\n       <use style=\"stroke:#000000;stroke-width:0.8;\" x=\"26.925\" xlink:href=\"#m9d3ef8192e\" y=\"69.568594\"/>\r\n      </g>\r\n     </g>\r\n     <g id=\"text_9\">\r\n      <!-- 5 -->\r\n      <g transform=\"translate(13.5625 73.367812)scale(0.1 -0.1)\">\r\n       <use xlink:href=\"#DejaVuSans-53\"/>\r\n      </g>\r\n     </g>\r\n    </g>\r\n    <g id=\"ytick_3\">\r\n     <g id=\"line2d_10\">\r\n      <g>\r\n       <use style=\"stroke:#000000;stroke-width:0.8;\" x=\"26.925\" xlink:href=\"#m9d3ef8192e\" y=\"103.543594\"/>\r\n      </g>\r\n     </g>\r\n     <g id=\"text_10\">\r\n      <!-- 10 -->\r\n      <g transform=\"translate(7.2 107.342812)scale(0.1 -0.1)\">\r\n       <use xlink:href=\"#DejaVuSans-49\"/>\r\n       <use x=\"63.623047\" xlink:href=\"#DejaVuSans-48\"/>\r\n      </g>\r\n     </g>\r\n    </g>\r\n    <g id=\"ytick_4\">\r\n     <g id=\"line2d_11\">\r\n      <g>\r\n       <use style=\"stroke:#000000;stroke-width:0.8;\" x=\"26.925\" xlink:href=\"#m9d3ef8192e\" y=\"137.518594\"/>\r\n      </g>\r\n     </g>\r\n     <g id=\"text_11\">\r\n      <!-- 15 -->\r\n      <g transform=\"translate(7.2 141.317812)scale(0.1 -0.1)\">\r\n       <use xlink:href=\"#DejaVuSans-49\"/>\r\n       <use x=\"63.623047\" xlink:href=\"#DejaVuSans-53\"/>\r\n      </g>\r\n     </g>\r\n    </g>\r\n    <g id=\"ytick_5\">\r\n     <g id=\"line2d_12\">\r\n      <g>\r\n       <use style=\"stroke:#000000;stroke-width:0.8;\" x=\"26.925\" xlink:href=\"#m9d3ef8192e\" y=\"171.493594\"/>\r\n      </g>\r\n     </g>\r\n     <g id=\"text_12\">\r\n      <!-- 20 -->\r\n      <g transform=\"translate(7.2 175.292812)scale(0.1 -0.1)\">\r\n       <use xlink:href=\"#DejaVuSans-50\"/>\r\n       <use x=\"63.623047\" xlink:href=\"#DejaVuSans-48\"/>\r\n      </g>\r\n     </g>\r\n    </g>\r\n    <g id=\"ytick_6\">\r\n     <g id=\"line2d_13\">\r\n      <g>\r\n       <use style=\"stroke:#000000;stroke-width:0.8;\" x=\"26.925\" xlink:href=\"#m9d3ef8192e\" y=\"205.468594\"/>\r\n      </g>\r\n     </g>\r\n     <g id=\"text_13\">\r\n      <!-- 25 -->\r\n      <g transform=\"translate(7.2 209.267812)scale(0.1 -0.1)\">\r\n       <use xlink:href=\"#DejaVuSans-50\"/>\r\n       <use x=\"63.623047\" xlink:href=\"#DejaVuSans-53\"/>\r\n      </g>\r\n     </g>\r\n    </g>\r\n    <g id=\"ytick_7\">\r\n     <g id=\"line2d_14\">\r\n      <g>\r\n       <use style=\"stroke:#000000;stroke-width:0.8;\" x=\"26.925\" xlink:href=\"#m9d3ef8192e\" y=\"239.443594\"/>\r\n      </g>\r\n     </g>\r\n     <g id=\"text_14\">\r\n      <!-- 30 -->\r\n      <g transform=\"translate(7.2 243.242812)scale(0.1 -0.1)\">\r\n       <use xlink:href=\"#DejaVuSans-51\"/>\r\n       <use x=\"63.623047\" xlink:href=\"#DejaVuSans-48\"/>\r\n      </g>\r\n     </g>\r\n    </g>\r\n   </g>\r\n   <g id=\"patch_3\">\r\n    <path d=\"M 26.925 249.636094 \r\nL 26.925 32.196094 \r\n\" style=\"fill:none;stroke:#000000;stroke-linecap:square;stroke-linejoin:miter;stroke-width:0.8;\"/>\r\n   </g>\r\n   <g id=\"patch_4\">\r\n    <path d=\"M 244.365 249.636094 \r\nL 244.365 32.196094 \r\n\" style=\"fill:none;stroke:#000000;stroke-linecap:square;stroke-linejoin:miter;stroke-width:0.8;\"/>\r\n   </g>\r\n   <g id=\"patch_5\">\r\n    <path d=\"M 26.925 249.636094 \r\nL 244.365 249.636094 \r\n\" style=\"fill:none;stroke:#000000;stroke-linecap:square;stroke-linejoin:miter;stroke-width:0.8;\"/>\r\n   </g>\r\n   <g id=\"patch_6\">\r\n    <path d=\"M 26.925 32.196094 \r\nL 244.365 32.196094 \r\n\" style=\"fill:none;stroke:#000000;stroke-linecap:square;stroke-linejoin:miter;stroke-width:0.8;\"/>\r\n   </g>\r\n   <g id=\"text_15\">\r\n    <!-- cat -->\r\n    <g transform=\"translate(116.211406 26.196094)scale(0.25 -0.25)\">\r\n     <defs>\r\n      <path d=\"M 48.78125 52.59375 \r\nL 48.78125 44.1875 \r\nQ 44.96875 46.296875 41.140625 47.34375 \r\nQ 37.3125 48.390625 33.40625 48.390625 \r\nQ 24.65625 48.390625 19.8125 42.84375 \r\nQ 14.984375 37.3125 14.984375 27.296875 \r\nQ 14.984375 17.28125 19.8125 11.734375 \r\nQ 24.65625 6.203125 33.40625 6.203125 \r\nQ 37.3125 6.203125 41.140625 7.25 \r\nQ 44.96875 8.296875 48.78125 10.40625 \r\nL 48.78125 2.09375 \r\nQ 45.015625 0.34375 40.984375 -0.53125 \r\nQ 36.96875 -1.421875 32.421875 -1.421875 \r\nQ 20.0625 -1.421875 12.78125 6.34375 \r\nQ 5.515625 14.109375 5.515625 27.296875 \r\nQ 5.515625 40.671875 12.859375 48.328125 \r\nQ 20.21875 56 33.015625 56 \r\nQ 37.15625 56 41.109375 55.140625 \r\nQ 45.0625 54.296875 48.78125 52.59375 \r\nz\r\n\" id=\"DejaVuSans-99\"/>\r\n      <path d=\"M 34.28125 27.484375 \r\nQ 23.390625 27.484375 19.1875 25 \r\nQ 14.984375 22.515625 14.984375 16.5 \r\nQ 14.984375 11.71875 18.140625 8.90625 \r\nQ 21.296875 6.109375 26.703125 6.109375 \r\nQ 34.1875 6.109375 38.703125 11.40625 \r\nQ 43.21875 16.703125 43.21875 25.484375 \r\nL 43.21875 27.484375 \r\nz\r\nM 52.203125 31.203125 \r\nL 52.203125 0 \r\nL 43.21875 0 \r\nL 43.21875 8.296875 \r\nQ 40.140625 3.328125 35.546875 0.953125 \r\nQ 30.953125 -1.421875 24.3125 -1.421875 \r\nQ 15.921875 -1.421875 10.953125 3.296875 \r\nQ 6 8.015625 6 15.921875 \r\nQ 6 25.140625 12.171875 29.828125 \r\nQ 18.359375 34.515625 30.609375 34.515625 \r\nL 43.21875 34.515625 \r\nL 43.21875 35.40625 \r\nQ 43.21875 41.609375 39.140625 45 \r\nQ 35.0625 48.390625 27.6875 48.390625 \r\nQ 23 48.390625 18.546875 47.265625 \r\nQ 14.109375 46.140625 10.015625 43.890625 \r\nL 10.015625 52.203125 \r\nQ 14.9375 54.109375 19.578125 55.046875 \r\nQ 24.21875 56 28.609375 56 \r\nQ 40.484375 56 46.34375 49.84375 \r\nQ 52.203125 43.703125 52.203125 31.203125 \r\nz\r\n\" id=\"DejaVuSans-97\"/>\r\n      <path d=\"M 18.3125 70.21875 \r\nL 18.3125 54.6875 \r\nL 36.8125 54.6875 \r\nL 36.8125 47.703125 \r\nL 18.3125 47.703125 \r\nL 18.3125 18.015625 \r\nQ 18.3125 11.328125 20.140625 9.421875 \r\nQ 21.96875 7.515625 27.59375 7.515625 \r\nL 36.8125 7.515625 \r\nL 36.8125 0 \r\nL 27.59375 0 \r\nQ 17.1875 0 13.234375 3.875 \r\nQ 9.28125 7.765625 9.28125 18.015625 \r\nL 9.28125 47.703125 \r\nL 2.6875 47.703125 \r\nL 2.6875 54.6875 \r\nL 9.28125 54.6875 \r\nL 9.28125 70.21875 \r\nz\r\n\" id=\"DejaVuSans-116\"/>\r\n     </defs>\r\n     <use xlink:href=\"#DejaVuSans-99\"/>\r\n     <use x=\"54.980469\" xlink:href=\"#DejaVuSans-97\"/>\r\n     <use x=\"116.259766\" xlink:href=\"#DejaVuSans-116\"/>\r\n    </g>\r\n   </g>\r\n  </g>\r\n </g>\r\n <defs>\r\n  <clipPath id=\"p828bb65bb7\">\r\n   <rect height=\"217.44\" width=\"217.44\" x=\"26.925\" y=\"32.196094\"/>\r\n  </clipPath>\r\n </defs>\r\n</svg>\r\n",
      "image/png": "[encoded data removed]"
     },
     "metadata": {
      "needs_background": "light"
     }
    }
   ],
   "source": [
    "# First Testing image in testing batch\n",
    "image_viewer(data, b'testing batch 1 of 1', 0)"
   ]
  },
  {
   "cell_type": "code",
   "execution_count": 13,
   "metadata": {},
   "outputs": [],
   "source": [
    "import tensorflow as tf"
   ]
  },
  {
   "cell_type": "code",
   "execution_count": 14,
   "metadata": {},
   "outputs": [
    {
     "output_type": "stream",
     "name": "stdout",
     "text": [
      "Model: \"sequential\"\n_________________________________________________________________\nLayer (type)                 Output Shape              Param #   \n=================================================================\ndense (Dense)                (None, 128)               393344    \n_________________________________________________________________\ndense_1 (Dense)              (None, 10)                1290      \n=================================================================\nTotal params: 394,634\nTrainable params: 394,634\nNon-trainable params: 0\n_________________________________________________________________\n"
     ]
    }
   ],
   "source": [
    "model = tf.keras.Sequential([\n",
    "    tf.keras.layers.Input(shape=(3072,)),\n",
    "    tf.keras.layers.Dense(128, activation=tf.nn.relu),\n",
    "    tf.keras.layers.Dense(len(label_classes), activation=tf.nn.softmax) # len(label_classes) is 10\n",
    "])\n",
    "model.summary()"
   ]
  },
  {
   "cell_type": "code",
   "execution_count": 15,
   "metadata": {},
   "outputs": [],
   "source": [
    "model.compile(loss='sparse_categorical_crossentropy', optimizer='adam', metrics=['accuracy'])"
   ]
  },
  {
   "cell_type": "code",
   "execution_count": 16,
   "metadata": {},
   "outputs": [
    {
     "output_type": "stream",
     "name": "stdout",
     "text": [
      "Train on 10000 samples\n",
      "Epoch 1/10\n",
      "10000/10000 [==============================] - 2s 232us/sample - loss: 2.0622 - accuracy: 0.2554\n",
      "Epoch 2/10\n",
      "10000/10000 [==============================] - 2s 168us/sample - loss: 1.8822 - accuracy: 0.3237\n",
      "Epoch 3/10\n",
      "10000/10000 [==============================] - 3s 288us/sample - loss: 1.8235 - accuracy: 0.3443\n",
      "Epoch 4/10\n",
      "10000/10000 [==============================] - 2s 211us/sample - loss: 1.7712 - accuracy: 0.3668\n",
      "Epoch 5/10\n",
      "10000/10000 [==============================] - 2s 219us/sample - loss: 1.7221 - accuracy: 0.3862\n",
      "Epoch 6/10\n",
      "10000/10000 [==============================] - 2s 238us/sample - loss: 1.7051 - accuracy: 0.3872\n",
      "Epoch 7/10\n",
      "10000/10000 [==============================] - 2s 188us/sample - loss: 1.6848 - accuracy: 0.3918\n",
      "Epoch 8/10\n",
      "10000/10000 [==============================] - 2s 184us/sample - loss: 1.6443 - accuracy: 0.4139\n",
      "Epoch 9/10\n",
      "10000/10000 [==============================] - 2s 183us/sample - loss: 1.6318 - accuracy: 0.4135\n",
      "Epoch 10/10\n",
      "10000/10000 [==============================] - 2s 181us/sample - loss: 1.6127 - accuracy: 0.4297\n"
     ]
    },
    {
     "output_type": "execute_result",
     "data": {
      "text/plain": [
       "<tensorflow.python.keras.callbacks.History at 0x1b4ec78e550>"
      ]
     },
     "metadata": {},
     "execution_count": 16
    }
   ],
   "source": [
    "'''\n",
    "for k in data.keys():\n",
    "    if k != b'testing batch 1 of 1':\n",
    "        # k is batch name\n",
    "        x = data[k][b'data']\n",
    "        y = np.array(data[k][b'labels'])\n",
    "\n",
    "        model.fit(x, y, epochs=10) # had to but labels into a numpy array rather than a list\n",
    "'''\n",
    "\n",
    "i = 0\n",
    "k = list(data.keys())[i]\n",
    "x = data[k][b'data']\n",
    "y = np.array(data[k][b'labels'])\n",
    "model.fit(x, y, epochs=10)"
   ]
  },
  {
   "cell_type": "code",
   "execution_count": 17,
   "metadata": {},
   "outputs": [
    {
     "output_type": "stream",
     "name": "stdout",
     "text": [
      "Train on 10000 samples\n",
      "Epoch 1/10\n",
      "10000/10000 [==============================] - 2s 222us/sample - loss: 1.7302 - accuracy: 0.3881\n",
      "Epoch 2/10\n",
      "10000/10000 [==============================] - 2s 177us/sample - loss: 1.6975 - accuracy: 0.3897\n",
      "Epoch 3/10\n",
      "10000/10000 [==============================] - 2s 168us/sample - loss: 1.6693 - accuracy: 0.4051\n",
      "Epoch 4/10\n",
      "10000/10000 [==============================] - 2s 172us/sample - loss: 1.6387 - accuracy: 0.4198\n",
      "Epoch 5/10\n",
      "10000/10000 [==============================] - 2s 166us/sample - loss: 1.6189 - accuracy: 0.4204\n",
      "Epoch 6/10\n",
      "10000/10000 [==============================] - 2s 167us/sample - loss: 1.6087 - accuracy: 0.4208\n",
      "Epoch 7/10\n",
      "10000/10000 [==============================] - 2s 166us/sample - loss: 1.5991 - accuracy: 0.4293\n",
      "Epoch 8/10\n",
      "10000/10000 [==============================] - 2s 179us/sample - loss: 1.5789 - accuracy: 0.4359\n",
      "Epoch 9/10\n",
      "10000/10000 [==============================] - 2s 231us/sample - loss: 1.5640 - accuracy: 0.4408\n",
      "Epoch 10/10\n",
      "10000/10000 [==============================] - 2s 215us/sample - loss: 1.5522 - accuracy: 0.4460\n"
     ]
    },
    {
     "output_type": "execute_result",
     "data": {
      "text/plain": [
       "<tensorflow.python.keras.callbacks.History at 0x1b4ffe5d080>"
      ]
     },
     "metadata": {},
     "execution_count": 17
    }
   ],
   "source": [
    "i = 1\n",
    "k = list(data.keys())[i]\n",
    "x = data[k][b'data']\n",
    "y = np.array(data[k][b'labels'])\n",
    "model.fit(x, y, epochs=10)"
   ]
  },
  {
   "cell_type": "code",
   "execution_count": 18,
   "metadata": {},
   "outputs": [
    {
     "output_type": "stream",
     "name": "stdout",
     "text": [
      "Train on 10000 samples\n",
      "Epoch 1/10\n",
      "10000/10000 [==============================] - 3s 306us/sample - loss: 1.6493 - accuracy: 0.4081\n",
      "Epoch 2/10\n",
      "10000/10000 [==============================] - 2s 221us/sample - loss: 1.5956 - accuracy: 0.4228\n",
      "Epoch 3/10\n",
      "10000/10000 [==============================] - 2s 213us/sample - loss: 1.5808 - accuracy: 0.4318\n",
      "Epoch 4/10\n",
      "10000/10000 [==============================] - 2s 213us/sample - loss: 1.5483 - accuracy: 0.4405\n",
      "Epoch 5/10\n",
      "10000/10000 [==============================] - 2s 213us/sample - loss: 1.5391 - accuracy: 0.4468\n",
      "Epoch 6/10\n",
      "10000/10000 [==============================] - 2s 238us/sample - loss: 1.5232 - accuracy: 0.4475\n",
      "Epoch 7/10\n",
      "10000/10000 [==============================] - 2s 197us/sample - loss: 1.5194 - accuracy: 0.4530\n",
      "Epoch 8/10\n",
      "10000/10000 [==============================] - 2s 205us/sample - loss: 1.5013 - accuracy: 0.4615\n",
      "Epoch 9/10\n",
      "10000/10000 [==============================] - 2s 196us/sample - loss: 1.4887 - accuracy: 0.4683\n",
      "Epoch 10/10\n",
      "10000/10000 [==============================] - 2s 199us/sample - loss: 1.4850 - accuracy: 0.4623\n"
     ]
    },
    {
     "output_type": "execute_result",
     "data": {
      "text/plain": [
       "<tensorflow.python.keras.callbacks.History at 0x1b4ffeb0208>"
      ]
     },
     "metadata": {},
     "execution_count": 18
    }
   ],
   "source": [
    "i = 2\n",
    "k = list(data.keys())[i]\n",
    "x = data[k][b'data']\n",
    "y = np.array(data[k][b'labels'])\n",
    "model.fit(x, y, epochs=10)"
   ]
  },
  {
   "cell_type": "code",
   "execution_count": 19,
   "metadata": {},
   "outputs": [
    {
     "output_type": "stream",
     "name": "stdout",
     "text": [
      "Train on 10000 samples\n",
      "Epoch 1/10\n",
      "10000/10000 [==============================] - 3s 280us/sample - loss: 1.6331 - accuracy: 0.4263\n",
      "Epoch 2/10\n",
      "10000/10000 [==============================] - 2s 239us/sample - loss: 1.5983 - accuracy: 0.4398\n",
      "Epoch 3/10\n",
      "10000/10000 [==============================] - 2s 219us/sample - loss: 1.5739 - accuracy: 0.4452\n",
      "Epoch 4/10\n",
      "10000/10000 [==============================] - 2s 186us/sample - loss: 1.5640 - accuracy: 0.4427\n",
      "Epoch 5/10\n",
      "10000/10000 [==============================] - 2s 204us/sample - loss: 1.5433 - accuracy: 0.4500\n",
      "Epoch 6/10\n",
      "10000/10000 [==============================] - 2s 202us/sample - loss: 1.5336 - accuracy: 0.4522\n",
      "Epoch 7/10\n",
      "10000/10000 [==============================] - 2s 196us/sample - loss: 1.5302 - accuracy: 0.4523\n",
      "Epoch 8/10\n",
      "10000/10000 [==============================] - 2s 189us/sample - loss: 1.5215 - accuracy: 0.4587\n",
      "Epoch 9/10\n",
      "10000/10000 [==============================] - 2s 197us/sample - loss: 1.5081 - accuracy: 0.4643\n",
      "Epoch 10/10\n",
      "10000/10000 [==============================] - 2s 201us/sample - loss: 1.4924 - accuracy: 0.4686\n"
     ]
    },
    {
     "output_type": "execute_result",
     "data": {
      "text/plain": [
       "<tensorflow.python.keras.callbacks.History at 0x1b4fff00518>"
      ]
     },
     "metadata": {},
     "execution_count": 19
    }
   ],
   "source": [
    "i = 3\n",
    "k = list(data.keys())[i]\n",
    "x = data[k][b'data']\n",
    "y = np.array(data[k][b'labels'])\n",
    "model.fit(x, y, epochs=10)"
   ]
  },
  {
   "cell_type": "code",
   "execution_count": 20,
   "metadata": {},
   "outputs": [
    {
     "output_type": "stream",
     "name": "stdout",
     "text": [
      "Train on 10000 samples\n",
      "Epoch 1/10\n",
      "10000/10000 [==============================] - 3s 311us/sample - loss: 1.6227 - accuracy: 0.4309\n",
      "Epoch 2/10\n",
      "10000/10000 [==============================] - 2s 211us/sample - loss: 1.5836 - accuracy: 0.4353\n",
      "Epoch 3/10\n",
      "10000/10000 [==============================] - 2s 200us/sample - loss: 1.5704 - accuracy: 0.4447\n",
      "Epoch 4/10\n",
      "10000/10000 [==============================] - 2s 202us/sample - loss: 1.5504 - accuracy: 0.4500\n",
      "Epoch 5/10\n",
      "10000/10000 [==============================] - 2s 203us/sample - loss: 1.5383 - accuracy: 0.4465\n",
      "Epoch 6/10\n",
      "10000/10000 [==============================] - 2s 205us/sample - loss: 1.5284 - accuracy: 0.4584\n",
      "Epoch 7/10\n",
      "10000/10000 [==============================] - 2s 203us/sample - loss: 1.5142 - accuracy: 0.4565\n",
      "Epoch 8/10\n",
      "10000/10000 [==============================] - 3s 281us/sample - loss: 1.5045 - accuracy: 0.4651\n",
      "Epoch 9/10\n",
      "10000/10000 [==============================] - 2s 245us/sample - loss: 1.5022 - accuracy: 0.4623\n",
      "Epoch 10/10\n",
      "10000/10000 [==============================] - 2s 194us/sample - loss: 1.4936 - accuracy: 0.4655\n"
     ]
    },
    {
     "output_type": "execute_result",
     "data": {
      "text/plain": [
       "<tensorflow.python.keras.callbacks.History at 0x1b4ffeb0978>"
      ]
     },
     "metadata": {},
     "execution_count": 20
    }
   ],
   "source": [
    "i = 4\n",
    "k = list(data.keys())[i]\n",
    "x = data[k][b'data']\n",
    "y = np.array(data[k][b'labels'])\n",
    "model.fit(x, y, epochs=10)"
   ]
  },
  {
   "cell_type": "code",
   "execution_count": 21,
   "metadata": {},
   "outputs": [
    {
     "output_type": "stream",
     "name": "stdout",
     "text": [
      "10000/10000 [==============================] - 2s 157us/sample - loss: 1.5776 - accuracy: 0.4356\n"
     ]
    }
   ],
   "source": [
    "i = 5\n",
    "k = list(data.keys())[i]\n",
    "x = data[k][b'data']\n",
    "y = np.array(data[k][b'labels'])\n",
    "\n",
    "# testing on unseen data\n",
    "validation_loss, validation_accuracy = model.evaluate(x, y)"
   ]
  },
  {
   "cell_type": "code",
   "execution_count": 22,
   "metadata": {},
   "outputs": [
    {
     "output_type": "stream",
     "name": "stdout",
     "text": [
      "Testing Accuracy on our unseen data: 0.43560001254081726\n"
     ]
    }
   ],
   "source": [
    "print(\"Testing Accuracy on our unseen data: {}\".format(validation_accuracy))"
   ]
  }
 ]
}