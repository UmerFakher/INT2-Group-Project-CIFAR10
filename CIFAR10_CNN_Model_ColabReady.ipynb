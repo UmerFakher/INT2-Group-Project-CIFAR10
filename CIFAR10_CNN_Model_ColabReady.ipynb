{
  "nbformat": 4,
  "nbformat_minor": 0,
  "metadata": {
    "language_info": {
      "codemirror_mode": {
        "name": "ipython",
        "version": 3
      },
      "file_extension": ".py",
      "mimetype": "text/x-python",
      "name": "python",
      "nbconvert_exporter": "python",
      "pygments_lexer": "ipython3",
      "version": "3.7.3"
    },
    "orig_nbformat": 2,
    "kernelspec": {
      "name": "python373jvsc74a57bd07a47bf6e4dce792c65a7d49caf54e729a54726c5dc0326382809f81559c32857",
      "display_name": "Python 3.7.3 64-bit ('base': conda)"
    },
    "colab": {
      "name": "CIFAR10_CNN_Model_ColabReady.ipynb",
      "provenance": [],
      "include_colab_link": true
    },
    "accelerator": "GPU"
  },
  "cells": [
    {
      "cell_type": "markdown",
      "metadata": {
        "id": "view-in-github",
        "colab_type": "text"
      },
      "source": [
        "<a href=\"https://colab.research.google.com/github/UmerFakher/INT2-Group-Project-CIFAR10/blob/Automated-Dataset-DownloadExtractPicklePlot-UF/CIFAR10_CNN_Model_ColabReady.ipynb\" target=\"_parent\"><img src=\"https://colab.research.google.com/assets/colab-badge.svg\" alt=\"Open In Colab\"/></a>"
      ]
    },
    {
      "cell_type": "markdown",
      "metadata": {
        "id": "oNAtdyZQDovL"
      },
      "source": [
        "# Colab Ready CNN Go To https://colab.research.google.com/github/\n",
        "\n",
        "**Go to Runtime -> change runtime type and select hardware as GPU :) Super fast**"
      ]
    },
    {
      "cell_type": "markdown",
      "metadata": {
        "id": "PEScmBFIDovY"
      },
      "source": [
        "## We tried a Artificial Neural Network Naive Model\n",
        "\n",
        "*SEE CIFAR10_ANN_NaiveModel.ipynb*\n",
        "\n",
        "### **We get a low training accuracy and testing accuracy so we must change our approach. SEE CNN BELOW**\n",
        "\n",
        "Artificial neural network for classifying data into multiple (10) classes. \n",
        "\n",
        "Here we use Softmax. Given a specific example Softmax will output probabilities (probabilities of that example being each class) where all of them add up to 1. Note that here we are assuming that each example belongs to exactly one class and can't have multiple labels (e.g. Dog and Frog in this case wouldn't make sense but for classifying the genre of different Netflix movies you may have one movie that is Action, Sci-Fi, and comedy). We would also have to use a different function other than softmax and different approach.\n",
        "\n",
        "Although our images are fairly complicated. This might have been fine for numerical data and classifying that or simple images e.g. black and white letters or something.\n",
        "\n",
        "* Here this is going to require too much computation \n",
        "* It also is at risk of overfitting if there is too much variation and we can see that some of these cats for example, are in different positions and parts of the image and our network will struggle with this\n",
        "* As we are feeding in data flattened (each image is just an array of numeric values 1x 3072 vector) it literally treats all of the parts of the image the same and data which is close together (in 2D maybe they are together) the same as far apart data \n",
        "\n",
        "Our images in 2D would be 32 x 32 x 3 size. 32 by 32 for dimensions height and width and the 3 for the colour depth (rgb, red green blue values like 120, -63, 24). \n",
        "\n",
        "Flattened each image is 1 x 3072. \n",
        "\n",
        "In the dataset folder \"cifar-10-batches-py\":\n",
        "there are data batch 1 to 5 and a test batch\n",
        "\n",
        "* data batch 1 to 5 are used for training and in total therefore there are 50000 images used for training\n",
        "* test batch has 10000 image\n",
        "\n",
        "Each batch has 10000 images so e.g. data batch 1 for training has 10000 images\n",
        "\n",
        "As a flattened image is 1 x 3072 vector the whole data matrix for data batch 1 (used for training) is (10000, 3072)\n",
        "We train this network on all 5 batches. Each batch it sees 10 times (thats why its 10 epochs and it starts at like low accuracy and works its way up). Then we test the network on the 1 testing batch using this unseen data to see if it can actually \"see\" and classify images correctly.\n",
        "\n",
        "# **CIFAR10 Convolutional Neural Network Classifier**\n",
        "\n",
        "This is better suited so we get higher accuracy on this complex image dataset than the flawed naive network. We will tr"
      ]
    },
    {
      "cell_type": "code",
      "metadata": {
        "id": "z72yl2A_DovZ"
      },
      "source": [
        "# Using our working Data Download and Loading Modules\n",
        "# import File_Manager_Tar_Gz as fm"
      ],
      "execution_count": 1,
      "outputs": []
    },
    {
      "cell_type": "code",
      "metadata": {
        "id": "sN7AIsCfDova"
      },
      "source": [
        "# For plotting and data pre-processing\n",
        "import matplotlib.pyplot as plt\n",
        "import numpy as np"
      ],
      "execution_count": 2,
      "outputs": []
    },
    {
      "cell_type": "code",
      "metadata": {
        "id": "_1XxUPVfDova"
      },
      "source": [
        "# Machine Learning Module Used for Neural Network Classification\n",
        "import tensorflow as tf"
      ],
      "execution_count": 3,
      "outputs": []
    },
    {
      "cell_type": "markdown",
      "metadata": {
        "id": "snl6vaEvDova"
      },
      "source": [
        "## Data Download and Loading"
      ]
    },
    {
      "cell_type": "code",
      "metadata": {
        "id": "BB-Y1LR7Dova"
      },
      "source": [
        "# def download_and_extract_data():\n",
        "#     file_name = \"cifar-10-python.tar.gz\"\n",
        "#     website_link = \"https://www.cs.toronto.edu/~kriz/cifar-10-python.tar.gz\"\n",
        "\n",
        "#     print(fm.download_file_tar_gz(dataset_link=website_link, dataset_file_name=file_name))\n",
        "#     print(fm.open_file_tar_gz(file_name))"
      ],
      "execution_count": 4,
      "outputs": []
    },
    {
      "cell_type": "code",
      "metadata": {
        "id": "JXbV5RfRDovb"
      },
      "source": [
        "# download_and_extract_data()"
      ],
      "execution_count": 5,
      "outputs": []
    },
    {
      "cell_type": "markdown",
      "metadata": {
        "id": "_rwzgSUDDovb"
      },
      "source": [
        "### Store all batches in a dictionary called 'data'"
      ]
    },
    {
      "cell_type": "code",
      "metadata": {
        "id": "dvpseS5WDovb"
      },
      "source": [
        "# def load_data(file_names : list, folder_names : list):\n",
        "#     data_dico = {}\n",
        "#     for fil, fold in zip(file_names, folder_names):\n",
        "#         batch_file_path = \"{}/{}\".format(fold, fil)\n",
        "#         dico = fm.unpickle(batch_file_path)\n",
        "#         data_dico[dico] = dico\n",
        "\n",
        "#     return data_dico"
      ],
      "execution_count": 6,
      "outputs": []
    },
    {
      "cell_type": "code",
      "metadata": {
        "id": "-CGgWgLcDovc"
      },
      "source": [
        "# file_names = [\"data_batch_1\", \"data_batch_2\", \"data_batch_3\", \"data_batch_4\", \"data_batch_5\", \"test_batch\"]\n",
        "# data = load_data(file_names, [\"cifar-10-batches-py\"]*len(file_names))"
      ],
      "execution_count": 7,
      "outputs": []
    },
    {
      "cell_type": "code",
      "metadata": {
        "id": "AxJpfsP6Dovc"
      },
      "source": [
        "def tf_data_get_cifar():\n",
        "    from tensorflow.keras.datasets import cifar10\n",
        "\n",
        "    (train_X, train_y), (test_X, test_y) = cifar10.load_data()\n",
        "    # train_X = train_X.astype(\"float\") / 255.0\n",
        "    # test_X = test_X.astype(\"float\") / 255.0\n",
        "\n",
        "    # print(f\"train_X: {train_X.shape}, test_X = {test_X.shape}\")\n",
        "    # train_X: (50000, 32, 32, 3), test_X = (10000, 32, 32, 3)\n",
        "\n",
        "    return (train_X, train_y), (test_X, test_y)\n",
        "\n",
        "# (train_X, train_y), (test_X, test_y) = tf_data_get_cifar()"
      ],
      "execution_count": 8,
      "outputs": []
    },
    {
      "cell_type": "code",
      "metadata": {
        "id": "5rm9kCPNDovc"
      },
      "source": [
        "# arr = np.array([1,2,3,4,5,6,7,8,9,10,11])\n",
        "# np.array_split(arr, 3) # [array([1, 2, 3, 4]), array([5, 6, 7, 8]), array([ 9, 10, 11])]\n",
        "\n",
        "# arr = np.array_split(train_X, 5)\n",
        "# print(len(arr))\n",
        "# for _ in arr:\n",
        "#     print(_.shape)\n",
        "# 5\n",
        "# (10000, 32, 32, 3)\n",
        "# (10000, 32, 32, 3)\n",
        "# (10000, 32, 32, 3)\n",
        "# (10000, 32, 32, 3)\n",
        "# (10000, 32, 32, 3)"
      ],
      "execution_count": 9,
      "outputs": []
    },
    {
      "cell_type": "code",
      "metadata": {
        "id": "0mTGfJ3PDovd",
        "outputId": "d9f31573-13a8-4acc-d374-4b2e331403bd",
        "colab": {
          "base_uri": "https://localhost:8080/"
        }
      },
      "source": [
        "def tf_data_build_batches_dico(name, xs, ys):\n",
        "    # Use temp_dic to build this\n",
        "    # data[b'training batch 1 of 5'].keys()\n",
        "    # >>> dict_keys([b'batch_label', b'labels', b'data', b'filenames'])\n",
        "\n",
        "    temp_dic = {}\n",
        "    temp_dic[b'batch_label'] = name\n",
        "    temp_dic[b'labels'] = ys\n",
        "    temp_dic[b'data'] = xs\n",
        "    # No b'filenames' made as not part of cifar from tf data\n",
        "\n",
        "    return temp_dic\n",
        "\n",
        "def tf_data_to_batches_dico_format():\n",
        "    (train_X, train_y), (test_X, test_y) = tf_data_get_cifar()\n",
        "\n",
        "    # data.keys()\n",
        "    # >>> dict_keys([b'training batch 1 of 5', b'training batch 2 of 5', b'training batch 3 of 5', \n",
        "    #                    b'training batch 4 of 5', b'training batch 5 of 5', b'testing batch 1 of 1'])\n",
        "    data_dico = {}\n",
        "    tr_batch_names = [b'training batch 1 of 5', b'training batch 2 of 5', b'training batch 3 of 5', \n",
        "                    b'training batch 4 of 5', b'training batch 5 of 5']\n",
        "    \n",
        "    # Add Training data batches into data_dico\n",
        "    train_X_split = np.array_split(train_X, 5)  # split numpy array into a list of 5 numpy arrays\n",
        "    train_y_split = np.array_split(train_y, 5)\n",
        "\n",
        "    for i in range(len(tr_batch_names)): # put all batche dicos into master data_dico according to batch name\n",
        "        # No b'filenames' used\n",
        "        data_dico[tr_batch_names[i]] = tf_data_build_batches_dico(tr_batch_names[i], train_X_split[i], train_y_split[i])\n",
        "\n",
        "    # Add tesing data batche into data_dico\n",
        "    data_dico[b'testing batch 1 of 1'] = tf_data_build_batches_dico(b'testing batch 1 of 1', test_X, test_y)\n",
        "\n",
        "    return data_dico\n",
        "\n",
        "data = tf_data_to_batches_dico_format()"
      ],
      "execution_count": 10,
      "outputs": [
        {
          "output_type": "stream",
          "text": [
            "Downloading data from https://www.cs.toronto.edu/~kriz/cifar-10-python.tar.gz\n",
            "170500096/170498071 [==============================] - 3s 0us/step\n"
          ],
          "name": "stdout"
        }
      ]
    },
    {
      "cell_type": "code",
      "metadata": {
        "id": "fPr3ZNTsDove",
        "outputId": "06e8ceb6-f707-407c-828d-e49db97cbfce",
        "colab": {
          "base_uri": "https://localhost:8080/"
        }
      },
      "source": [
        "for k in data.keys():\n",
        "    print(data[k][b'batch_label'])\n",
        "    print(data[k][b'labels'].shape)\n",
        "    print(data[k][b'data'].shape)"
      ],
      "execution_count": 11,
      "outputs": [
        {
          "output_type": "stream",
          "text": [
            "b'training batch 1 of 5'\n",
            "(10000, 1)\n",
            "(10000, 32, 32, 3)\n",
            "b'training batch 2 of 5'\n",
            "(10000, 1)\n",
            "(10000, 32, 32, 3)\n",
            "b'training batch 3 of 5'\n",
            "(10000, 1)\n",
            "(10000, 32, 32, 3)\n",
            "b'training batch 4 of 5'\n",
            "(10000, 1)\n",
            "(10000, 32, 32, 3)\n",
            "b'training batch 5 of 5'\n",
            "(10000, 1)\n",
            "(10000, 32, 32, 3)\n",
            "b'testing batch 1 of 1'\n",
            "(10000, 1)\n",
            "(10000, 32, 32, 3)\n"
          ],
          "name": "stdout"
        }
      ]
    },
    {
      "cell_type": "code",
      "metadata": {
        "id": "6ENRwOGdDovf",
        "outputId": "0d5a2584-0bcf-4ac8-efbf-4035e86c22a1",
        "colab": {
          "base_uri": "https://localhost:8080/"
        }
      },
      "source": [
        "data.keys()"
      ],
      "execution_count": 12,
      "outputs": [
        {
          "output_type": "execute_result",
          "data": {
            "text/plain": [
              "dict_keys([b'training batch 1 of 5', b'training batch 2 of 5', b'training batch 3 of 5', b'training batch 4 of 5', b'training batch 5 of 5', b'testing batch 1 of 1'])"
            ]
          },
          "metadata": {
            "tags": []
          },
          "execution_count": 12
        }
      ]
    },
    {
      "cell_type": "code",
      "metadata": {
        "id": "q9YiLfTfDovf",
        "outputId": "959f87e1-a99b-4ae8-c8d3-90a42cf752ac",
        "colab": {
          "base_uri": "https://localhost:8080/"
        }
      },
      "source": [
        "data[b'training batch 1 of 5'].keys()"
      ],
      "execution_count": 13,
      "outputs": [
        {
          "output_type": "execute_result",
          "data": {
            "text/plain": [
              "dict_keys([b'batch_label', b'labels', b'data'])"
            ]
          },
          "metadata": {
            "tags": []
          },
          "execution_count": 13
        }
      ]
    },
    {
      "cell_type": "code",
      "metadata": {
        "id": "-MgcqhuFDovf",
        "outputId": "c4a067c5-4cb1-41f5-8e80-04b0dbfdf64b",
        "colab": {
          "base_uri": "https://localhost:8080/"
        }
      },
      "source": [
        "data[b'training batch 1 of 5'][b'batch_label']"
      ],
      "execution_count": 14,
      "outputs": [
        {
          "output_type": "execute_result",
          "data": {
            "text/plain": [
              "b'training batch 1 of 5'"
            ]
          },
          "metadata": {
            "tags": []
          },
          "execution_count": 14
        }
      ]
    },
    {
      "cell_type": "code",
      "metadata": {
        "id": "e5lnms08Dovf"
      },
      "source": [
        "# From cifar-10 https://www.cs.toronto.edu/~kriz/cifar.html our 10 classes\n",
        "label_classes = [\"airplane\", \"automobile\", \"bird\", \"cat\",\t\"deer\",\t\"dog\", \"frog\", \"horse\", \"ship\", \"truck\"]"
      ],
      "execution_count": 15,
      "outputs": []
    },
    {
      "cell_type": "markdown",
      "metadata": {
        "id": "wkW3Ya8wDovg"
      },
      "source": [
        "```python\n",
        "data.keys()\n",
        ">>> dict_keys([b'training batch 1 of 5', b'training batch 2 of 5', b'training batch 3 of 5', b'training batch 4 of 5', b'training batch 5 of 5', b'testing batch 1 of 1'])\n",
        "\n",
        "\n",
        "data[b'training batch 1 of 5'] # >>>> png names.....\n",
        "\n",
        "data[b'training batch 1 of 5'].keys() \n",
        ">>> dict_keys([b'batch_label', b'labels', b'data', b'filenames'])\n",
        "\n",
        "batch 1 training data and labels\n",
        "print(data[b'training batch 1 of 5'][b'data'].shape)     # >>> (10000, 3072)     \n",
        "print(len(data[b'training batch 1 of 5'][b'labels']))    # >>> 10000\n",
        "\n",
        "data.keys() \n",
        ">>> dict_keys([b'training batch 1 of 5', b'training batch 2 of 5', b'training batch 3 of 5', b'training batch 4 of 5', b'training batch 5 of 5', b'testing batch 1 of 1'])\n",
        "\n",
        "data[b'training batch 1 of 5'] # >>>> png names.....\n",
        "\n",
        "data[b'training batch 1 of 5'].keys() \n",
        ">>> dict_keys([b'batch_label', b'labels', b'data', b'filenames'])\n",
        "\n",
        "batch 1 training data and labels\n",
        "print(data[b'training batch 1 of 5'][b'data'].shape)     # >>> (10000, 3072)     \n",
        "print(len(data[b'training batch 1 of 5'][b'labels']))    # >>> 10000\n",
        "\n",
        "\n",
        "(10000, 3072)\n",
        "10000 labels as it is batch 1 of 5 ie 10000 out of 50000 images\n",
        "32 x 32 pixels image # 3 colour depth 32323 = 3072\n",
        "```"
      ]
    },
    {
      "cell_type": "markdown",
      "metadata": {
        "id": "-3NOrBQ-Dovg"
      },
      "source": [
        "## Explain Data Pre-processing\n",
        "\n",
        "We may refer to data as data_dico to make it clear these are just example code so they are not accidently run without proper intention"
      ]
    },
    {
      "cell_type": "markdown",
      "metadata": {
        "id": "ZBjN6bmFDovg"
      },
      "source": [
        "```python\n",
        "# Looking at the training batch 1 training examples\n",
        "\n",
        "data_dico[b'training batch 1 of 5'][b'data'].shape # stored 10000 flattened images in 1d arrays each of size 3072\n",
        ">>> (10000, 3072)\n",
        "\n",
        "data_dico[b'training batch 1 of 5'][b'data'][0] # The 1st image which is stored as a row of (3072,)\n",
        ">>> array([ 59,  43,  50, ..., 140,  84,  72], dtype=uint8)\n",
        "```\n",
        "\n",
        "According to [cifar-10 dataset website](https://www.cs.toronto.edu/~kriz/cifar.html), it confirms that yes this is a 10000 by 3072 2D numpy array and that each of these rows (which are numpy arrays 1 x 3072 aka (3072,)) represent a 32 by 32 coloured image.\n",
        "\n",
        "Each image is stored as RGB values. It also tells us that the first 1024 values in this row represent the red colour values. The next 1024 values are green with the last 1024 being blue. So in total that is 3072 data values for each image.\n",
        "\n",
        "So if we wanted to visualise an image from this array 3072 of data points in 2 dimensions so it is a 32 by 32 image by 3 for 3 colour depth, then we should note that the image is in 'row-major order' so the first 32 values of the array would be red colour values for the first row of the image.\n",
        "\n",
        "Therefore we must reshape this data to 32 by 32 by 3 (32 rows, 32 columns, 3 colour depth) format so we can plot it in matplotlib for visualisation.\n",
        "\n",
        "So first due to the 'row-major' order as well we must do 2 operations;\n",
        "* The first will reshape each 3072 array (from our 10000 by 3072 matrix), into a 3 by 32 by 32 3D numpy array\n",
        "    * with the 1st dimension representing the 3 RGB channels\n",
        "    * with the 2nd dimension representing the 32 pixels in a row\n",
        "    * and finally the 3rd dimension representing the 32 columns\n",
        "\n",
        "* The second operation will just transpose our matrix so we can put that 1st RGB dimension at the back, so we turn the shape from (3,32,32) to a (32,32,3)\n",
        "    * we do this by passing in parameters into the transpose function which labels the columns [RGB, pixel rows,  pixel columns] as [1,2,0] and re-orders       them as [0,1,2] so [pixel rows,  pixel columns, RGB]. Therefore we can put that 1st RGB dimension at the back. This means each RGB value for each pixel (of each image) will be stored together as shown below"
      ]
    },
    {
      "cell_type": "markdown",
      "metadata": {
        "id": "D5-lMLihDovh"
      },
      "source": [
        "### Reshape and Transpose\n",
        "Example on just 1 image:\n",
        "```python\n",
        "\n",
        "an_image = data_dico[b'training batch 1 of 5'][b'data'][0].reshape([3,32,32]).transpose([1,2,0])\n",
        "print(an_image[0][0].shape)\n",
        ">>> (3,)\n",
        "print(an_image[0][0]) # a pixel 3 with r g b values \n",
        ">>> [59, 62, 63]\n",
        "\n",
        "# Reshape (3,32,32) as \n",
        "# 3 is for r g b values\n",
        "# 32 is for row of pixels\n",
        "# other 32 is for column of pixels\n",
        "\n",
        "# Transpose to (32,32,3) to store RBG values together for each pixel for each image\n",
        "# 32 is for row of pixels\n",
        "# other 32 is for column of pixels\n",
        "# 3 is for r g b values\n",
        "\n",
        "We convert from row-major or column-major order\n",
        "```\n",
        "#### We can execute this reshape and transpose on the whole dataset in this next normalise function but we will just see how it effects images individually when we plot them below."
      ]
    },
    {
      "cell_type": "markdown",
      "metadata": {
        "id": "EWX-bGYoDovi"
      },
      "source": [
        "### Plotting"
      ]
    },
    {
      "cell_type": "code",
      "metadata": {
        "id": "1b5Vxhr1Dovi",
        "outputId": "19741793-6182-4651-ab4a-eea11e6033aa",
        "colab": {
          "base_uri": "https://localhost:8080/"
        }
      },
      "source": [
        "data[b'training batch 1 of 5'][b'data'][0].T[0].shape"
      ],
      "execution_count": 16,
      "outputs": [
        {
          "output_type": "execute_result",
          "data": {
            "text/plain": [
              "(32, 32)"
            ]
          },
          "metadata": {
            "tags": []
          },
          "execution_count": 16
        }
      ]
    },
    {
      "cell_type": "code",
      "metadata": {
        "id": "u0ete99eDovi",
        "outputId": "9f7d6865-0fed-4cf6-9035-2578a16a3611",
        "colab": {
          "base_uri": "https://localhost:8080/",
          "height": 199
        }
      },
      "source": [
        "def image_RGB_channels_viewer(data_dico, batch_name, index):\n",
        "    if True: #if data[batch_name][b'data'][index].ndim == 1: # check if 1 flattened vector for image\n",
        "        fig, ax = plt.subplots(1,3)\n",
        "        # ax[0].imshow(data_dico[batch_name][b'data'][index].reshape([3,32,32])[0], cmap='Reds_r')\n",
        "        # ax[1].imshow(data_dico[batch_name][b'data'][index].reshape([3,32,32])[1], cmap='Greens_r')\n",
        "        # ax[2].imshow(data_dico[batch_name][b'data'][index].reshape([3,32,32])[2], cmap='Blues_r')\n",
        "        ax[0].imshow(data_dico[batch_name][b'data'][index].T[0], cmap='Reds_r')\n",
        "        ax[1].imshow(data_dico[batch_name][b'data'][index].T[1], cmap='Greens_r')\n",
        "        ax[2].imshow(data_dico[batch_name][b'data'][index].T[2], cmap='Blues_r')\n",
        "\n",
        "        # FOR CIFAR from tf data\n",
        "        l = \"\"\n",
        "        try:\n",
        "            l = label_classes[data_dico[batch_name][b'labels'][index]] # if labels stored as list not from tf data\n",
        "        except:\n",
        "            pass\n",
        "        try: \n",
        "            # 0 is for numpy array in case array([6], dtype=uint8) is returned\n",
        "            l = label_classes[data_dico[batch_name][b'labels'][index][0]] # if labels are already numpy array\n",
        "        except:\n",
        "            pass\n",
        "        # FOR CIFAR from tf data\n",
        "\n",
        "        ax[1].set_title(\"3 RGB channels for 1 image\\n\"+l, size=25)\n",
        "        plt.show()\n",
        "    # else:\n",
        "    #     print(\"ERROR: Data provided is not 1 flattened vector for image. Please use plot_image_data instead. Data dimension currently is: {}\".format(data_dico[batch_name][b'data'][index].ndim))\n",
        "\n",
        "# Plot 3 RGB channels for training image in batch 1 separately \n",
        "image_RGB_channels_viewer(data, b'training batch 1 of 5', 6)"
      ],
      "execution_count": 17,
      "outputs": [
        {
          "output_type": "display_data",
          "data": {
            "image/png": "[encoded data removed]",
            "text/plain": [
              "<Figure size 432x288 with 3 Axes>"
            ]
          },
          "metadata": {
            "tags": [],
            "needs_background": "light"
          }
        }
      ]
    },
    {
      "cell_type": "code",
      "metadata": {
        "id": "shw5NGf2Dovj",
        "outputId": "dd07edda-4a8d-464a-e1ac-7e12f138fcea",
        "colab": {
          "base_uri": "https://localhost:8080/",
          "height": 290
        }
      },
      "source": [
        "def plot_image_data(the_image_data, label):\n",
        "    fig, ax = plt.subplots()\n",
        "    ax.imshow(the_image_data)\n",
        "    ax.set_title(label, size=25)\n",
        "    return fig, ax\n",
        "\n",
        "def image_viewer_from_flattened_data(data_dico, batch_name, index):\n",
        "    if True: #data_dico[batch_name][b'data'][index].ndim == 1: # check if 1 flattened vector for image\n",
        "        \n",
        "        # FOR CIFAR from tf data\n",
        "        l = \"\"\n",
        "        try:\n",
        "            l = label_classes[data_dico[batch_name][b'labels'][index]] # if labels stored as list not from tf data\n",
        "        except:\n",
        "            pass\n",
        "        try: \n",
        "            # 0 is for numpy array in case array([6], dtype=uint8) is returned\n",
        "            l = label_classes[data_dico[batch_name][b'labels'][index][0]] # if labels are already numpy array\n",
        "        except:\n",
        "            pass\n",
        "        # FOR CIFAR from tf data\n",
        "\n",
        "        # a_fig, a_ax = plot_image_data(the_image_data=data_dico[batch_name][b'data'][index].reshape([3,32,32]).transpose([1,2,0]),label=l)\n",
        "        a_fig, a_ax = plot_image_data(the_image_data=data_dico[batch_name][b'data'][index],label=l)\n",
        "        plt.show()\n",
        "    # else:\n",
        "    #     print(\"ERROR: Data provided is not 1 flattened vector for image. Please use plot_image_data instead. Data dimension currently is: {}\".format(data_dico[batch_name][b'data'][index].ndim))\n",
        "\n",
        "# training image in batch 1\n",
        "# 3D Numpy array Real image. Default settings from imshow.\n",
        "image_viewer_from_flattened_data(data, batch_name=b'training batch 1 of 5', index=6)"
      ],
      "execution_count": 18,
      "outputs": [
        {
          "output_type": "display_data",
          "data": {
            "image/png": "[encoded data removed]",
            "text/plain": [
              "<Figure size 432x288 with 1 Axes>"
            ]
          },
          "metadata": {
            "tags": [],
            "needs_background": "light"
          }
        }
      ]
    },
    {
      "cell_type": "code",
      "metadata": {
        "id": "qkj5qvo-Dovj",
        "outputId": "a0aa7ff5-524b-4c98-b6a5-c562a76eeb96",
        "colab": {
          "base_uri": "https://localhost:8080/",
          "height": 290
        }
      },
      "source": [
        "# Testing image in testing batch\n",
        "image_viewer_from_flattened_data(data, batch_name=b'testing batch 1 of 1', index=15)"
      ],
      "execution_count": 19,
      "outputs": [
        {
          "output_type": "display_data",
          "data": {
            "image/png": "[encoded data removed]",
            "text/plain": [
              "<Figure size 432x288 with 1 Axes>"
            ]
          },
          "metadata": {
            "tags": [],
            "needs_background": "light"
          }
        }
      ]
    },
    {
      "cell_type": "markdown",
      "metadata": {
        "id": "Rs74MNrvDovk"
      },
      "source": [
        "## Execute Data Pre-processing: Normalisation and Reshape Function"
      ]
    },
    {
      "cell_type": "markdown",
      "metadata": {
        "id": "Pu3oTIwaDovk"
      },
      "source": [
        "### Quick Check before Normalisation\n",
        "\n",
        "```Python\n",
        "print(\"Training set min: {}, max: {}\".format(b1_dico[b'data'].min(), b1_dico[b'data'].max())) # Training set min: 0, max: 255\n",
        "print(\"Labels min: {}, max: {}\".format(min(b1_dico[b'labels']), max(b1_dico[b'labels']))) # Labels min: 0, max: 9\n",
        "```\n",
        "Data values will be between 0 and 255 and we will check this during the normalising process for each batch"
      ]
    },
    {
      "cell_type": "markdown",
      "metadata": {
        "id": "ht7ejCiWDovk"
      },
      "source": [
        "We see that a singular image can be changed using: \n",
        "```python\n",
        "data_dico[b'training batch 1 of 5'][b'data'][index].reshape([3,32,32]).transpose([1,2,0])\n",
        "```\n",
        "For a whole batch of images we can do this: \n",
        "```python\n",
        "data_dico[b'training batch 1 of 5'][b'data'].shape\n",
        "# >>> (10000, 3072)\n",
        "data_dico[b'training batch 1 of 5'][b'data'].reshape(10000, 3, 32, 32).transpose([0,2,3,1]).shape  # convert from 2D numpy array (10000,3072) to 4D numpy array (10000, 32, 32, 3)\n",
        "# >>> (10000, 32, 32, 3)\n",
        "```"
      ]
    },
    {
      "cell_type": "code",
      "metadata": {
        "id": "1bMl_JEGDovk"
      },
      "source": [
        "def normalise_data(data_dico):\n",
        "    \"\"\" For each batch data in data dico, normalise this data between 0 and 1 and convert reshape data matrices for proper image representation.\n",
        "\n",
        "    E.g. Convert a batch from convert from 2D numpy array (10000,3072) to 4D numpy array (10000, 32, 32, 3)\n",
        "    where 10000 is number of training/testing examples, 32 pixel row, 32 pixel column, 3 colour depth.\n",
        "    As a result, each image/example in the 4D numpy array of a batch, is now represented as a 3D numpy array (32, 32, 3) rather than rather than a 1D numpy array of size (3072,).\n",
        "    \n",
        "    :param data_dico: dictionary of format described above.\n",
        "    :return: Changes data dictionary passed and returns\n",
        "    \"\"\"\n",
        "\n",
        "    for key in data_dico.keys(): # A key represent a name of batch. Includes training batch 1 to 5 and testing batch.\n",
        "    \n",
        "        # Normalise data from 0 and 255 to between 0 and 1    \n",
        "        data_dico[key][b'data'] = data_dico[key][b'data'] / data_dico[key][b'data'].max()\n",
        "\n",
        "        # Convert a batch from convert from 2D numpy array (10000,3072) to 4D numpy array (10000, 32, 32, 3) although 10000 can be any number of examples:\n",
        "        #\n",
        "        #DONT need for CIFAR10 from tf data\n",
        "        #\n",
        "        #n = data_dico[key][b'data'].shape[0] # number of training/testing examples\n",
        "        #data_dico[key][b'data'] = data_dico[key][b'data'].reshape(n,3,32,32).transpose([0,2,3,1])\n",
        "\n",
        "    return data_dico"
      ],
      "execution_count": 20,
      "outputs": []
    },
    {
      "cell_type": "code",
      "metadata": {
        "id": "luke-tFwDovl"
      },
      "source": [
        "data = normalise_data(data)"
      ],
      "execution_count": 21,
      "outputs": []
    },
    {
      "cell_type": "markdown",
      "metadata": {
        "id": "9wI0Y8awDovl"
      },
      "source": [
        "### Final Check to see if normalisation and reshaping done correctly by plotting "
      ]
    },
    {
      "cell_type": "code",
      "metadata": {
        "id": "ZFFd0sg7Dovl",
        "outputId": "9e2d0aed-719c-494c-b020-6e537540ec69",
        "colab": {
          "base_uri": "https://localhost:8080/",
          "height": 0
        }
      },
      "source": [
        "def image_viewer_from_4D_data(dico, batch_name, index):\n",
        "    # FOR CIFAR from tf data\n",
        "    l = \"\"\n",
        "    try:\n",
        "        l = label_classes[data_dico[batch_name][b'labels'][index]] # if labels stored as list not from tf data\n",
        "    except:\n",
        "        pass\n",
        "    try: \n",
        "        # 0 is for numpy array in case array([6], dtype=uint8) is returned\n",
        "        l = label_classes[data_dico[batch_name][b'labels'][index][0]] # if labels are already numpy array\n",
        "    except:\n",
        "        pass\n",
        "    # FOR CIFAR from tf data\n",
        "        \n",
        "    plot_image_data(dico[batch_name][b'data'][index], l)\n",
        "    plt.show()\n",
        "\n",
        "image_viewer_from_4D_data(data, b'training batch 1 of 5', 0)\n",
        "data[b'training batch 1 of 5'][b'data'][0].shape"
      ],
      "execution_count": 22,
      "outputs": [
        {
          "output_type": "display_data",
          "data": {
            "image/png": "[encoded data removed]",
            "text/plain": [
              "<Figure size 432x288 with 1 Axes>"
            ]
          },
          "metadata": {
            "tags": [],
            "needs_background": "light"
          }
        },
        {
          "output_type": "execute_result",
          "data": {
            "text/plain": [
              "(32, 32, 3)"
            ]
          },
          "metadata": {
            "tags": []
          },
          "execution_count": 22
        }
      ]
    },
    {
      "cell_type": "code",
      "metadata": {
        "id": "WvKNLURIDovm",
        "outputId": "fcc7d7f2-c6dd-4425-ea39-0973c3a1cd53",
        "colab": {
          "base_uri": "https://localhost:8080/"
        }
      },
      "source": [
        "data[b'training batch 1 of 5'][b'data'].shape"
      ],
      "execution_count": 23,
      "outputs": [
        {
          "output_type": "execute_result",
          "data": {
            "text/plain": [
              "(10000, 32, 32, 3)"
            ]
          },
          "metadata": {
            "tags": []
          },
          "execution_count": 23
        }
      ]
    },
    {
      "cell_type": "markdown",
      "metadata": {
        "id": "mRjk9mn7Dovm"
      },
      "source": [
        "## Neural Network Classification\n",
        "TensorFlow Machine Learning Module Used for Neural Network Classification"
      ]
    },
    {
      "cell_type": "code",
      "metadata": {
        "id": "jFzH2tq3Dovm",
        "outputId": "7cc750b9-a2ce-458c-ba9d-f86ac9f08bbc",
        "colab": {
          "base_uri": "https://localhost:8080/"
        }
      },
      "source": [
        "# We use softmax for classification at the end for the 10 classes to get relative probabilities so if you add them all up you get 1\n",
        "# Highest probability will be what the network has predicted is the label for that image\n",
        "\n",
        "# model = tf.keras.Sequential([\n",
        "#     tf.keras.layers.Flatten(input_shape=(32,32,3)), # Here we flatten each image back to 1D again just for experimentation with this Naive network\n",
        "#     tf.keras.layers.Dense(128, activation=tf.nn.relu),\n",
        "#     tf.keras.layers.Dense(len(label_classes), activation=tf.nn.softmax) # len(label_classes) is 10\n",
        "# ])\n",
        "# model.summary()\n",
        "\n",
        "model = tf.keras.Sequential([\n",
        "    tf.keras.layers.Input((32,32,3)), # 2D Image\n",
        "\n",
        "    # Feature Extraction Convolution & Pooling layers\n",
        "    tf.keras.layers.Conv2D(filters=32, kernel_size=(3,3), activation = tf.nn.relu), #n filters, kernel_size is size of filter to detect specfic features\n",
        "    tf.keras.layers.MaxPooling2D((2,2)),\n",
        "    tf.keras.layers.Conv2D(filters=64, kernel_size=(3,3), activation = tf.nn.relu),\n",
        "    tf.keras.layers.MaxPooling2D((2,2)),\n",
        "    tf.keras.layers.Conv2D(filters=128, kernel_size=(3,3), activation = tf.nn.relu),\n",
        "    tf.keras.layers.MaxPooling2D((2,2)),\n",
        "\n",
        "    # Classification Layer\n",
        "    tf.keras.layers.Flatten(),\n",
        "    tf.keras.layers.Dense(64, activation=tf.nn.relu),\n",
        "    tf.keras.layers.Dense(len(label_classes), activation=tf.nn.softmax) # len(label_classes) is 10\n",
        "])\n",
        "model.summary()"
      ],
      "execution_count": 24,
      "outputs": [
        {
          "output_type": "stream",
          "text": [
            "Model: \"sequential\"\n",
            "_________________________________________________________________\n",
            "Layer (type)                 Output Shape              Param #   \n",
            "=================================================================\n",
            "conv2d (Conv2D)              (None, 30, 30, 32)        896       \n",
            "_________________________________________________________________\n",
            "max_pooling2d (MaxPooling2D) (None, 15, 15, 32)        0         \n",
            "_________________________________________________________________\n",
            "conv2d_1 (Conv2D)            (None, 13, 13, 64)        18496     \n",
            "_________________________________________________________________\n",
            "max_pooling2d_1 (MaxPooling2 (None, 6, 6, 64)          0         \n",
            "_________________________________________________________________\n",
            "conv2d_2 (Conv2D)            (None, 4, 4, 128)         73856     \n",
            "_________________________________________________________________\n",
            "max_pooling2d_2 (MaxPooling2 (None, 2, 2, 128)         0         \n",
            "_________________________________________________________________\n",
            "flatten (Flatten)            (None, 512)               0         \n",
            "_________________________________________________________________\n",
            "dense (Dense)                (None, 64)                32832     \n",
            "_________________________________________________________________\n",
            "dense_1 (Dense)              (None, 10)                650       \n",
            "=================================================================\n",
            "Total params: 126,730\n",
            "Trainable params: 126,730\n",
            "Non-trainable params: 0\n",
            "_________________________________________________________________\n"
          ],
          "name": "stdout"
        }
      ]
    },
    {
      "cell_type": "code",
      "metadata": {
        "id": "x9p-b3D5Dovm"
      },
      "source": [
        "model.compile(loss='sparse_categorical_crossentropy', optimizer='adam', metrics=['accuracy'])\n",
        "# We are going to use sparse_categorical_crossentropy\n",
        "# After some testing I realise that categorical_crossentropy is used for labels being one hot encoded values for example [[0,1], [1,0]] like this \n",
        "# whereas sparse_categorical_crossentropy is for if your labels being direct values e.g. [2, 1] and this would be more efficient\n",
        "# in terms of space and times complexity as we don't need to store another list/vector for each label, we store a singular value\n",
        "#  and also it takes less time as we directly access the label from a single 1d list rather than searching through a list inside of another list to find where the 1 is that signifies the 1 hot encoded label class"
      ],
      "execution_count": 25,
      "outputs": []
    },
    {
      "cell_type": "code",
      "metadata": {
        "id": "w8ZgHrL4Dovn",
        "outputId": "7c6775d1-0896-44da-d8e3-6d077aecf256",
        "colab": {
          "base_uri": "https://localhost:8080/"
        }
      },
      "source": [
        "def concat_numpy_arr(dico, batch_key_info):\n",
        "    \"\"\" Used to concatenate all batches concatenated together.\n",
        "    \n",
        "    Can be used for data or labels.\n",
        "    \"\"\"\n",
        "    arr = None\n",
        "    for k in data.keys(): # k is batch name\n",
        "        if k != b'testing batch 1 of 1':\n",
        "            if arr is None:\n",
        "                arr = dico[k][batch_key_info]\n",
        "            else:\n",
        "                arr = np.concatenate((arr, dico[k][batch_key_info]))\n",
        "    return arr\n",
        "\n",
        "big_x_Train = concat_numpy_arr(data, b'data')\n",
        "big_y_Train = concat_numpy_arr(data, b'labels')\n",
        "print(big_x_Train.shape)\n",
        "print(big_x_Train.shape)"
      ],
      "execution_count": 26,
      "outputs": [
        {
          "output_type": "stream",
          "text": [
            "(50000, 32, 32, 3)\n",
            "(50000, 32, 32, 3)\n"
          ],
          "name": "stdout"
        }
      ]
    },
    {
      "cell_type": "code",
      "metadata": {
        "id": "fHagAX9UDovn",
        "outputId": "2e9b1812-06a0-43e3-f4da-2181ffc98f56",
        "colab": {
          "base_uri": "https://localhost:8080/"
        }
      },
      "source": [
        "# Training on all training batches concatenated together\n",
        "model.fit(big_x_Train, big_y_Train, epochs=10)"
      ],
      "execution_count": 27,
      "outputs": [
        {
          "output_type": "stream",
          "text": [
            "Epoch 1/10\n",
            "1563/1563 [==============================] - 37s 3ms/step - loss: 1.8042 - accuracy: 0.3297\n",
            "Epoch 2/10\n",
            "1563/1563 [==============================] - 5s 3ms/step - loss: 1.2151 - accuracy: 0.5679\n",
            "Epoch 3/10\n",
            "1563/1563 [==============================] - 5s 3ms/step - loss: 1.0301 - accuracy: 0.6346\n",
            "Epoch 4/10\n",
            "1563/1563 [==============================] - 5s 3ms/step - loss: 0.9189 - accuracy: 0.6808\n",
            "Epoch 5/10\n",
            "1563/1563 [==============================] - 5s 3ms/step - loss: 0.8437 - accuracy: 0.7088\n",
            "Epoch 6/10\n",
            "1563/1563 [==============================] - 5s 3ms/step - loss: 0.7732 - accuracy: 0.7302\n",
            "Epoch 7/10\n",
            "1563/1563 [==============================] - 5s 3ms/step - loss: 0.7283 - accuracy: 0.7455\n",
            "Epoch 8/10\n",
            "1563/1563 [==============================] - 5s 3ms/step - loss: 0.6786 - accuracy: 0.7615\n",
            "Epoch 9/10\n",
            "1563/1563 [==============================] - 5s 3ms/step - loss: 0.6396 - accuracy: 0.7785\n",
            "Epoch 10/10\n",
            "1563/1563 [==============================] - 5s 3ms/step - loss: 0.5972 - accuracy: 0.7922\n"
          ],
          "name": "stdout"
        },
        {
          "output_type": "execute_result",
          "data": {
            "text/plain": [
              "<tensorflow.python.keras.callbacks.History at 0x7f83f0314bd0>"
            ]
          },
          "metadata": {
            "tags": []
          },
          "execution_count": 27
        }
      ]
    },
    {
      "cell_type": "code",
      "metadata": {
        "id": "MLZo3ZTrDovn"
      },
      "source": [
        "# for k in data.keys():\n",
        "#     if k != b'testing batch 1 of 1':\n",
        "#         # k is batch name\n",
        "#         x = data[k][b'data']\n",
        "#         y = np.array(data[k][b'labels'])\n",
        "\n",
        "#         model.fit(x, y, epochs=10) # had to but labels into a numpy array rather than a list\n",
        "\n",
        "# i = 0\n",
        "# k = list(data.keys())[i]\n",
        "# x = data[k][b'data']\n",
        "# y = np.array(data[k][b'labels'])\n",
        "# model.fit(x, y, epochs=10)"
      ],
      "execution_count": 28,
      "outputs": []
    },
    {
      "cell_type": "code",
      "metadata": {
        "id": "4tVsyJX1Dovo"
      },
      "source": [
        "# i = 1\n",
        "# k = list(data.keys())[i]\n",
        "# x = data[k][b'data']\n",
        "# y = np.array(data[k][b'labels'])\n",
        "# model.fit(x, y, epochs=10)"
      ],
      "execution_count": 29,
      "outputs": []
    },
    {
      "cell_type": "code",
      "metadata": {
        "id": "VO_Cy48CDovo"
      },
      "source": [
        "# i = 2\n",
        "# k = list(data.keys())[i]\n",
        "# x = data[k][b'data']\n",
        "# y = np.array(data[k][b'labels'])\n",
        "# model.fit(x, y, epochs=10)"
      ],
      "execution_count": 30,
      "outputs": []
    },
    {
      "cell_type": "code",
      "metadata": {
        "id": "ejTL0udmDovo"
      },
      "source": [
        "# i = 3\n",
        "# k = list(data.keys())[i]\n",
        "# x = data[k][b'data']\n",
        "# y = np.array(data[k][b'labels'])\n",
        "# model.fit(x, y, epochs=10)"
      ],
      "execution_count": 31,
      "outputs": []
    },
    {
      "cell_type": "code",
      "metadata": {
        "id": "lU05-PZgDovo"
      },
      "source": [
        "# i = 4\n",
        "# k = list(data.keys())[i]\n",
        "# x = data[k][b'data']\n",
        "# y = np.array(data[k][b'labels'])\n",
        "# model.fit(x, y, epochs=10)"
      ],
      "execution_count": 32,
      "outputs": []
    },
    {
      "cell_type": "code",
      "metadata": {
        "id": "hMt8ZP6cDovo",
        "outputId": "63db13e0-4b3c-4a05-d191-18e1b94af355",
        "colab": {
          "base_uri": "https://localhost:8080/"
        }
      },
      "source": [
        "# Unseen Data\n",
        "# i = 5\n",
        "# k = list(data.keys())[i]\n",
        "k = b'testing batch 1 of 1'\n",
        "x_unseen = data[k][b'data']\n",
        "y_unseen = np.array(data[k][b'labels'])\n",
        "\n",
        "# testing on unseen data\n",
        "validation_loss, validation_accuracy = model.evaluate(x_unseen, y_unseen)"
      ],
      "execution_count": 33,
      "outputs": [
        {
          "output_type": "stream",
          "text": [
            "313/313 [==============================] - 1s 2ms/step - loss: 0.8748 - accuracy: 0.7105\n"
          ],
          "name": "stdout"
        }
      ]
    },
    {
      "cell_type": "code",
      "metadata": {
        "id": "R4S12WqTDovp",
        "outputId": "b262793a-a876-4088-c729-9994522b2201",
        "colab": {
          "base_uri": "https://localhost:8080/"
        }
      },
      "source": [
        "print(\"Testing loss on our unseen data: {}\".format(validation_loss))"
      ],
      "execution_count": 34,
      "outputs": [
        {
          "output_type": "stream",
          "text": [
            "Testing loss on our unseen data: 0.874803900718689\n"
          ],
          "name": "stdout"
        }
      ]
    },
    {
      "cell_type": "code",
      "metadata": {
        "id": "KJ3Fs0r0Dovp",
        "outputId": "4b2b0ee9-665b-426c-868d-a57aceb5f1ed",
        "colab": {
          "base_uri": "https://localhost:8080/"
        }
      },
      "source": [
        "print(\"Testing Accuracy on our unseen data: {}\".format(validation_accuracy))"
      ],
      "execution_count": 35,
      "outputs": [
        {
          "output_type": "stream",
          "text": [
            "Testing Accuracy on our unseen data: 0.7105000019073486\n"
          ],
          "name": "stdout"
        }
      ]
    }
  ]
}