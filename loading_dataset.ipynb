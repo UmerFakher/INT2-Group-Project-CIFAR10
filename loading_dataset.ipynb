{
 "metadata": {
  "language_info": {
   "codemirror_mode": {
    "name": "ipython",
    "version": 3
   },
   "file_extension": ".py",
   "mimetype": "text/x-python",
   "name": "python",
   "nbconvert_exporter": "python",
   "pygments_lexer": "ipython3",
   "version": "3.7.3"
  },
  "orig_nbformat": 2,
  "kernelspec": {
   "name": "python373jvsc74a57bd07a47bf6e4dce792c65a7d49caf54e729a54726c5dc0326382809f81559c32857",
   "display_name": "Python 3.7.3 64-bit ('base': conda)"
  }
 },
 "nbformat": 4,
 "nbformat_minor": 2,
 "cells": [
  {
   "cell_type": "code",
   "execution_count": 6,
   "metadata": {},
   "outputs": [],
   "source": [
    "import File_Manager_Tar_Gz as fm"
   ]
  },
  {
   "cell_type": "code",
   "execution_count": 7,
   "metadata": {},
   "outputs": [
    {
     "output_type": "stream",
     "name": "stdout",
     "text": [
      "Error: File already downloaded as file cifar-10-python.tar.gz/\nFalse\nError: File already extracted as folder cifar-10-batches-py/\nFalse\n"
     ]
    }
   ],
   "source": [
    "file_name = \"cifar-10-python.tar.gz\"\n",
    "website_link = \"https://www.cs.toronto.edu/~kriz/cifar-10-python.tar.gz\"\n",
    "\n",
    "print(fm.download_file_tar_gz(dataset_link=website_link, dataset_file_name=file_name))\n",
    "print(fm.open_file_tar_gz(file_name))"
   ]
  },
  {
   "cell_type": "code",
   "execution_count": 8,
   "metadata": {},
   "outputs": [],
   "source": [
    "def print_batch_summary(batch_file=\"cifar-10-batches-py/data_batch_1\"):\n",
    "    dico = fm.unpickle(batch_file)\n",
    "    \n",
    "    keys = dico.keys()\n",
    "    batch_label = dico[b'batch_label']\n",
    "    labels = dico[b'labels'][0:5]\n",
    "    data = dico[b'data'][0:5]\n",
    "    filenames = dico[b'filenames'][0:5]\n",
    "    \n",
    "    summary = [batch_label, labels, data, filenames]\n",
    "\n",
    "    for k, s in zip(keys, summary):\n",
    "        print(\"\\n_______{}_______:  \\n{}\".format(k, s))"
   ]
  },
  {
   "cell_type": "code",
   "execution_count": 9,
   "metadata": {},
   "outputs": [
    {
     "output_type": "stream",
     "name": "stdout",
     "text": [
      "\n_______b'batch_label'_______:  \nb'training batch 1 of 5'\n\n_______b'labels'_______:  \n[6, 9, 9, 4, 1]\n\n_______b'data'_______:  \n[[ 59  43  50 ... 140  84  72]\n [154 126 105 ... 139 142 144]\n [255 253 253 ...  83  83  84]\n [ 28  37  38 ...  28  37  46]\n [170 168 177 ...  82  78  80]]\n\n_______b'filenames'_______:  \n[b'leptodactylus_pentadactylus_s_000004.png', b'camion_s_000148.png', b'tipper_truck_s_001250.png', b'american_elk_s_001521.png', b'station_wagon_s_000293.png']\n"
     ]
    }
   ],
   "source": [
    "print_batch_summary()"
   ]
  },
  {
   "cell_type": "code",
   "execution_count": 10,
   "metadata": {},
   "outputs": [],
   "source": [
    "# Use dico = fm.unpickle(batch_file) to read batch file"
   ]
  }
 ]
}